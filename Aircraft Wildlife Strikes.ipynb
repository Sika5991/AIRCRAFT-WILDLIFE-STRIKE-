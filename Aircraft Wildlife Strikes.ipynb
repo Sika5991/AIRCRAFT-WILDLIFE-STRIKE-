{
 "cells": [
  {
   "cell_type": "code",
   "execution_count": 367,
   "metadata": {},
   "outputs": [],
   "source": [
    "# Import libraries\n",
    "import pandas as pd\n",
    "%matplotlib inline\n",
    "import matplotlib.pyplot as plt\n",
    "import numpy as np\n",
    "from ydata_profiling import ProfileReport\n",
    "import seaborn as sns\n",
    "import plotly.express as px\n",
    "from mpl_toolkits.mplot3d import Axes3D\n",
    "import scipy.stats as stats"
   ]
  },
  {
   "cell_type": "markdown",
   "metadata": {},
   "source": [
    "## Data Cleaning"
   ]
  },
  {
   "cell_type": "code",
   "execution_count": 328,
   "metadata": {},
   "outputs": [
    {
     "name": "stderr",
     "output_type": "stream",
     "text": [
      "/var/folders/gf/dq2q27v16rxg12671zrdw3nm0000gn/T/ipykernel_22253/3535943591.py:2: DtypeWarning:\n",
      "\n",
      "Columns (18,21) have mixed types. Specify dtype option on import or set low_memory=False.\n",
      "\n"
     ]
    },
    {
     "data": {
      "text/html": [
       "<div>\n",
       "<style scoped>\n",
       "    .dataframe tbody tr th:only-of-type {\n",
       "        vertical-align: middle;\n",
       "    }\n",
       "\n",
       "    .dataframe tbody tr th {\n",
       "        vertical-align: top;\n",
       "    }\n",
       "\n",
       "    .dataframe thead th {\n",
       "        text-align: right;\n",
       "    }\n",
       "</style>\n",
       "<table border=\"1\" class=\"dataframe\">\n",
       "  <thead>\n",
       "    <tr style=\"text-align: right;\">\n",
       "      <th></th>\n",
       "      <th>INDEX_NR</th>\n",
       "      <th>INCIDENT_DATE</th>\n",
       "      <th>INCIDENT_MONTH</th>\n",
       "      <th>INCIDENT_YEAR</th>\n",
       "      <th>TIME</th>\n",
       "      <th>TIME_OF_DAY</th>\n",
       "      <th>AIRPORT_ID</th>\n",
       "      <th>AIRPORT</th>\n",
       "      <th>LATITUDE</th>\n",
       "      <th>LONGITUDE</th>\n",
       "      <th>RUNWAY</th>\n",
       "      <th>STATE</th>\n",
       "      <th>FAAREGION</th>\n",
       "      <th>LOCATION</th>\n",
       "      <th>ENROUTE_STATE</th>\n",
       "      <th>OPID</th>\n",
       "      <th>OPERATOR</th>\n",
       "      <th>REG</th>\n",
       "      <th>FLT</th>\n",
       "      <th>AIRCRAFT</th>\n",
       "      <th>AMA</th>\n",
       "      <th>AMO</th>\n",
       "      <th>EMA</th>\n",
       "      <th>EMO</th>\n",
       "      <th>AC_CLASS</th>\n",
       "      <th>AC_MASS</th>\n",
       "      <th>TYPE_ENG</th>\n",
       "      <th>NUM_ENGS</th>\n",
       "      <th>ENG_1_POS</th>\n",
       "      <th>ENG_2_POS</th>\n",
       "      <th>ENG_3_POS</th>\n",
       "      <th>ENG_4_POS</th>\n",
       "      <th>PHASE_OF_FLIGHT</th>\n",
       "      <th>HEIGHT</th>\n",
       "      <th>SPEED</th>\n",
       "      <th>DISTANCE</th>\n",
       "      <th>SKY</th>\n",
       "      <th>PRECIPITATION</th>\n",
       "      <th>AOS</th>\n",
       "      <th>COST_REPAIRS</th>\n",
       "      <th>COST_OTHER</th>\n",
       "      <th>COST_REPAIRS_INFL_ADJ</th>\n",
       "      <th>COST_OTHER_INFL_ADJ</th>\n",
       "      <th>INGESTED_OTHER</th>\n",
       "      <th>INDICATED_DAMAGE</th>\n",
       "      <th>DAMAGE_LEVEL</th>\n",
       "      <th>STR_RAD</th>\n",
       "      <th>DAM_RAD</th>\n",
       "      <th>STR_WINDSHLD</th>\n",
       "      <th>DAM_WINDSHLD</th>\n",
       "      <th>STR_NOSE</th>\n",
       "      <th>DAM_NOSE</th>\n",
       "      <th>STR_ENG1</th>\n",
       "      <th>DAM_ENG1</th>\n",
       "      <th>ING_ENG1</th>\n",
       "      <th>STR_ENG2</th>\n",
       "      <th>DAM_ENG2</th>\n",
       "      <th>ING_ENG2</th>\n",
       "      <th>STR_ENG3</th>\n",
       "      <th>DAM_ENG3</th>\n",
       "      <th>ING_ENG3</th>\n",
       "      <th>STR_ENG4</th>\n",
       "      <th>DAM_ENG4</th>\n",
       "      <th>ING_ENG4</th>\n",
       "      <th>STR_PROP</th>\n",
       "      <th>DAM_PROP</th>\n",
       "      <th>STR_WING_ROT</th>\n",
       "      <th>DAM_WING_ROT</th>\n",
       "      <th>STR_FUSE</th>\n",
       "      <th>DAM_FUSE</th>\n",
       "      <th>STR_LG</th>\n",
       "      <th>DAM_LG</th>\n",
       "      <th>STR_TAIL</th>\n",
       "      <th>DAM_TAIL</th>\n",
       "      <th>STR_LGHTS</th>\n",
       "      <th>DAM_LGHTS</th>\n",
       "      <th>STR_OTHER</th>\n",
       "      <th>DAM_OTHER</th>\n",
       "      <th>OTHER_SPECIFY</th>\n",
       "      <th>EFFECT</th>\n",
       "      <th>EFFECT_OTHER</th>\n",
       "      <th>BIRD_BAND_NUMBER</th>\n",
       "      <th>SPECIES_ID</th>\n",
       "      <th>SPECIES</th>\n",
       "      <th>REMARKS</th>\n",
       "      <th>REMAINS_COLLECTED</th>\n",
       "      <th>REMAINS_SENT</th>\n",
       "      <th>WARNED</th>\n",
       "      <th>NUM_SEEN</th>\n",
       "      <th>NUM_STRUCK</th>\n",
       "      <th>SIZE</th>\n",
       "      <th>NR_INJURIES</th>\n",
       "      <th>NR_FATALITIES</th>\n",
       "      <th>COMMENTS</th>\n",
       "      <th>REPORTED_NAME</th>\n",
       "      <th>REPORTED_TITLE</th>\n",
       "      <th>SOURCE</th>\n",
       "      <th>PERSON</th>\n",
       "      <th>LUPDATE</th>\n",
       "      <th>TRANSFER</th>\n",
       "    </tr>\n",
       "  </thead>\n",
       "  <tbody>\n",
       "    <tr>\n",
       "      <th>0</th>\n",
       "      <td>608242</td>\n",
       "      <td>6/22/1996</td>\n",
       "      <td>6</td>\n",
       "      <td>1996</td>\n",
       "      <td>NaN</td>\n",
       "      <td>NaN</td>\n",
       "      <td>KSMF</td>\n",
       "      <td>SACRAMENTO INTL</td>\n",
       "      <td>38.69542</td>\n",
       "      <td>-121.59077</td>\n",
       "      <td>NaN</td>\n",
       "      <td>CA</td>\n",
       "      <td>AWP</td>\n",
       "      <td>NaN</td>\n",
       "      <td>NaN</td>\n",
       "      <td>UAL</td>\n",
       "      <td>UNITED AIRLINES</td>\n",
       "      <td>NaN</td>\n",
       "      <td>1768.0</td>\n",
       "      <td>B-737-300</td>\n",
       "      <td>148</td>\n",
       "      <td>24</td>\n",
       "      <td>10.0</td>\n",
       "      <td>1.0</td>\n",
       "      <td>A</td>\n",
       "      <td>4.0</td>\n",
       "      <td>D</td>\n",
       "      <td>2.0</td>\n",
       "      <td>1.0</td>\n",
       "      <td>1.0</td>\n",
       "      <td>NaN</td>\n",
       "      <td>NaN</td>\n",
       "      <td>Take-off Run</td>\n",
       "      <td>0.0</td>\n",
       "      <td>NaN</td>\n",
       "      <td>0.0</td>\n",
       "      <td>NaN</td>\n",
       "      <td>NaN</td>\n",
       "      <td>NaN</td>\n",
       "      <td>NaN</td>\n",
       "      <td>NaN</td>\n",
       "      <td>NaN</td>\n",
       "      <td>NaN</td>\n",
       "      <td>False</td>\n",
       "      <td>False</td>\n",
       "      <td>NaN</td>\n",
       "      <td>False</td>\n",
       "      <td>False</td>\n",
       "      <td>False</td>\n",
       "      <td>False</td>\n",
       "      <td>True</td>\n",
       "      <td>False</td>\n",
       "      <td>False</td>\n",
       "      <td>False</td>\n",
       "      <td>False</td>\n",
       "      <td>False</td>\n",
       "      <td>False</td>\n",
       "      <td>False</td>\n",
       "      <td>False</td>\n",
       "      <td>False</td>\n",
       "      <td>False</td>\n",
       "      <td>False</td>\n",
       "      <td>False</td>\n",
       "      <td>False</td>\n",
       "      <td>False</td>\n",
       "      <td>False</td>\n",
       "      <td>False</td>\n",
       "      <td>False</td>\n",
       "      <td>False</td>\n",
       "      <td>False</td>\n",
       "      <td>False</td>\n",
       "      <td>False</td>\n",
       "      <td>False</td>\n",
       "      <td>False</td>\n",
       "      <td>False</td>\n",
       "      <td>False</td>\n",
       "      <td>False</td>\n",
       "      <td>False</td>\n",
       "      <td>NaN</td>\n",
       "      <td>NaN</td>\n",
       "      <td>NaN</td>\n",
       "      <td>NaN</td>\n",
       "      <td>UNKBM</td>\n",
       "      <td>Unknown bird - medium</td>\n",
       "      <td>BLOOD ON L FWD NOSE AREA SEEN BY CREW AFTER LDG.</td>\n",
       "      <td>False</td>\n",
       "      <td>False</td>\n",
       "      <td>Unknown</td>\n",
       "      <td>NaN</td>\n",
       "      <td>1</td>\n",
       "      <td>Medium</td>\n",
       "      <td>NaN</td>\n",
       "      <td>NaN</td>\n",
       "      <td>/Legacy Record=100001/</td>\n",
       "      <td>REDACTED</td>\n",
       "      <td>REDACTED</td>\n",
       "      <td>Air Transport Report</td>\n",
       "      <td>Air Transport Operations</td>\n",
       "      <td>12/20/2007</td>\n",
       "      <td>False</td>\n",
       "    </tr>\n",
       "    <tr>\n",
       "      <th>1</th>\n",
       "      <td>608243</td>\n",
       "      <td>6/26/1996</td>\n",
       "      <td>6</td>\n",
       "      <td>1996</td>\n",
       "      <td>NaN</td>\n",
       "      <td>NaN</td>\n",
       "      <td>KDEN</td>\n",
       "      <td>DENVER INTL AIRPORT</td>\n",
       "      <td>39.85841</td>\n",
       "      <td>-104.66700</td>\n",
       "      <td>NaN</td>\n",
       "      <td>CO</td>\n",
       "      <td>ANM</td>\n",
       "      <td>NaN</td>\n",
       "      <td>NaN</td>\n",
       "      <td>UAL</td>\n",
       "      <td>UNITED AIRLINES</td>\n",
       "      <td>NaN</td>\n",
       "      <td>1845.0</td>\n",
       "      <td>B-737-300</td>\n",
       "      <td>148</td>\n",
       "      <td>24</td>\n",
       "      <td>10.0</td>\n",
       "      <td>1.0</td>\n",
       "      <td>A</td>\n",
       "      <td>4.0</td>\n",
       "      <td>D</td>\n",
       "      <td>2.0</td>\n",
       "      <td>1.0</td>\n",
       "      <td>1.0</td>\n",
       "      <td>NaN</td>\n",
       "      <td>NaN</td>\n",
       "      <td>Take-off Run</td>\n",
       "      <td>0.0</td>\n",
       "      <td>NaN</td>\n",
       "      <td>0.0</td>\n",
       "      <td>NaN</td>\n",
       "      <td>NaN</td>\n",
       "      <td>NaN</td>\n",
       "      <td>NaN</td>\n",
       "      <td>NaN</td>\n",
       "      <td>NaN</td>\n",
       "      <td>NaN</td>\n",
       "      <td>False</td>\n",
       "      <td>False</td>\n",
       "      <td>NaN</td>\n",
       "      <td>False</td>\n",
       "      <td>False</td>\n",
       "      <td>False</td>\n",
       "      <td>False</td>\n",
       "      <td>False</td>\n",
       "      <td>False</td>\n",
       "      <td>True</td>\n",
       "      <td>False</td>\n",
       "      <td>False</td>\n",
       "      <td>False</td>\n",
       "      <td>False</td>\n",
       "      <td>False</td>\n",
       "      <td>False</td>\n",
       "      <td>False</td>\n",
       "      <td>False</td>\n",
       "      <td>False</td>\n",
       "      <td>False</td>\n",
       "      <td>False</td>\n",
       "      <td>False</td>\n",
       "      <td>False</td>\n",
       "      <td>False</td>\n",
       "      <td>False</td>\n",
       "      <td>False</td>\n",
       "      <td>False</td>\n",
       "      <td>False</td>\n",
       "      <td>False</td>\n",
       "      <td>False</td>\n",
       "      <td>False</td>\n",
       "      <td>False</td>\n",
       "      <td>False</td>\n",
       "      <td>False</td>\n",
       "      <td>False</td>\n",
       "      <td>NaN</td>\n",
       "      <td>NaN</td>\n",
       "      <td>NaN</td>\n",
       "      <td>NaN</td>\n",
       "      <td>UNKBM</td>\n",
       "      <td>Unknown bird - medium</td>\n",
       "      <td>CREW SUSPECTED BIRDSTRIKE ON T/O. LOOKED LIKE ...</td>\n",
       "      <td>False</td>\n",
       "      <td>False</td>\n",
       "      <td>Unknown</td>\n",
       "      <td>NaN</td>\n",
       "      <td>1</td>\n",
       "      <td>Medium</td>\n",
       "      <td>NaN</td>\n",
       "      <td>NaN</td>\n",
       "      <td>/Legacy Record=100002/</td>\n",
       "      <td>REDACTED</td>\n",
       "      <td>REDACTED</td>\n",
       "      <td>Air Transport Report</td>\n",
       "      <td>Air Transport Operations</td>\n",
       "      <td>12/20/2007</td>\n",
       "      <td>False</td>\n",
       "    </tr>\n",
       "    <tr>\n",
       "      <th>2</th>\n",
       "      <td>608244</td>\n",
       "      <td>7/1/1996</td>\n",
       "      <td>7</td>\n",
       "      <td>1996</td>\n",
       "      <td>NaN</td>\n",
       "      <td>NaN</td>\n",
       "      <td>KOMA</td>\n",
       "      <td>EPPLEY AIRFIELD</td>\n",
       "      <td>41.30252</td>\n",
       "      <td>-95.89417</td>\n",
       "      <td>NaN</td>\n",
       "      <td>NE</td>\n",
       "      <td>ACE</td>\n",
       "      <td>NaN</td>\n",
       "      <td>NaN</td>\n",
       "      <td>UAL</td>\n",
       "      <td>UNITED AIRLINES</td>\n",
       "      <td>NaN</td>\n",
       "      <td>306.0</td>\n",
       "      <td>B-757-200</td>\n",
       "      <td>148</td>\n",
       "      <td>26</td>\n",
       "      <td>34.0</td>\n",
       "      <td>40.0</td>\n",
       "      <td>A</td>\n",
       "      <td>4.0</td>\n",
       "      <td>D</td>\n",
       "      <td>2.0</td>\n",
       "      <td>1.0</td>\n",
       "      <td>1.0</td>\n",
       "      <td>NaN</td>\n",
       "      <td>NaN</td>\n",
       "      <td>Take-off Run</td>\n",
       "      <td>0.0</td>\n",
       "      <td>NaN</td>\n",
       "      <td>0.0</td>\n",
       "      <td>NaN</td>\n",
       "      <td>NaN</td>\n",
       "      <td>NaN</td>\n",
       "      <td>NaN</td>\n",
       "      <td>NaN</td>\n",
       "      <td>NaN</td>\n",
       "      <td>NaN</td>\n",
       "      <td>False</td>\n",
       "      <td>False</td>\n",
       "      <td>N</td>\n",
       "      <td>False</td>\n",
       "      <td>False</td>\n",
       "      <td>False</td>\n",
       "      <td>False</td>\n",
       "      <td>False</td>\n",
       "      <td>False</td>\n",
       "      <td>False</td>\n",
       "      <td>False</td>\n",
       "      <td>False</td>\n",
       "      <td>True</td>\n",
       "      <td>False</td>\n",
       "      <td>False</td>\n",
       "      <td>False</td>\n",
       "      <td>False</td>\n",
       "      <td>False</td>\n",
       "      <td>False</td>\n",
       "      <td>False</td>\n",
       "      <td>False</td>\n",
       "      <td>False</td>\n",
       "      <td>False</td>\n",
       "      <td>False</td>\n",
       "      <td>False</td>\n",
       "      <td>False</td>\n",
       "      <td>False</td>\n",
       "      <td>False</td>\n",
       "      <td>False</td>\n",
       "      <td>False</td>\n",
       "      <td>False</td>\n",
       "      <td>False</td>\n",
       "      <td>False</td>\n",
       "      <td>False</td>\n",
       "      <td>False</td>\n",
       "      <td>NaN</td>\n",
       "      <td>NaN</td>\n",
       "      <td>NaN</td>\n",
       "      <td>NaN</td>\n",
       "      <td>UNKBM</td>\n",
       "      <td>Unknown bird - medium</td>\n",
       "      <td>BIRDSTRIKE AT ROTATION. INSPN. NO DMG.</td>\n",
       "      <td>False</td>\n",
       "      <td>False</td>\n",
       "      <td>Unknown</td>\n",
       "      <td>NaN</td>\n",
       "      <td>1</td>\n",
       "      <td>Medium</td>\n",
       "      <td>NaN</td>\n",
       "      <td>NaN</td>\n",
       "      <td>/Legacy Record=100003/</td>\n",
       "      <td>REDACTED</td>\n",
       "      <td>REDACTED</td>\n",
       "      <td>Air Transport Report</td>\n",
       "      <td>Air Transport Operations</td>\n",
       "      <td>12/20/2007</td>\n",
       "      <td>False</td>\n",
       "    </tr>\n",
       "    <tr>\n",
       "      <th>3</th>\n",
       "      <td>608245</td>\n",
       "      <td>7/1/1996</td>\n",
       "      <td>7</td>\n",
       "      <td>1996</td>\n",
       "      <td>NaN</td>\n",
       "      <td>NaN</td>\n",
       "      <td>KIAD</td>\n",
       "      <td>WASHINGTON DULLES INTL ARPT</td>\n",
       "      <td>38.94453</td>\n",
       "      <td>-77.45581</td>\n",
       "      <td>NaN</td>\n",
       "      <td>DC</td>\n",
       "      <td>AEA</td>\n",
       "      <td>NaN</td>\n",
       "      <td>NaN</td>\n",
       "      <td>UAL</td>\n",
       "      <td>UNITED AIRLINES</td>\n",
       "      <td>NaN</td>\n",
       "      <td>510.0</td>\n",
       "      <td>A-320</td>\n",
       "      <td>04A</td>\n",
       "      <td>03</td>\n",
       "      <td>23.0</td>\n",
       "      <td>1.0</td>\n",
       "      <td>A</td>\n",
       "      <td>4.0</td>\n",
       "      <td>D</td>\n",
       "      <td>2.0</td>\n",
       "      <td>1.0</td>\n",
       "      <td>1.0</td>\n",
       "      <td>NaN</td>\n",
       "      <td>NaN</td>\n",
       "      <td>Approach</td>\n",
       "      <td>1000.0</td>\n",
       "      <td>NaN</td>\n",
       "      <td>NaN</td>\n",
       "      <td>NaN</td>\n",
       "      <td>NaN</td>\n",
       "      <td>NaN</td>\n",
       "      <td>NaN</td>\n",
       "      <td>NaN</td>\n",
       "      <td>NaN</td>\n",
       "      <td>NaN</td>\n",
       "      <td>False</td>\n",
       "      <td>False</td>\n",
       "      <td>N</td>\n",
       "      <td>False</td>\n",
       "      <td>False</td>\n",
       "      <td>False</td>\n",
       "      <td>False</td>\n",
       "      <td>False</td>\n",
       "      <td>False</td>\n",
       "      <td>False</td>\n",
       "      <td>False</td>\n",
       "      <td>False</td>\n",
       "      <td>False</td>\n",
       "      <td>False</td>\n",
       "      <td>False</td>\n",
       "      <td>False</td>\n",
       "      <td>False</td>\n",
       "      <td>False</td>\n",
       "      <td>False</td>\n",
       "      <td>False</td>\n",
       "      <td>False</td>\n",
       "      <td>False</td>\n",
       "      <td>False</td>\n",
       "      <td>False</td>\n",
       "      <td>False</td>\n",
       "      <td>True</td>\n",
       "      <td>False</td>\n",
       "      <td>False</td>\n",
       "      <td>False</td>\n",
       "      <td>False</td>\n",
       "      <td>False</td>\n",
       "      <td>False</td>\n",
       "      <td>False</td>\n",
       "      <td>False</td>\n",
       "      <td>False</td>\n",
       "      <td>NaN</td>\n",
       "      <td>NaN</td>\n",
       "      <td>NaN</td>\n",
       "      <td>NaN</td>\n",
       "      <td>UNKBM</td>\n",
       "      <td>Unknown bird - medium</td>\n",
       "      <td>ON FINAL APCH, STRIKE UNDER THE NOSE OF THE CO...</td>\n",
       "      <td>False</td>\n",
       "      <td>False</td>\n",
       "      <td>Unknown</td>\n",
       "      <td>NaN</td>\n",
       "      <td>1</td>\n",
       "      <td>Medium</td>\n",
       "      <td>NaN</td>\n",
       "      <td>NaN</td>\n",
       "      <td>/Legacy Record=100004/</td>\n",
       "      <td>REDACTED</td>\n",
       "      <td>REDACTED</td>\n",
       "      <td>Air Transport Report</td>\n",
       "      <td>Air Transport Operations</td>\n",
       "      <td>12/20/2007</td>\n",
       "      <td>False</td>\n",
       "    </tr>\n",
       "    <tr>\n",
       "      <th>4</th>\n",
       "      <td>608246</td>\n",
       "      <td>7/1/1996</td>\n",
       "      <td>7</td>\n",
       "      <td>1996</td>\n",
       "      <td>NaN</td>\n",
       "      <td>NaN</td>\n",
       "      <td>KLGA</td>\n",
       "      <td>LA GUARDIA ARPT</td>\n",
       "      <td>40.77724</td>\n",
       "      <td>-73.87261</td>\n",
       "      <td>NaN</td>\n",
       "      <td>NY</td>\n",
       "      <td>AEA</td>\n",
       "      <td>NaN</td>\n",
       "      <td>NaN</td>\n",
       "      <td>UAL</td>\n",
       "      <td>UNITED AIRLINES</td>\n",
       "      <td>NaN</td>\n",
       "      <td>677.0</td>\n",
       "      <td>A-320</td>\n",
       "      <td>04A</td>\n",
       "      <td>03</td>\n",
       "      <td>23.0</td>\n",
       "      <td>1.0</td>\n",
       "      <td>A</td>\n",
       "      <td>4.0</td>\n",
       "      <td>D</td>\n",
       "      <td>2.0</td>\n",
       "      <td>1.0</td>\n",
       "      <td>1.0</td>\n",
       "      <td>NaN</td>\n",
       "      <td>NaN</td>\n",
       "      <td>Climb</td>\n",
       "      <td>5000.0</td>\n",
       "      <td>NaN</td>\n",
       "      <td>NaN</td>\n",
       "      <td>NaN</td>\n",
       "      <td>NaN</td>\n",
       "      <td>NaN</td>\n",
       "      <td>NaN</td>\n",
       "      <td>NaN</td>\n",
       "      <td>NaN</td>\n",
       "      <td>NaN</td>\n",
       "      <td>True</td>\n",
       "      <td>True</td>\n",
       "      <td>M</td>\n",
       "      <td>False</td>\n",
       "      <td>False</td>\n",
       "      <td>False</td>\n",
       "      <td>False</td>\n",
       "      <td>False</td>\n",
       "      <td>False</td>\n",
       "      <td>True</td>\n",
       "      <td>False</td>\n",
       "      <td>False</td>\n",
       "      <td>False</td>\n",
       "      <td>False</td>\n",
       "      <td>False</td>\n",
       "      <td>False</td>\n",
       "      <td>False</td>\n",
       "      <td>False</td>\n",
       "      <td>False</td>\n",
       "      <td>False</td>\n",
       "      <td>False</td>\n",
       "      <td>False</td>\n",
       "      <td>False</td>\n",
       "      <td>False</td>\n",
       "      <td>False</td>\n",
       "      <td>True</td>\n",
       "      <td>True</td>\n",
       "      <td>False</td>\n",
       "      <td>False</td>\n",
       "      <td>False</td>\n",
       "      <td>False</td>\n",
       "      <td>False</td>\n",
       "      <td>False</td>\n",
       "      <td>False</td>\n",
       "      <td>False</td>\n",
       "      <td>NaN</td>\n",
       "      <td>NaN</td>\n",
       "      <td>NaN</td>\n",
       "      <td>NaN</td>\n",
       "      <td>UNKBM</td>\n",
       "      <td>Unknown bird - medium</td>\n",
       "      <td>LOUD NOISE WAS HEARD DURING CLIMBOUT THAT SOUN...</td>\n",
       "      <td>False</td>\n",
       "      <td>False</td>\n",
       "      <td>Unknown</td>\n",
       "      <td>NaN</td>\n",
       "      <td>1</td>\n",
       "      <td>Medium</td>\n",
       "      <td>NaN</td>\n",
       "      <td>NaN</td>\n",
       "      <td>/Legacy Record=100005/</td>\n",
       "      <td>REDACTED</td>\n",
       "      <td>REDACTED</td>\n",
       "      <td>Air Transport Report</td>\n",
       "      <td>Air Transport Operations</td>\n",
       "      <td>12/20/2007</td>\n",
       "      <td>False</td>\n",
       "    </tr>\n",
       "  </tbody>\n",
       "</table>\n",
       "</div>"
      ],
      "text/plain": [
       "   INDEX_NR INCIDENT_DATE  INCIDENT_MONTH  INCIDENT_YEAR TIME TIME_OF_DAY  \\\n",
       "0    608242     6/22/1996               6           1996  NaN         NaN   \n",
       "1    608243     6/26/1996               6           1996  NaN         NaN   \n",
       "2    608244      7/1/1996               7           1996  NaN         NaN   \n",
       "3    608245      7/1/1996               7           1996  NaN         NaN   \n",
       "4    608246      7/1/1996               7           1996  NaN         NaN   \n",
       "\n",
       "  AIRPORT_ID                      AIRPORT  LATITUDE  LONGITUDE RUNWAY STATE  \\\n",
       "0       KSMF              SACRAMENTO INTL  38.69542 -121.59077    NaN    CA   \n",
       "1       KDEN          DENVER INTL AIRPORT  39.85841 -104.66700    NaN    CO   \n",
       "2       KOMA              EPPLEY AIRFIELD  41.30252  -95.89417    NaN    NE   \n",
       "3       KIAD  WASHINGTON DULLES INTL ARPT  38.94453  -77.45581    NaN    DC   \n",
       "4       KLGA              LA GUARDIA ARPT  40.77724  -73.87261    NaN    NY   \n",
       "\n",
       "  FAAREGION LOCATION ENROUTE_STATE OPID         OPERATOR  REG     FLT  \\\n",
       "0       AWP      NaN           NaN  UAL  UNITED AIRLINES  NaN  1768.0   \n",
       "1       ANM      NaN           NaN  UAL  UNITED AIRLINES  NaN  1845.0   \n",
       "2       ACE      NaN           NaN  UAL  UNITED AIRLINES  NaN   306.0   \n",
       "3       AEA      NaN           NaN  UAL  UNITED AIRLINES  NaN   510.0   \n",
       "4       AEA      NaN           NaN  UAL  UNITED AIRLINES  NaN   677.0   \n",
       "\n",
       "    AIRCRAFT  AMA AMO   EMA   EMO AC_CLASS  AC_MASS TYPE_ENG  NUM_ENGS  \\\n",
       "0  B-737-300  148  24  10.0   1.0        A      4.0        D       2.0   \n",
       "1  B-737-300  148  24  10.0   1.0        A      4.0        D       2.0   \n",
       "2  B-757-200  148  26  34.0  40.0        A      4.0        D       2.0   \n",
       "3      A-320  04A  03  23.0   1.0        A      4.0        D       2.0   \n",
       "4      A-320  04A  03  23.0   1.0        A      4.0        D       2.0   \n",
       "\n",
       "   ENG_1_POS  ENG_2_POS  ENG_3_POS  ENG_4_POS PHASE_OF_FLIGHT  HEIGHT  SPEED  \\\n",
       "0        1.0        1.0        NaN        NaN    Take-off Run     0.0    NaN   \n",
       "1        1.0        1.0        NaN        NaN    Take-off Run     0.0    NaN   \n",
       "2        1.0        1.0        NaN        NaN    Take-off Run     0.0    NaN   \n",
       "3        1.0        1.0        NaN        NaN        Approach  1000.0    NaN   \n",
       "4        1.0        1.0        NaN        NaN           Climb  5000.0    NaN   \n",
       "\n",
       "   DISTANCE  SKY PRECIPITATION  AOS COST_REPAIRS COST_OTHER  \\\n",
       "0       0.0  NaN           NaN  NaN          NaN        NaN   \n",
       "1       0.0  NaN           NaN  NaN          NaN        NaN   \n",
       "2       0.0  NaN           NaN  NaN          NaN        NaN   \n",
       "3       NaN  NaN           NaN  NaN          NaN        NaN   \n",
       "4       NaN  NaN           NaN  NaN          NaN        NaN   \n",
       "\n",
       "  COST_REPAIRS_INFL_ADJ COST_OTHER_INFL_ADJ  INGESTED_OTHER  INDICATED_DAMAGE  \\\n",
       "0                   NaN                 NaN           False             False   \n",
       "1                   NaN                 NaN           False             False   \n",
       "2                   NaN                 NaN           False             False   \n",
       "3                   NaN                 NaN           False             False   \n",
       "4                   NaN                 NaN            True              True   \n",
       "\n",
       "  DAMAGE_LEVEL  STR_RAD  DAM_RAD  STR_WINDSHLD  DAM_WINDSHLD  STR_NOSE  \\\n",
       "0          NaN    False    False         False         False      True   \n",
       "1          NaN    False    False         False         False     False   \n",
       "2            N    False    False         False         False     False   \n",
       "3            N    False    False         False         False     False   \n",
       "4            M    False    False         False         False     False   \n",
       "\n",
       "   DAM_NOSE  STR_ENG1  DAM_ENG1  ING_ENG1  STR_ENG2  DAM_ENG2  ING_ENG2  \\\n",
       "0     False     False     False     False     False     False     False   \n",
       "1     False      True     False     False     False     False     False   \n",
       "2     False     False     False     False      True     False     False   \n",
       "3     False     False     False     False     False     False     False   \n",
       "4     False      True     False     False     False     False     False   \n",
       "\n",
       "   STR_ENG3  DAM_ENG3  ING_ENG3  STR_ENG4  DAM_ENG4  ING_ENG4  STR_PROP  \\\n",
       "0     False     False     False     False     False     False     False   \n",
       "1     False     False     False     False     False     False     False   \n",
       "2     False     False     False     False     False     False     False   \n",
       "3     False     False     False     False     False     False     False   \n",
       "4     False     False     False     False     False     False     False   \n",
       "\n",
       "   DAM_PROP  STR_WING_ROT  DAM_WING_ROT  STR_FUSE  DAM_FUSE  STR_LG  DAM_LG  \\\n",
       "0     False         False         False     False     False   False   False   \n",
       "1     False         False         False     False     False   False   False   \n",
       "2     False         False         False     False     False   False   False   \n",
       "3     False         False         False      True     False   False   False   \n",
       "4     False         False         False      True      True   False   False   \n",
       "\n",
       "   STR_TAIL  DAM_TAIL  STR_LGHTS  DAM_LGHTS  STR_OTHER  DAM_OTHER  \\\n",
       "0     False     False      False      False      False      False   \n",
       "1     False     False      False      False      False      False   \n",
       "2     False     False      False      False      False      False   \n",
       "3     False     False      False      False      False      False   \n",
       "4     False     False      False      False      False      False   \n",
       "\n",
       "  OTHER_SPECIFY EFFECT EFFECT_OTHER  BIRD_BAND_NUMBER SPECIES_ID  \\\n",
       "0           NaN    NaN          NaN               NaN      UNKBM   \n",
       "1           NaN    NaN          NaN               NaN      UNKBM   \n",
       "2           NaN    NaN          NaN               NaN      UNKBM   \n",
       "3           NaN    NaN          NaN               NaN      UNKBM   \n",
       "4           NaN    NaN          NaN               NaN      UNKBM   \n",
       "\n",
       "                 SPECIES                                            REMARKS  \\\n",
       "0  Unknown bird - medium   BLOOD ON L FWD NOSE AREA SEEN BY CREW AFTER LDG.   \n",
       "1  Unknown bird - medium  CREW SUSPECTED BIRDSTRIKE ON T/O. LOOKED LIKE ...   \n",
       "2  Unknown bird - medium             BIRDSTRIKE AT ROTATION. INSPN. NO DMG.   \n",
       "3  Unknown bird - medium  ON FINAL APCH, STRIKE UNDER THE NOSE OF THE CO...   \n",
       "4  Unknown bird - medium  LOUD NOISE WAS HEARD DURING CLIMBOUT THAT SOUN...   \n",
       "\n",
       "   REMAINS_COLLECTED  REMAINS_SENT   WARNED NUM_SEEN NUM_STRUCK    SIZE  \\\n",
       "0              False         False  Unknown      NaN          1  Medium   \n",
       "1              False         False  Unknown      NaN          1  Medium   \n",
       "2              False         False  Unknown      NaN          1  Medium   \n",
       "3              False         False  Unknown      NaN          1  Medium   \n",
       "4              False         False  Unknown      NaN          1  Medium   \n",
       "\n",
       "   NR_INJURIES  NR_FATALITIES                COMMENTS REPORTED_NAME  \\\n",
       "0          NaN            NaN  /Legacy Record=100001/      REDACTED   \n",
       "1          NaN            NaN  /Legacy Record=100002/      REDACTED   \n",
       "2          NaN            NaN  /Legacy Record=100003/      REDACTED   \n",
       "3          NaN            NaN  /Legacy Record=100004/      REDACTED   \n",
       "4          NaN            NaN  /Legacy Record=100005/      REDACTED   \n",
       "\n",
       "  REPORTED_TITLE                SOURCE                    PERSON     LUPDATE  \\\n",
       "0       REDACTED  Air Transport Report  Air Transport Operations  12/20/2007   \n",
       "1       REDACTED  Air Transport Report  Air Transport Operations  12/20/2007   \n",
       "2       REDACTED  Air Transport Report  Air Transport Operations  12/20/2007   \n",
       "3       REDACTED  Air Transport Report  Air Transport Operations  12/20/2007   \n",
       "4       REDACTED  Air Transport Report  Air Transport Operations  12/20/2007   \n",
       "\n",
       "   TRANSFER  \n",
       "0     False  \n",
       "1     False  \n",
       "2     False  \n",
       "3     False  \n",
       "4     False  "
      ]
     },
     "execution_count": 328,
     "metadata": {},
     "output_type": "execute_result"
    }
   ],
   "source": [
    "# import dataset\n",
    "df = pd.read_csv('STRIKE_REPORTS.csv')\n",
    "\n",
    "# View dataframe\n",
    "pd.set_option('display.max_columns', None)\n",
    "df.head()"
   ]
  },
  {
   "cell_type": "code",
   "execution_count": 329,
   "metadata": {},
   "outputs": [],
   "source": [
    "# Reset display option\n",
    "pd.reset_option('display.max_columns')"
   ]
  },
  {
   "cell_type": "code",
   "execution_count": 330,
   "metadata": {},
   "outputs": [
    {
     "data": {
      "text/plain": [
       "(288810, 100)"
      ]
     },
     "execution_count": 330,
     "metadata": {},
     "output_type": "execute_result"
    }
   ],
   "source": [
    "# Size of the dataframe\n",
    "df.shape"
   ]
  },
  {
   "cell_type": "code",
   "execution_count": 331,
   "metadata": {},
   "outputs": [
    {
     "name": "stdout",
     "output_type": "stream",
     "text": [
      "<class 'pandas.core.frame.DataFrame'>\n",
      "RangeIndex: 288810 entries, 0 to 288809\n",
      "Data columns (total 100 columns):\n",
      " #   Column                 Non-Null Count   Dtype  \n",
      "---  ------                 --------------   -----  \n",
      " 0   INDEX_NR               288810 non-null  int64  \n",
      " 1   INCIDENT_DATE          288810 non-null  object \n",
      " 2   INCIDENT_MONTH         288810 non-null  int64  \n",
      " 3   INCIDENT_YEAR          288810 non-null  int64  \n",
      " 4   TIME                   163633 non-null  object \n",
      " 5   TIME_OF_DAY            166394 non-null  object \n",
      " 6   AIRPORT_ID             288804 non-null  object \n",
      " 7   AIRPORT                288810 non-null  object \n",
      " 8   LATITUDE               253309 non-null  float64\n",
      " 9   LONGITUDE              253308 non-null  float64\n",
      " 10  RUNWAY                 218852 non-null  object \n",
      " 11  STATE                  253309 non-null  object \n",
      " 12  FAAREGION              253309 non-null  object \n",
      " 13  LOCATION               33939 non-null   object \n",
      " 14  ENROUTE_STATE          5037 non-null    object \n",
      " 15  OPID                   288784 non-null  object \n",
      " 16  OPERATOR               288810 non-null  object \n",
      " 17  REG                    172543 non-null  object \n",
      " 18  FLT                    129249 non-null  object \n",
      " 19  AIRCRAFT               288810 non-null  object \n",
      " 20  AMA                    205475 non-null  object \n",
      " 21  AMO                    190159 non-null  object \n",
      " 22  EMA                    192151 non-null  float64\n",
      " 23  EMO                    186756 non-null  float64\n",
      " 24  AC_CLASS               206893 non-null  object \n",
      " 25  AC_MASS                206490 non-null  float64\n",
      " 26  TYPE_ENG               206044 non-null  object \n",
      " 27  NUM_ENGS               206259 non-null  float64\n",
      " 28  ENG_1_POS              205481 non-null  float64\n",
      " 29  ENG_2_POS              191612 non-null  float64\n",
      " 30  ENG_3_POS              13080 non-null   float64\n",
      " 31  ENG_4_POS              3290 non-null    float64\n",
      " 32  PHASE_OF_FLIGHT        177843 non-null  object \n",
      " 33  HEIGHT                 148807 non-null  float64\n",
      " 34  SPEED                  94237 non-null   float64\n",
      " 35  DISTANCE               188234 non-null  float64\n",
      " 36  SKY                    139382 non-null  object \n",
      " 37  PRECIPITATION          11175 non-null   object \n",
      " 38  AOS                    14196 non-null   float64\n",
      " 39  COST_REPAIRS           5040 non-null    object \n",
      " 40  COST_OTHER             4760 non-null    object \n",
      " 41  COST_REPAIRS_INFL_ADJ  5040 non-null    object \n",
      " 42  COST_OTHER_INFL_ADJ    4760 non-null    object \n",
      " 43  INGESTED_OTHER         288810 non-null  bool   \n",
      " 44  INDICATED_DAMAGE       288810 non-null  bool   \n",
      " 45  DAMAGE_LEVEL           187315 non-null  object \n",
      " 46  STR_RAD                288810 non-null  bool   \n",
      " 47  DAM_RAD                288810 non-null  bool   \n",
      " 48  STR_WINDSHLD           288810 non-null  bool   \n",
      " 49  DAM_WINDSHLD           288810 non-null  bool   \n",
      " 50  STR_NOSE               288810 non-null  bool   \n",
      " 51  DAM_NOSE               288810 non-null  bool   \n",
      " 52  STR_ENG1               288810 non-null  bool   \n",
      " 53  DAM_ENG1               288810 non-null  bool   \n",
      " 54  ING_ENG1               288810 non-null  bool   \n",
      " 55  STR_ENG2               288810 non-null  bool   \n",
      " 56  DAM_ENG2               288810 non-null  bool   \n",
      " 57  ING_ENG2               288810 non-null  bool   \n",
      " 58  STR_ENG3               288810 non-null  bool   \n",
      " 59  DAM_ENG3               288810 non-null  bool   \n",
      " 60  ING_ENG3               288810 non-null  bool   \n",
      " 61  STR_ENG4               288810 non-null  bool   \n",
      " 62  DAM_ENG4               288810 non-null  bool   \n",
      " 63  ING_ENG4               288810 non-null  bool   \n",
      " 64  STR_PROP               288810 non-null  bool   \n",
      " 65  DAM_PROP               288810 non-null  bool   \n",
      " 66  STR_WING_ROT           288810 non-null  bool   \n",
      " 67  DAM_WING_ROT           288810 non-null  bool   \n",
      " 68  STR_FUSE               288810 non-null  bool   \n",
      " 69  DAM_FUSE               288810 non-null  bool   \n",
      " 70  STR_LG                 288810 non-null  bool   \n",
      " 71  DAM_LG                 288810 non-null  bool   \n",
      " 72  STR_TAIL               288810 non-null  bool   \n",
      " 73  DAM_TAIL               288810 non-null  bool   \n",
      " 74  STR_LGHTS              288810 non-null  bool   \n",
      " 75  DAM_LGHTS              288810 non-null  bool   \n",
      " 76  STR_OTHER              288810 non-null  bool   \n",
      " 77  DAM_OTHER              288810 non-null  bool   \n",
      " 78  OTHER_SPECIFY          38462 non-null   object \n",
      " 79  EFFECT                 13718 non-null   object \n",
      " 80  EFFECT_OTHER           2221 non-null    object \n",
      " 81  BIRD_BAND_NUMBER       390 non-null     float64\n",
      " 82  SPECIES_ID             288806 non-null  object \n",
      " 83  SPECIES                288809 non-null  object \n",
      " 84  REMARKS                264305 non-null  object \n",
      " 85  REMAINS_COLLECTED      288810 non-null  bool   \n",
      " 86  REMAINS_SENT           288810 non-null  bool   \n",
      " 87  WARNED                 288810 non-null  object \n",
      " 88  NUM_SEEN               94773 non-null   object \n",
      " 89  NUM_STRUCK             288174 non-null  object \n",
      " 90  SIZE                   263538 non-null  object \n",
      " 91  NR_INJURIES            276 non-null     float64\n",
      " 92  NR_FATALITIES          24 non-null      float64\n",
      " 93  COMMENTS               218834 non-null  object \n",
      " 94  REPORTED_NAME          288810 non-null  object \n",
      " 95  REPORTED_TITLE         288810 non-null  object \n",
      " 96  SOURCE                 288810 non-null  object \n",
      " 97  PERSON                 267676 non-null  object \n",
      " 98  LUPDATE                288810 non-null  object \n",
      " 99  TRANSFER               288810 non-null  bool   \n",
      "dtypes: bool(37), float64(17), int64(3), object(43)\n",
      "memory usage: 149.0+ MB\n"
     ]
    }
   ],
   "source": [
    "# Review the datatypes\n",
    "df.info()"
   ]
  },
  {
   "cell_type": "code",
   "execution_count": 333,
   "metadata": {},
   "outputs": [
    {
     "data": {
      "text/html": [
       "<div>\n",
       "<style scoped>\n",
       "    .dataframe tbody tr th:only-of-type {\n",
       "        vertical-align: middle;\n",
       "    }\n",
       "\n",
       "    .dataframe tbody tr th {\n",
       "        vertical-align: top;\n",
       "    }\n",
       "\n",
       "    .dataframe thead th {\n",
       "        text-align: right;\n",
       "    }\n",
       "</style>\n",
       "<table border=\"1\" class=\"dataframe\">\n",
       "  <thead>\n",
       "    <tr style=\"text-align: right;\">\n",
       "      <th></th>\n",
       "      <th>Total missing values</th>\n",
       "      <th>Percentage missing values</th>\n",
       "    </tr>\n",
       "  </thead>\n",
       "  <tbody>\n",
       "    <tr>\n",
       "      <th>NR_FATALITIES</th>\n",
       "      <td>288786</td>\n",
       "      <td>99.99</td>\n",
       "    </tr>\n",
       "    <tr>\n",
       "      <th>NR_INJURIES</th>\n",
       "      <td>288534</td>\n",
       "      <td>99.90</td>\n",
       "    </tr>\n",
       "    <tr>\n",
       "      <th>BIRD_BAND_NUMBER</th>\n",
       "      <td>288420</td>\n",
       "      <td>99.86</td>\n",
       "    </tr>\n",
       "    <tr>\n",
       "      <th>EFFECT_OTHER</th>\n",
       "      <td>286589</td>\n",
       "      <td>99.23</td>\n",
       "    </tr>\n",
       "    <tr>\n",
       "      <th>ENG_4_POS</th>\n",
       "      <td>285520</td>\n",
       "      <td>98.86</td>\n",
       "    </tr>\n",
       "    <tr>\n",
       "      <th>COST_OTHER_INFL_ADJ</th>\n",
       "      <td>284050</td>\n",
       "      <td>98.35</td>\n",
       "    </tr>\n",
       "    <tr>\n",
       "      <th>COST_OTHER</th>\n",
       "      <td>284050</td>\n",
       "      <td>98.35</td>\n",
       "    </tr>\n",
       "    <tr>\n",
       "      <th>ENROUTE_STATE</th>\n",
       "      <td>283773</td>\n",
       "      <td>98.26</td>\n",
       "    </tr>\n",
       "    <tr>\n",
       "      <th>COST_REPAIRS_INFL_ADJ</th>\n",
       "      <td>283770</td>\n",
       "      <td>98.25</td>\n",
       "    </tr>\n",
       "    <tr>\n",
       "      <th>COST_REPAIRS</th>\n",
       "      <td>283770</td>\n",
       "      <td>98.25</td>\n",
       "    </tr>\n",
       "    <tr>\n",
       "      <th>PRECIPITATION</th>\n",
       "      <td>277635</td>\n",
       "      <td>96.13</td>\n",
       "    </tr>\n",
       "    <tr>\n",
       "      <th>ENG_3_POS</th>\n",
       "      <td>275730</td>\n",
       "      <td>95.47</td>\n",
       "    </tr>\n",
       "    <tr>\n",
       "      <th>EFFECT</th>\n",
       "      <td>275092</td>\n",
       "      <td>95.25</td>\n",
       "    </tr>\n",
       "    <tr>\n",
       "      <th>AOS</th>\n",
       "      <td>274614</td>\n",
       "      <td>95.08</td>\n",
       "    </tr>\n",
       "    <tr>\n",
       "      <th>LOCATION</th>\n",
       "      <td>254871</td>\n",
       "      <td>88.25</td>\n",
       "    </tr>\n",
       "    <tr>\n",
       "      <th>OTHER_SPECIFY</th>\n",
       "      <td>250348</td>\n",
       "      <td>86.68</td>\n",
       "    </tr>\n",
       "    <tr>\n",
       "      <th>SPEED</th>\n",
       "      <td>194573</td>\n",
       "      <td>67.37</td>\n",
       "    </tr>\n",
       "    <tr>\n",
       "      <th>NUM_SEEN</th>\n",
       "      <td>194037</td>\n",
       "      <td>67.19</td>\n",
       "    </tr>\n",
       "    <tr>\n",
       "      <th>FLT</th>\n",
       "      <td>159561</td>\n",
       "      <td>55.25</td>\n",
       "    </tr>\n",
       "    <tr>\n",
       "      <th>SKY</th>\n",
       "      <td>149428</td>\n",
       "      <td>51.74</td>\n",
       "    </tr>\n",
       "    <tr>\n",
       "      <th>HEIGHT</th>\n",
       "      <td>140003</td>\n",
       "      <td>48.48</td>\n",
       "    </tr>\n",
       "    <tr>\n",
       "      <th>TIME</th>\n",
       "      <td>125177</td>\n",
       "      <td>43.34</td>\n",
       "    </tr>\n",
       "    <tr>\n",
       "      <th>TIME_OF_DAY</th>\n",
       "      <td>122416</td>\n",
       "      <td>42.39</td>\n",
       "    </tr>\n",
       "    <tr>\n",
       "      <th>REG</th>\n",
       "      <td>116267</td>\n",
       "      <td>40.26</td>\n",
       "    </tr>\n",
       "    <tr>\n",
       "      <th>PHASE_OF_FLIGHT</th>\n",
       "      <td>110967</td>\n",
       "      <td>38.42</td>\n",
       "    </tr>\n",
       "    <tr>\n",
       "      <th>EMO</th>\n",
       "      <td>102054</td>\n",
       "      <td>35.34</td>\n",
       "    </tr>\n",
       "    <tr>\n",
       "      <th>DAMAGE_LEVEL</th>\n",
       "      <td>101495</td>\n",
       "      <td>35.14</td>\n",
       "    </tr>\n",
       "    <tr>\n",
       "      <th>DISTANCE</th>\n",
       "      <td>100576</td>\n",
       "      <td>34.82</td>\n",
       "    </tr>\n",
       "    <tr>\n",
       "      <th>AMO</th>\n",
       "      <td>98651</td>\n",
       "      <td>34.16</td>\n",
       "    </tr>\n",
       "    <tr>\n",
       "      <th>ENG_2_POS</th>\n",
       "      <td>97198</td>\n",
       "      <td>33.65</td>\n",
       "    </tr>\n",
       "    <tr>\n",
       "      <th>EMA</th>\n",
       "      <td>96659</td>\n",
       "      <td>33.47</td>\n",
       "    </tr>\n",
       "    <tr>\n",
       "      <th>ENG_1_POS</th>\n",
       "      <td>83329</td>\n",
       "      <td>28.85</td>\n",
       "    </tr>\n",
       "    <tr>\n",
       "      <th>AMA</th>\n",
       "      <td>83335</td>\n",
       "      <td>28.85</td>\n",
       "    </tr>\n",
       "    <tr>\n",
       "      <th>TYPE_ENG</th>\n",
       "      <td>82766</td>\n",
       "      <td>28.66</td>\n",
       "    </tr>\n",
       "    <tr>\n",
       "      <th>NUM_ENGS</th>\n",
       "      <td>82551</td>\n",
       "      <td>28.58</td>\n",
       "    </tr>\n",
       "    <tr>\n",
       "      <th>AC_MASS</th>\n",
       "      <td>82320</td>\n",
       "      <td>28.50</td>\n",
       "    </tr>\n",
       "    <tr>\n",
       "      <th>AC_CLASS</th>\n",
       "      <td>81917</td>\n",
       "      <td>28.36</td>\n",
       "    </tr>\n",
       "    <tr>\n",
       "      <th>COMMENTS</th>\n",
       "      <td>69976</td>\n",
       "      <td>24.23</td>\n",
       "    </tr>\n",
       "    <tr>\n",
       "      <th>RUNWAY</th>\n",
       "      <td>69958</td>\n",
       "      <td>24.22</td>\n",
       "    </tr>\n",
       "    <tr>\n",
       "      <th>STATE</th>\n",
       "      <td>35501</td>\n",
       "      <td>12.29</td>\n",
       "    </tr>\n",
       "    <tr>\n",
       "      <th>FAAREGION</th>\n",
       "      <td>35501</td>\n",
       "      <td>12.29</td>\n",
       "    </tr>\n",
       "    <tr>\n",
       "      <th>LATITUDE</th>\n",
       "      <td>35501</td>\n",
       "      <td>12.29</td>\n",
       "    </tr>\n",
       "    <tr>\n",
       "      <th>LONGITUDE</th>\n",
       "      <td>35502</td>\n",
       "      <td>12.29</td>\n",
       "    </tr>\n",
       "    <tr>\n",
       "      <th>SIZE</th>\n",
       "      <td>25272</td>\n",
       "      <td>8.75</td>\n",
       "    </tr>\n",
       "    <tr>\n",
       "      <th>REMARKS</th>\n",
       "      <td>24505</td>\n",
       "      <td>8.48</td>\n",
       "    </tr>\n",
       "    <tr>\n",
       "      <th>PERSON</th>\n",
       "      <td>21134</td>\n",
       "      <td>7.32</td>\n",
       "    </tr>\n",
       "    <tr>\n",
       "      <th>NUM_STRUCK</th>\n",
       "      <td>636</td>\n",
       "      <td>0.22</td>\n",
       "    </tr>\n",
       "    <tr>\n",
       "      <th>OPID</th>\n",
       "      <td>26</td>\n",
       "      <td>0.01</td>\n",
       "    </tr>\n",
       "    <tr>\n",
       "      <th>DAM_LG</th>\n",
       "      <td>0</td>\n",
       "      <td>0.00</td>\n",
       "    </tr>\n",
       "    <tr>\n",
       "      <th>STR_TAIL</th>\n",
       "      <td>0</td>\n",
       "      <td>0.00</td>\n",
       "    </tr>\n",
       "    <tr>\n",
       "      <th>DAM_TAIL</th>\n",
       "      <td>0</td>\n",
       "      <td>0.00</td>\n",
       "    </tr>\n",
       "    <tr>\n",
       "      <th>STR_LGHTS</th>\n",
       "      <td>0</td>\n",
       "      <td>0.00</td>\n",
       "    </tr>\n",
       "    <tr>\n",
       "      <th>DAM_LGHTS</th>\n",
       "      <td>0</td>\n",
       "      <td>0.00</td>\n",
       "    </tr>\n",
       "    <tr>\n",
       "      <th>STR_OTHER</th>\n",
       "      <td>0</td>\n",
       "      <td>0.00</td>\n",
       "    </tr>\n",
       "    <tr>\n",
       "      <th>DAM_OTHER</th>\n",
       "      <td>0</td>\n",
       "      <td>0.00</td>\n",
       "    </tr>\n",
       "    <tr>\n",
       "      <th>STR_LG</th>\n",
       "      <td>0</td>\n",
       "      <td>0.00</td>\n",
       "    </tr>\n",
       "    <tr>\n",
       "      <th>INDEX_NR</th>\n",
       "      <td>0</td>\n",
       "      <td>0.00</td>\n",
       "    </tr>\n",
       "    <tr>\n",
       "      <th>SPECIES_ID</th>\n",
       "      <td>4</td>\n",
       "      <td>0.00</td>\n",
       "    </tr>\n",
       "    <tr>\n",
       "      <th>SPECIES</th>\n",
       "      <td>1</td>\n",
       "      <td>0.00</td>\n",
       "    </tr>\n",
       "    <tr>\n",
       "      <th>REMAINS_COLLECTED</th>\n",
       "      <td>0</td>\n",
       "      <td>0.00</td>\n",
       "    </tr>\n",
       "    <tr>\n",
       "      <th>REMAINS_SENT</th>\n",
       "      <td>0</td>\n",
       "      <td>0.00</td>\n",
       "    </tr>\n",
       "    <tr>\n",
       "      <th>WARNED</th>\n",
       "      <td>0</td>\n",
       "      <td>0.00</td>\n",
       "    </tr>\n",
       "    <tr>\n",
       "      <th>STR_FUSE</th>\n",
       "      <td>0</td>\n",
       "      <td>0.00</td>\n",
       "    </tr>\n",
       "    <tr>\n",
       "      <th>REPORTED_NAME</th>\n",
       "      <td>0</td>\n",
       "      <td>0.00</td>\n",
       "    </tr>\n",
       "    <tr>\n",
       "      <th>REPORTED_TITLE</th>\n",
       "      <td>0</td>\n",
       "      <td>0.00</td>\n",
       "    </tr>\n",
       "    <tr>\n",
       "      <th>SOURCE</th>\n",
       "      <td>0</td>\n",
       "      <td>0.00</td>\n",
       "    </tr>\n",
       "    <tr>\n",
       "      <th>LUPDATE</th>\n",
       "      <td>0</td>\n",
       "      <td>0.00</td>\n",
       "    </tr>\n",
       "    <tr>\n",
       "      <th>DAM_FUSE</th>\n",
       "      <td>0</td>\n",
       "      <td>0.00</td>\n",
       "    </tr>\n",
       "    <tr>\n",
       "      <th>STR_NOSE</th>\n",
       "      <td>0</td>\n",
       "      <td>0.00</td>\n",
       "    </tr>\n",
       "    <tr>\n",
       "      <th>DAM_WING_ROT</th>\n",
       "      <td>0</td>\n",
       "      <td>0.00</td>\n",
       "    </tr>\n",
       "    <tr>\n",
       "      <th>DAM_NOSE</th>\n",
       "      <td>0</td>\n",
       "      <td>0.00</td>\n",
       "    </tr>\n",
       "    <tr>\n",
       "      <th>INCIDENT_MONTH</th>\n",
       "      <td>0</td>\n",
       "      <td>0.00</td>\n",
       "    </tr>\n",
       "    <tr>\n",
       "      <th>INCIDENT_YEAR</th>\n",
       "      <td>0</td>\n",
       "      <td>0.00</td>\n",
       "    </tr>\n",
       "    <tr>\n",
       "      <th>AIRPORT_ID</th>\n",
       "      <td>6</td>\n",
       "      <td>0.00</td>\n",
       "    </tr>\n",
       "    <tr>\n",
       "      <th>AIRPORT</th>\n",
       "      <td>0</td>\n",
       "      <td>0.00</td>\n",
       "    </tr>\n",
       "    <tr>\n",
       "      <th>OPERATOR</th>\n",
       "      <td>0</td>\n",
       "      <td>0.00</td>\n",
       "    </tr>\n",
       "    <tr>\n",
       "      <th>AIRCRAFT</th>\n",
       "      <td>0</td>\n",
       "      <td>0.00</td>\n",
       "    </tr>\n",
       "    <tr>\n",
       "      <th>INGESTED_OTHER</th>\n",
       "      <td>0</td>\n",
       "      <td>0.00</td>\n",
       "    </tr>\n",
       "    <tr>\n",
       "      <th>INDICATED_DAMAGE</th>\n",
       "      <td>0</td>\n",
       "      <td>0.00</td>\n",
       "    </tr>\n",
       "    <tr>\n",
       "      <th>STR_RAD</th>\n",
       "      <td>0</td>\n",
       "      <td>0.00</td>\n",
       "    </tr>\n",
       "    <tr>\n",
       "      <th>DAM_RAD</th>\n",
       "      <td>0</td>\n",
       "      <td>0.00</td>\n",
       "    </tr>\n",
       "    <tr>\n",
       "      <th>STR_WINDSHLD</th>\n",
       "      <td>0</td>\n",
       "      <td>0.00</td>\n",
       "    </tr>\n",
       "    <tr>\n",
       "      <th>DAM_WINDSHLD</th>\n",
       "      <td>0</td>\n",
       "      <td>0.00</td>\n",
       "    </tr>\n",
       "    <tr>\n",
       "      <th>INCIDENT_DATE</th>\n",
       "      <td>0</td>\n",
       "      <td>0.00</td>\n",
       "    </tr>\n",
       "    <tr>\n",
       "      <th>STR_ENG1</th>\n",
       "      <td>0</td>\n",
       "      <td>0.00</td>\n",
       "    </tr>\n",
       "    <tr>\n",
       "      <th>STR_WING_ROT</th>\n",
       "      <td>0</td>\n",
       "      <td>0.00</td>\n",
       "    </tr>\n",
       "    <tr>\n",
       "      <th>DAM_ENG1</th>\n",
       "      <td>0</td>\n",
       "      <td>0.00</td>\n",
       "    </tr>\n",
       "    <tr>\n",
       "      <th>ING_ENG1</th>\n",
       "      <td>0</td>\n",
       "      <td>0.00</td>\n",
       "    </tr>\n",
       "    <tr>\n",
       "      <th>STR_ENG2</th>\n",
       "      <td>0</td>\n",
       "      <td>0.00</td>\n",
       "    </tr>\n",
       "    <tr>\n",
       "      <th>DAM_ENG2</th>\n",
       "      <td>0</td>\n",
       "      <td>0.00</td>\n",
       "    </tr>\n",
       "    <tr>\n",
       "      <th>ING_ENG2</th>\n",
       "      <td>0</td>\n",
       "      <td>0.00</td>\n",
       "    </tr>\n",
       "    <tr>\n",
       "      <th>STR_ENG3</th>\n",
       "      <td>0</td>\n",
       "      <td>0.00</td>\n",
       "    </tr>\n",
       "    <tr>\n",
       "      <th>DAM_ENG3</th>\n",
       "      <td>0</td>\n",
       "      <td>0.00</td>\n",
       "    </tr>\n",
       "    <tr>\n",
       "      <th>ING_ENG3</th>\n",
       "      <td>0</td>\n",
       "      <td>0.00</td>\n",
       "    </tr>\n",
       "    <tr>\n",
       "      <th>STR_ENG4</th>\n",
       "      <td>0</td>\n",
       "      <td>0.00</td>\n",
       "    </tr>\n",
       "    <tr>\n",
       "      <th>DAM_ENG4</th>\n",
       "      <td>0</td>\n",
       "      <td>0.00</td>\n",
       "    </tr>\n",
       "    <tr>\n",
       "      <th>ING_ENG4</th>\n",
       "      <td>0</td>\n",
       "      <td>0.00</td>\n",
       "    </tr>\n",
       "    <tr>\n",
       "      <th>STR_PROP</th>\n",
       "      <td>0</td>\n",
       "      <td>0.00</td>\n",
       "    </tr>\n",
       "    <tr>\n",
       "      <th>DAM_PROP</th>\n",
       "      <td>0</td>\n",
       "      <td>0.00</td>\n",
       "    </tr>\n",
       "    <tr>\n",
       "      <th>TRANSFER</th>\n",
       "      <td>0</td>\n",
       "      <td>0.00</td>\n",
       "    </tr>\n",
       "  </tbody>\n",
       "</table>\n",
       "</div>"
      ],
      "text/plain": [
       "                       Total missing values  Percentage missing values\n",
       "NR_FATALITIES                        288786                      99.99\n",
       "NR_INJURIES                          288534                      99.90\n",
       "BIRD_BAND_NUMBER                     288420                      99.86\n",
       "EFFECT_OTHER                         286589                      99.23\n",
       "ENG_4_POS                            285520                      98.86\n",
       "COST_OTHER_INFL_ADJ                  284050                      98.35\n",
       "COST_OTHER                           284050                      98.35\n",
       "ENROUTE_STATE                        283773                      98.26\n",
       "COST_REPAIRS_INFL_ADJ                283770                      98.25\n",
       "COST_REPAIRS                         283770                      98.25\n",
       "PRECIPITATION                        277635                      96.13\n",
       "ENG_3_POS                            275730                      95.47\n",
       "EFFECT                               275092                      95.25\n",
       "AOS                                  274614                      95.08\n",
       "LOCATION                             254871                      88.25\n",
       "OTHER_SPECIFY                        250348                      86.68\n",
       "SPEED                                194573                      67.37\n",
       "NUM_SEEN                             194037                      67.19\n",
       "FLT                                  159561                      55.25\n",
       "SKY                                  149428                      51.74\n",
       "HEIGHT                               140003                      48.48\n",
       "TIME                                 125177                      43.34\n",
       "TIME_OF_DAY                          122416                      42.39\n",
       "REG                                  116267                      40.26\n",
       "PHASE_OF_FLIGHT                      110967                      38.42\n",
       "EMO                                  102054                      35.34\n",
       "DAMAGE_LEVEL                         101495                      35.14\n",
       "DISTANCE                             100576                      34.82\n",
       "AMO                                   98651                      34.16\n",
       "ENG_2_POS                             97198                      33.65\n",
       "EMA                                   96659                      33.47\n",
       "ENG_1_POS                             83329                      28.85\n",
       "AMA                                   83335                      28.85\n",
       "TYPE_ENG                              82766                      28.66\n",
       "NUM_ENGS                              82551                      28.58\n",
       "AC_MASS                               82320                      28.50\n",
       "AC_CLASS                              81917                      28.36\n",
       "COMMENTS                              69976                      24.23\n",
       "RUNWAY                                69958                      24.22\n",
       "STATE                                 35501                      12.29\n",
       "FAAREGION                             35501                      12.29\n",
       "LATITUDE                              35501                      12.29\n",
       "LONGITUDE                             35502                      12.29\n",
       "SIZE                                  25272                       8.75\n",
       "REMARKS                               24505                       8.48\n",
       "PERSON                                21134                       7.32\n",
       "NUM_STRUCK                              636                       0.22\n",
       "OPID                                     26                       0.01\n",
       "DAM_LG                                    0                       0.00\n",
       "STR_TAIL                                  0                       0.00\n",
       "DAM_TAIL                                  0                       0.00\n",
       "STR_LGHTS                                 0                       0.00\n",
       "DAM_LGHTS                                 0                       0.00\n",
       "STR_OTHER                                 0                       0.00\n",
       "DAM_OTHER                                 0                       0.00\n",
       "STR_LG                                    0                       0.00\n",
       "INDEX_NR                                  0                       0.00\n",
       "SPECIES_ID                                4                       0.00\n",
       "SPECIES                                   1                       0.00\n",
       "REMAINS_COLLECTED                         0                       0.00\n",
       "REMAINS_SENT                              0                       0.00\n",
       "WARNED                                    0                       0.00\n",
       "STR_FUSE                                  0                       0.00\n",
       "REPORTED_NAME                             0                       0.00\n",
       "REPORTED_TITLE                            0                       0.00\n",
       "SOURCE                                    0                       0.00\n",
       "LUPDATE                                   0                       0.00\n",
       "DAM_FUSE                                  0                       0.00\n",
       "STR_NOSE                                  0                       0.00\n",
       "DAM_WING_ROT                              0                       0.00\n",
       "DAM_NOSE                                  0                       0.00\n",
       "INCIDENT_MONTH                            0                       0.00\n",
       "INCIDENT_YEAR                             0                       0.00\n",
       "AIRPORT_ID                                6                       0.00\n",
       "AIRPORT                                   0                       0.00\n",
       "OPERATOR                                  0                       0.00\n",
       "AIRCRAFT                                  0                       0.00\n",
       "INGESTED_OTHER                            0                       0.00\n",
       "INDICATED_DAMAGE                          0                       0.00\n",
       "STR_RAD                                   0                       0.00\n",
       "DAM_RAD                                   0                       0.00\n",
       "STR_WINDSHLD                              0                       0.00\n",
       "DAM_WINDSHLD                              0                       0.00\n",
       "INCIDENT_DATE                             0                       0.00\n",
       "STR_ENG1                                  0                       0.00\n",
       "STR_WING_ROT                              0                       0.00\n",
       "DAM_ENG1                                  0                       0.00\n",
       "ING_ENG1                                  0                       0.00\n",
       "STR_ENG2                                  0                       0.00\n",
       "DAM_ENG2                                  0                       0.00\n",
       "ING_ENG2                                  0                       0.00\n",
       "STR_ENG3                                  0                       0.00\n",
       "DAM_ENG3                                  0                       0.00\n",
       "ING_ENG3                                  0                       0.00\n",
       "STR_ENG4                                  0                       0.00\n",
       "DAM_ENG4                                  0                       0.00\n",
       "ING_ENG4                                  0                       0.00\n",
       "STR_PROP                                  0                       0.00\n",
       "DAM_PROP                                  0                       0.00\n",
       "TRANSFER                                  0                       0.00"
      ]
     },
     "execution_count": 333,
     "metadata": {},
     "output_type": "execute_result"
    }
   ],
   "source": [
    "# Display all rows\n",
    "pd.set_option('display.max_rows', None)\n",
    "\n",
    "# View the percentage and volume of null values\n",
    "null_summary = pd.DataFrame({\n",
    "    'Total missing values': df.isnull().sum(),\n",
    "    'Percentage missing values': round(df.isnull().mean() * 100, 2)\n",
    "})\n",
    "sorted_null_summary = null_summary.sort_values(by= 'Percentage missing values', ascending=False)\n",
    "\n",
    "sorted_null_summary"
   ]
  },
  {
   "cell_type": "code",
   "execution_count": 334,
   "metadata": {},
   "outputs": [],
   "source": [
    "pd.reset_option('display.max_rows')"
   ]
  },
  {
   "cell_type": "code",
   "execution_count": 335,
   "metadata": {},
   "outputs": [],
   "source": [
    "# Drop columns based on the percentage of null values and relevance to the analysis. \n",
    "df = df.drop(columns=['BIRD_BAND_NUMBER', 'EFFECT_OTHER', 'COST_OTHER_INFL_ADJ', 'COST_OTHER', 'ENROUTE_STATE', 'COST_REPAIRS_INFL_ADJ', 'AOS', 'LOCATION',\n",
    "              'OTHER_SPECIFY', 'REG', 'AMA', 'FLT', 'COMMENTS', 'REMARKS', 'PERSON', 'REPORTED_NAME', 'REPORTED_TITLE', 'RUNWAY', 'SOURCE', 'LUPDATE',\n",
    "              'INGESTED_OTHER', 'TRANSFER'])"
   ]
  },
  {
   "cell_type": "code",
   "execution_count": 336,
   "metadata": {},
   "outputs": [],
   "source": [
    "# Add struck flag column to the dataframe\n",
    "df['INDICATED_STRUCK'] = df['STR_ENG1'] | df['STR_ENG2']  | df['STR_ENG3'] | df['STR_ENG4'] | df['STR_RAD'] | df['STR_FUSE'] | df['STR_LG'] | df['STR_LGHTS'] | df['STR_NOSE'] | df['STR_OTHER'] | df['STR_PROP'] | df['STR_RAD'] | df['STR_TAIL'] | df['STR_WINDSHLD'] | df['STR_WING_ROT']"
   ]
  },
  {
   "cell_type": "code",
   "execution_count": 338,
   "metadata": {},
   "outputs": [],
   "source": [
    "# Convert int column to string\n",
    "df[['EMA', 'EMO']] = df[['EMA', 'EMO']].astype(str)"
   ]
  },
  {
   "cell_type": "code",
   "execution_count": 339,
   "metadata": {},
   "outputs": [
    {
     "data": {
      "text/html": [
       "<div>\n",
       "<style scoped>\n",
       "    .dataframe tbody tr th:only-of-type {\n",
       "        vertical-align: middle;\n",
       "    }\n",
       "\n",
       "    .dataframe tbody tr th {\n",
       "        vertical-align: top;\n",
       "    }\n",
       "\n",
       "    .dataframe thead th {\n",
       "        text-align: right;\n",
       "    }\n",
       "</style>\n",
       "<table border=\"1\" class=\"dataframe\">\n",
       "  <thead>\n",
       "    <tr style=\"text-align: right;\">\n",
       "      <th></th>\n",
       "      <th>NUM_ENGS</th>\n",
       "      <th>ENG_1_POS</th>\n",
       "      <th>ENG_2_POS</th>\n",
       "      <th>ENG_3_POS</th>\n",
       "      <th>ENG_4_POS</th>\n",
       "      <th>STR_ENG1</th>\n",
       "      <th>STR_ENG2</th>\n",
       "      <th>STR_ENG3</th>\n",
       "      <th>STR_ENG4</th>\n",
       "      <th>DAM_ENG1</th>\n",
       "      <th>DAM_ENG2</th>\n",
       "      <th>DAM_ENG3</th>\n",
       "      <th>DAM_ENG4</th>\n",
       "      <th>ING_ENG1</th>\n",
       "      <th>ING_ENG2</th>\n",
       "      <th>ING_ENG3</th>\n",
       "      <th>ING_ENG4</th>\n",
       "    </tr>\n",
       "  </thead>\n",
       "  <tbody>\n",
       "    <tr>\n",
       "      <th>0</th>\n",
       "      <td>2.0</td>\n",
       "      <td>1.0</td>\n",
       "      <td>1.0</td>\n",
       "      <td>NaN</td>\n",
       "      <td>NaN</td>\n",
       "      <td>False</td>\n",
       "      <td>False</td>\n",
       "      <td>False</td>\n",
       "      <td>False</td>\n",
       "      <td>False</td>\n",
       "      <td>False</td>\n",
       "      <td>False</td>\n",
       "      <td>False</td>\n",
       "      <td>False</td>\n",
       "      <td>False</td>\n",
       "      <td>False</td>\n",
       "      <td>False</td>\n",
       "    </tr>\n",
       "    <tr>\n",
       "      <th>1</th>\n",
       "      <td>2.0</td>\n",
       "      <td>1.0</td>\n",
       "      <td>1.0</td>\n",
       "      <td>NaN</td>\n",
       "      <td>NaN</td>\n",
       "      <td>True</td>\n",
       "      <td>False</td>\n",
       "      <td>False</td>\n",
       "      <td>False</td>\n",
       "      <td>False</td>\n",
       "      <td>False</td>\n",
       "      <td>False</td>\n",
       "      <td>False</td>\n",
       "      <td>False</td>\n",
       "      <td>False</td>\n",
       "      <td>False</td>\n",
       "      <td>False</td>\n",
       "    </tr>\n",
       "    <tr>\n",
       "      <th>2</th>\n",
       "      <td>2.0</td>\n",
       "      <td>1.0</td>\n",
       "      <td>1.0</td>\n",
       "      <td>NaN</td>\n",
       "      <td>NaN</td>\n",
       "      <td>False</td>\n",
       "      <td>True</td>\n",
       "      <td>False</td>\n",
       "      <td>False</td>\n",
       "      <td>False</td>\n",
       "      <td>False</td>\n",
       "      <td>False</td>\n",
       "      <td>False</td>\n",
       "      <td>False</td>\n",
       "      <td>False</td>\n",
       "      <td>False</td>\n",
       "      <td>False</td>\n",
       "    </tr>\n",
       "    <tr>\n",
       "      <th>3</th>\n",
       "      <td>2.0</td>\n",
       "      <td>1.0</td>\n",
       "      <td>1.0</td>\n",
       "      <td>NaN</td>\n",
       "      <td>NaN</td>\n",
       "      <td>False</td>\n",
       "      <td>False</td>\n",
       "      <td>False</td>\n",
       "      <td>False</td>\n",
       "      <td>False</td>\n",
       "      <td>False</td>\n",
       "      <td>False</td>\n",
       "      <td>False</td>\n",
       "      <td>False</td>\n",
       "      <td>False</td>\n",
       "      <td>False</td>\n",
       "      <td>False</td>\n",
       "    </tr>\n",
       "    <tr>\n",
       "      <th>4</th>\n",
       "      <td>2.0</td>\n",
       "      <td>1.0</td>\n",
       "      <td>1.0</td>\n",
       "      <td>NaN</td>\n",
       "      <td>NaN</td>\n",
       "      <td>True</td>\n",
       "      <td>False</td>\n",
       "      <td>False</td>\n",
       "      <td>False</td>\n",
       "      <td>False</td>\n",
       "      <td>False</td>\n",
       "      <td>False</td>\n",
       "      <td>False</td>\n",
       "      <td>False</td>\n",
       "      <td>False</td>\n",
       "      <td>False</td>\n",
       "      <td>False</td>\n",
       "    </tr>\n",
       "    <tr>\n",
       "      <th>...</th>\n",
       "      <td>...</td>\n",
       "      <td>...</td>\n",
       "      <td>...</td>\n",
       "      <td>...</td>\n",
       "      <td>...</td>\n",
       "      <td>...</td>\n",
       "      <td>...</td>\n",
       "      <td>...</td>\n",
       "      <td>...</td>\n",
       "      <td>...</td>\n",
       "      <td>...</td>\n",
       "      <td>...</td>\n",
       "      <td>...</td>\n",
       "      <td>...</td>\n",
       "      <td>...</td>\n",
       "      <td>...</td>\n",
       "      <td>...</td>\n",
       "    </tr>\n",
       "    <tr>\n",
       "      <th>288805</th>\n",
       "      <td>2.0</td>\n",
       "      <td>1.0</td>\n",
       "      <td>1.0</td>\n",
       "      <td>NaN</td>\n",
       "      <td>NaN</td>\n",
       "      <td>False</td>\n",
       "      <td>False</td>\n",
       "      <td>False</td>\n",
       "      <td>False</td>\n",
       "      <td>False</td>\n",
       "      <td>False</td>\n",
       "      <td>False</td>\n",
       "      <td>False</td>\n",
       "      <td>False</td>\n",
       "      <td>False</td>\n",
       "      <td>False</td>\n",
       "      <td>False</td>\n",
       "    </tr>\n",
       "    <tr>\n",
       "      <th>288806</th>\n",
       "      <td>2.0</td>\n",
       "      <td>5.0</td>\n",
       "      <td>5.0</td>\n",
       "      <td>NaN</td>\n",
       "      <td>NaN</td>\n",
       "      <td>False</td>\n",
       "      <td>False</td>\n",
       "      <td>False</td>\n",
       "      <td>False</td>\n",
       "      <td>False</td>\n",
       "      <td>False</td>\n",
       "      <td>False</td>\n",
       "      <td>False</td>\n",
       "      <td>False</td>\n",
       "      <td>False</td>\n",
       "      <td>False</td>\n",
       "      <td>False</td>\n",
       "    </tr>\n",
       "    <tr>\n",
       "      <th>288807</th>\n",
       "      <td>2.0</td>\n",
       "      <td>5.0</td>\n",
       "      <td>5.0</td>\n",
       "      <td>NaN</td>\n",
       "      <td>NaN</td>\n",
       "      <td>False</td>\n",
       "      <td>False</td>\n",
       "      <td>False</td>\n",
       "      <td>False</td>\n",
       "      <td>False</td>\n",
       "      <td>False</td>\n",
       "      <td>False</td>\n",
       "      <td>False</td>\n",
       "      <td>False</td>\n",
       "      <td>False</td>\n",
       "      <td>False</td>\n",
       "      <td>False</td>\n",
       "    </tr>\n",
       "    <tr>\n",
       "      <th>288808</th>\n",
       "      <td>2.0</td>\n",
       "      <td>4.0</td>\n",
       "      <td>4.0</td>\n",
       "      <td>NaN</td>\n",
       "      <td>NaN</td>\n",
       "      <td>False</td>\n",
       "      <td>False</td>\n",
       "      <td>False</td>\n",
       "      <td>False</td>\n",
       "      <td>False</td>\n",
       "      <td>False</td>\n",
       "      <td>False</td>\n",
       "      <td>False</td>\n",
       "      <td>False</td>\n",
       "      <td>False</td>\n",
       "      <td>False</td>\n",
       "      <td>False</td>\n",
       "    </tr>\n",
       "    <tr>\n",
       "      <th>288809</th>\n",
       "      <td>NaN</td>\n",
       "      <td>NaN</td>\n",
       "      <td>NaN</td>\n",
       "      <td>NaN</td>\n",
       "      <td>NaN</td>\n",
       "      <td>False</td>\n",
       "      <td>False</td>\n",
       "      <td>False</td>\n",
       "      <td>False</td>\n",
       "      <td>False</td>\n",
       "      <td>False</td>\n",
       "      <td>False</td>\n",
       "      <td>False</td>\n",
       "      <td>False</td>\n",
       "      <td>False</td>\n",
       "      <td>False</td>\n",
       "      <td>False</td>\n",
       "    </tr>\n",
       "  </tbody>\n",
       "</table>\n",
       "<p>288810 rows × 17 columns</p>\n",
       "</div>"
      ],
      "text/plain": [
       "        NUM_ENGS  ENG_1_POS  ENG_2_POS  ENG_3_POS  ENG_4_POS  STR_ENG1  \\\n",
       "0            2.0        1.0        1.0        NaN        NaN     False   \n",
       "1            2.0        1.0        1.0        NaN        NaN      True   \n",
       "2            2.0        1.0        1.0        NaN        NaN     False   \n",
       "3            2.0        1.0        1.0        NaN        NaN     False   \n",
       "4            2.0        1.0        1.0        NaN        NaN      True   \n",
       "...          ...        ...        ...        ...        ...       ...   \n",
       "288805       2.0        1.0        1.0        NaN        NaN     False   \n",
       "288806       2.0        5.0        5.0        NaN        NaN     False   \n",
       "288807       2.0        5.0        5.0        NaN        NaN     False   \n",
       "288808       2.0        4.0        4.0        NaN        NaN     False   \n",
       "288809       NaN        NaN        NaN        NaN        NaN     False   \n",
       "\n",
       "        STR_ENG2  STR_ENG3  STR_ENG4  DAM_ENG1  DAM_ENG2  DAM_ENG3  DAM_ENG4  \\\n",
       "0          False     False     False     False     False     False     False   \n",
       "1          False     False     False     False     False     False     False   \n",
       "2           True     False     False     False     False     False     False   \n",
       "3          False     False     False     False     False     False     False   \n",
       "4          False     False     False     False     False     False     False   \n",
       "...          ...       ...       ...       ...       ...       ...       ...   \n",
       "288805     False     False     False     False     False     False     False   \n",
       "288806     False     False     False     False     False     False     False   \n",
       "288807     False     False     False     False     False     False     False   \n",
       "288808     False     False     False     False     False     False     False   \n",
       "288809     False     False     False     False     False     False     False   \n",
       "\n",
       "        ING_ENG1  ING_ENG2  ING_ENG3  ING_ENG4  \n",
       "0          False     False     False     False  \n",
       "1          False     False     False     False  \n",
       "2          False     False     False     False  \n",
       "3          False     False     False     False  \n",
       "4          False     False     False     False  \n",
       "...          ...       ...       ...       ...  \n",
       "288805     False     False     False     False  \n",
       "288806     False     False     False     False  \n",
       "288807     False     False     False     False  \n",
       "288808     False     False     False     False  \n",
       "288809     False     False     False     False  \n",
       "\n",
       "[288810 rows x 17 columns]"
      ]
     },
     "execution_count": 339,
     "metadata": {},
     "output_type": "execute_result"
    }
   ],
   "source": [
    "# Review df engine structure\n",
    "df_engine = df[['NUM_ENGS', 'ENG_1_POS', 'ENG_2_POS', 'ENG_3_POS', 'ENG_4_POS', 'STR_ENG1', 'STR_ENG2','STR_ENG3', 'STR_ENG4', 'DAM_ENG1',\n",
    "                   'DAM_ENG2', 'DAM_ENG3', 'DAM_ENG4', 'ING_ENG1', 'ING_ENG2', 'ING_ENG3', 'ING_ENG4']]\n",
    "df_engine"
   ]
  },
  {
   "cell_type": "code",
   "execution_count": 341,
   "metadata": {},
   "outputs": [
    {
     "data": {
      "text/html": [
       "<div>\n",
       "<style scoped>\n",
       "    .dataframe tbody tr th:only-of-type {\n",
       "        vertical-align: middle;\n",
       "    }\n",
       "\n",
       "    .dataframe tbody tr th {\n",
       "        vertical-align: top;\n",
       "    }\n",
       "\n",
       "    .dataframe thead th {\n",
       "        text-align: right;\n",
       "    }\n",
       "</style>\n",
       "<table border=\"1\" class=\"dataframe\">\n",
       "  <thead>\n",
       "    <tr style=\"text-align: right;\">\n",
       "      <th></th>\n",
       "      <th>INDEX_NR</th>\n",
       "      <th>INCIDENT_DATE</th>\n",
       "      <th>INCIDENT_MONTH</th>\n",
       "      <th>INCIDENT_YEAR</th>\n",
       "      <th>TIME</th>\n",
       "      <th>TIME_OF_DAY</th>\n",
       "      <th>AIRPORT_ID</th>\n",
       "      <th>AIRPORT</th>\n",
       "      <th>LATITUDE</th>\n",
       "      <th>LONGITUDE</th>\n",
       "      <th>...</th>\n",
       "      <th>SPECIES</th>\n",
       "      <th>REMAINS_COLLECTED</th>\n",
       "      <th>REMAINS_SENT</th>\n",
       "      <th>WARNED</th>\n",
       "      <th>NUM_SEEN</th>\n",
       "      <th>NUM_STRUCK</th>\n",
       "      <th>SIZE</th>\n",
       "      <th>NR_INJURIES</th>\n",
       "      <th>NR_FATALITIES</th>\n",
       "      <th>INDICATED_STRUCK</th>\n",
       "    </tr>\n",
       "  </thead>\n",
       "  <tbody>\n",
       "    <tr>\n",
       "      <th>0</th>\n",
       "      <td>608242</td>\n",
       "      <td>6/22/1996</td>\n",
       "      <td>6</td>\n",
       "      <td>1996</td>\n",
       "      <td>NaN</td>\n",
       "      <td>NaN</td>\n",
       "      <td>KSMF</td>\n",
       "      <td>SACRAMENTO INTL</td>\n",
       "      <td>38.69542</td>\n",
       "      <td>-121.59077</td>\n",
       "      <td>...</td>\n",
       "      <td>Unknown bird - medium</td>\n",
       "      <td>False</td>\n",
       "      <td>False</td>\n",
       "      <td>Unknown</td>\n",
       "      <td>NaN</td>\n",
       "      <td>1</td>\n",
       "      <td>Medium</td>\n",
       "      <td>NaN</td>\n",
       "      <td>NaN</td>\n",
       "      <td>True</td>\n",
       "    </tr>\n",
       "    <tr>\n",
       "      <th>1</th>\n",
       "      <td>608243</td>\n",
       "      <td>6/26/1996</td>\n",
       "      <td>6</td>\n",
       "      <td>1996</td>\n",
       "      <td>NaN</td>\n",
       "      <td>NaN</td>\n",
       "      <td>KDEN</td>\n",
       "      <td>DENVER INTL AIRPORT</td>\n",
       "      <td>39.85841</td>\n",
       "      <td>-104.66700</td>\n",
       "      <td>...</td>\n",
       "      <td>Unknown bird - medium</td>\n",
       "      <td>False</td>\n",
       "      <td>False</td>\n",
       "      <td>Unknown</td>\n",
       "      <td>NaN</td>\n",
       "      <td>1</td>\n",
       "      <td>Medium</td>\n",
       "      <td>NaN</td>\n",
       "      <td>NaN</td>\n",
       "      <td>True</td>\n",
       "    </tr>\n",
       "    <tr>\n",
       "      <th>2</th>\n",
       "      <td>608244</td>\n",
       "      <td>7/1/1996</td>\n",
       "      <td>7</td>\n",
       "      <td>1996</td>\n",
       "      <td>NaN</td>\n",
       "      <td>NaN</td>\n",
       "      <td>KOMA</td>\n",
       "      <td>EPPLEY AIRFIELD</td>\n",
       "      <td>41.30252</td>\n",
       "      <td>-95.89417</td>\n",
       "      <td>...</td>\n",
       "      <td>Unknown bird - medium</td>\n",
       "      <td>False</td>\n",
       "      <td>False</td>\n",
       "      <td>Unknown</td>\n",
       "      <td>NaN</td>\n",
       "      <td>1</td>\n",
       "      <td>Medium</td>\n",
       "      <td>NaN</td>\n",
       "      <td>NaN</td>\n",
       "      <td>True</td>\n",
       "    </tr>\n",
       "    <tr>\n",
       "      <th>3</th>\n",
       "      <td>608245</td>\n",
       "      <td>7/1/1996</td>\n",
       "      <td>7</td>\n",
       "      <td>1996</td>\n",
       "      <td>NaN</td>\n",
       "      <td>NaN</td>\n",
       "      <td>KIAD</td>\n",
       "      <td>WASHINGTON DULLES INTL ARPT</td>\n",
       "      <td>38.94453</td>\n",
       "      <td>-77.45581</td>\n",
       "      <td>...</td>\n",
       "      <td>Unknown bird - medium</td>\n",
       "      <td>False</td>\n",
       "      <td>False</td>\n",
       "      <td>Unknown</td>\n",
       "      <td>NaN</td>\n",
       "      <td>1</td>\n",
       "      <td>Medium</td>\n",
       "      <td>NaN</td>\n",
       "      <td>NaN</td>\n",
       "      <td>True</td>\n",
       "    </tr>\n",
       "    <tr>\n",
       "      <th>4</th>\n",
       "      <td>608246</td>\n",
       "      <td>7/1/1996</td>\n",
       "      <td>7</td>\n",
       "      <td>1996</td>\n",
       "      <td>NaN</td>\n",
       "      <td>NaN</td>\n",
       "      <td>KLGA</td>\n",
       "      <td>LA GUARDIA ARPT</td>\n",
       "      <td>40.77724</td>\n",
       "      <td>-73.87261</td>\n",
       "      <td>...</td>\n",
       "      <td>Unknown bird - medium</td>\n",
       "      <td>False</td>\n",
       "      <td>False</td>\n",
       "      <td>Unknown</td>\n",
       "      <td>NaN</td>\n",
       "      <td>1</td>\n",
       "      <td>Medium</td>\n",
       "      <td>NaN</td>\n",
       "      <td>NaN</td>\n",
       "      <td>True</td>\n",
       "    </tr>\n",
       "  </tbody>\n",
       "</table>\n",
       "<p>5 rows × 79 columns</p>\n",
       "</div>"
      ],
      "text/plain": [
       "   INDEX_NR INCIDENT_DATE  INCIDENT_MONTH  INCIDENT_YEAR TIME TIME_OF_DAY  \\\n",
       "0    608242     6/22/1996               6           1996  NaN         NaN   \n",
       "1    608243     6/26/1996               6           1996  NaN         NaN   \n",
       "2    608244      7/1/1996               7           1996  NaN         NaN   \n",
       "3    608245      7/1/1996               7           1996  NaN         NaN   \n",
       "4    608246      7/1/1996               7           1996  NaN         NaN   \n",
       "\n",
       "  AIRPORT_ID                      AIRPORT  LATITUDE  LONGITUDE  ...  \\\n",
       "0       KSMF              SACRAMENTO INTL  38.69542 -121.59077  ...   \n",
       "1       KDEN          DENVER INTL AIRPORT  39.85841 -104.66700  ...   \n",
       "2       KOMA              EPPLEY AIRFIELD  41.30252  -95.89417  ...   \n",
       "3       KIAD  WASHINGTON DULLES INTL ARPT  38.94453  -77.45581  ...   \n",
       "4       KLGA              LA GUARDIA ARPT  40.77724  -73.87261  ...   \n",
       "\n",
       "                 SPECIES REMAINS_COLLECTED REMAINS_SENT   WARNED NUM_SEEN  \\\n",
       "0  Unknown bird - medium             False        False  Unknown      NaN   \n",
       "1  Unknown bird - medium             False        False  Unknown      NaN   \n",
       "2  Unknown bird - medium             False        False  Unknown      NaN   \n",
       "3  Unknown bird - medium             False        False  Unknown      NaN   \n",
       "4  Unknown bird - medium             False        False  Unknown      NaN   \n",
       "\n",
       "  NUM_STRUCK    SIZE NR_INJURIES NR_FATALITIES  INDICATED_STRUCK  \n",
       "0          1  Medium         NaN           NaN              True  \n",
       "1          1  Medium         NaN           NaN              True  \n",
       "2          1  Medium         NaN           NaN              True  \n",
       "3          1  Medium         NaN           NaN              True  \n",
       "4          1  Medium         NaN           NaN              True  \n",
       "\n",
       "[5 rows x 79 columns]"
      ]
     },
     "execution_count": 341,
     "metadata": {},
     "output_type": "execute_result"
    }
   ],
   "source": [
    "# Replace False with NaN where engine positions are NaN\n",
    "for i in range(1, 5):\n",
    "    pos_col = f'ENG_{i}_POS'\n",
    "    for status in ['STR', 'DAM', 'ING']:\n",
    "        status_col = f'{status}_ENG{i}'\n",
    "        df[status_col] = df.apply(lambda row: np.nan if pd.isna(row[pos_col]) else row[status_col], axis=1)\n",
    "\n",
    "# View modified dataframe\n",
    "df.head()"
   ]
  },
  {
   "cell_type": "code",
   "execution_count": 342,
   "metadata": {},
   "outputs": [
    {
     "data": {
      "text/html": [
       "<div>\n",
       "<style scoped>\n",
       "    .dataframe tbody tr th:only-of-type {\n",
       "        vertical-align: middle;\n",
       "    }\n",
       "\n",
       "    .dataframe tbody tr th {\n",
       "        vertical-align: top;\n",
       "    }\n",
       "\n",
       "    .dataframe thead th {\n",
       "        text-align: right;\n",
       "    }\n",
       "</style>\n",
       "<table border=\"1\" class=\"dataframe\">\n",
       "  <thead>\n",
       "    <tr style=\"text-align: right;\">\n",
       "      <th></th>\n",
       "      <th>INDEX_NR</th>\n",
       "      <th>INCIDENT_DATE</th>\n",
       "      <th>INCIDENT_MONTH</th>\n",
       "      <th>INCIDENT_YEAR</th>\n",
       "      <th>TIME</th>\n",
       "      <th>TIME_OF_DAY</th>\n",
       "      <th>AIRPORT_ID</th>\n",
       "      <th>AIRPORT</th>\n",
       "      <th>LATITUDE</th>\n",
       "      <th>LONGITUDE</th>\n",
       "      <th>...</th>\n",
       "      <th>SPECIES</th>\n",
       "      <th>REMAINS_COLLECTED</th>\n",
       "      <th>REMAINS_SENT</th>\n",
       "      <th>WARNED</th>\n",
       "      <th>NUM_SEEN</th>\n",
       "      <th>NUM_STRUCK</th>\n",
       "      <th>SIZE</th>\n",
       "      <th>NR_INJURIES</th>\n",
       "      <th>NR_FATALITIES</th>\n",
       "      <th>INDICATED_STRUCK</th>\n",
       "    </tr>\n",
       "  </thead>\n",
       "  <tbody>\n",
       "  </tbody>\n",
       "</table>\n",
       "<p>0 rows × 79 columns</p>\n",
       "</div>"
      ],
      "text/plain": [
       "Empty DataFrame\n",
       "Columns: [INDEX_NR, INCIDENT_DATE, INCIDENT_MONTH, INCIDENT_YEAR, TIME, TIME_OF_DAY, AIRPORT_ID, AIRPORT, LATITUDE, LONGITUDE, STATE, FAAREGION, OPID, OPERATOR, AIRCRAFT, AMO, EMA, EMO, AC_CLASS, AC_MASS, TYPE_ENG, NUM_ENGS, ENG_1_POS, ENG_2_POS, ENG_3_POS, ENG_4_POS, PHASE_OF_FLIGHT, HEIGHT, SPEED, DISTANCE, SKY, PRECIPITATION, COST_REPAIRS, INDICATED_DAMAGE, DAMAGE_LEVEL, STR_RAD, DAM_RAD, STR_WINDSHLD, DAM_WINDSHLD, STR_NOSE, DAM_NOSE, STR_ENG1, DAM_ENG1, ING_ENG1, STR_ENG2, DAM_ENG2, ING_ENG2, STR_ENG3, DAM_ENG3, ING_ENG3, STR_ENG4, DAM_ENG4, ING_ENG4, STR_PROP, DAM_PROP, STR_WING_ROT, DAM_WING_ROT, STR_FUSE, DAM_FUSE, STR_LG, DAM_LG, STR_TAIL, DAM_TAIL, STR_LGHTS, DAM_LGHTS, STR_OTHER, DAM_OTHER, EFFECT, SPECIES_ID, SPECIES, REMAINS_COLLECTED, REMAINS_SENT, WARNED, NUM_SEEN, NUM_STRUCK, SIZE, NR_INJURIES, NR_FATALITIES, INDICATED_STRUCK]\n",
       "Index: []\n",
       "\n",
       "[0 rows x 79 columns]"
      ]
     },
     "execution_count": 342,
     "metadata": {},
     "output_type": "execute_result"
    }
   ],
   "source": [
    "# Identify duplicates\n",
    "df_duplicate = df[df.duplicated()]\n",
    "df_duplicate"
   ]
  },
  {
   "cell_type": "markdown",
   "metadata": {},
   "source": [
    "## EDA"
   ]
  },
  {
   "cell_type": "code",
   "execution_count": 343,
   "metadata": {},
   "outputs": [
    {
     "data": {
      "text/html": [
       "<div>\n",
       "<style scoped>\n",
       "    .dataframe tbody tr th:only-of-type {\n",
       "        vertical-align: middle;\n",
       "    }\n",
       "\n",
       "    .dataframe tbody tr th {\n",
       "        vertical-align: top;\n",
       "    }\n",
       "\n",
       "    .dataframe thead th {\n",
       "        text-align: right;\n",
       "    }\n",
       "</style>\n",
       "<table border=\"1\" class=\"dataframe\">\n",
       "  <thead>\n",
       "    <tr style=\"text-align: right;\">\n",
       "      <th></th>\n",
       "      <th>INDEX_NR</th>\n",
       "      <th>INCIDENT_MONTH</th>\n",
       "      <th>INCIDENT_YEAR</th>\n",
       "      <th>LATITUDE</th>\n",
       "      <th>LONGITUDE</th>\n",
       "      <th>AC_MASS</th>\n",
       "      <th>NUM_ENGS</th>\n",
       "      <th>ENG_1_POS</th>\n",
       "      <th>ENG_2_POS</th>\n",
       "      <th>ENG_3_POS</th>\n",
       "      <th>ENG_4_POS</th>\n",
       "      <th>HEIGHT</th>\n",
       "      <th>SPEED</th>\n",
       "      <th>DISTANCE</th>\n",
       "      <th>COST_REPAIRS</th>\n",
       "      <th>NR_INJURIES</th>\n",
       "      <th>NR_FATALITIES</th>\n",
       "    </tr>\n",
       "  </thead>\n",
       "  <tbody>\n",
       "    <tr>\n",
       "      <th>count</th>\n",
       "      <td>2.888100e+05</td>\n",
       "      <td>288810.000000</td>\n",
       "      <td>288810.000000</td>\n",
       "      <td>2.533090e+05</td>\n",
       "      <td>253308.000000</td>\n",
       "      <td>206490.000000</td>\n",
       "      <td>206259.000000</td>\n",
       "      <td>205481.000000</td>\n",
       "      <td>191612.000000</td>\n",
       "      <td>13080.000000</td>\n",
       "      <td>3290.000000</td>\n",
       "      <td>148807.000000</td>\n",
       "      <td>94237.000000</td>\n",
       "      <td>188234.000000</td>\n",
       "      <td>2.888100e+05</td>\n",
       "      <td>276.000000</td>\n",
       "      <td>24.000000</td>\n",
       "    </tr>\n",
       "    <tr>\n",
       "      <th>mean</th>\n",
       "      <td>8.736693e+05</td>\n",
       "      <td>7.175974</td>\n",
       "      <td>2011.697798</td>\n",
       "      <td>2.012754e+02</td>\n",
       "      <td>-90.880247</td>\n",
       "      <td>3.538312</td>\n",
       "      <td>2.013929</td>\n",
       "      <td>2.814956</td>\n",
       "      <td>2.667536</td>\n",
       "      <td>2.900306</td>\n",
       "      <td>2.043161</td>\n",
       "      <td>865.960358</td>\n",
       "      <td>142.585057</td>\n",
       "      <td>0.814466</td>\n",
       "      <td>2.375638e+03</td>\n",
       "      <td>1.293478</td>\n",
       "      <td>2.041667</td>\n",
       "    </tr>\n",
       "    <tr>\n",
       "      <th>std</th>\n",
       "      <td>2.526448e+05</td>\n",
       "      <td>2.765082</td>\n",
       "      <td>8.432311</td>\n",
       "      <td>8.177522e+04</td>\n",
       "      <td>327.243918</td>\n",
       "      <td>0.867312</td>\n",
       "      <td>0.420133</td>\n",
       "      <td>2.113806</td>\n",
       "      <td>1.981032</td>\n",
       "      <td>1.950649</td>\n",
       "      <td>1.435114</td>\n",
       "      <td>1843.098801</td>\n",
       "      <td>46.650050</td>\n",
       "      <td>3.547950</td>\n",
       "      <td>1.099087e+05</td>\n",
       "      <td>0.756134</td>\n",
       "      <td>1.654484</td>\n",
       "    </tr>\n",
       "    <tr>\n",
       "      <th>min</th>\n",
       "      <td>6.082420e+05</td>\n",
       "      <td>1.000000</td>\n",
       "      <td>1990.000000</td>\n",
       "      <td>-3.767333e+01</td>\n",
       "      <td>-177.381000</td>\n",
       "      <td>1.000000</td>\n",
       "      <td>1.000000</td>\n",
       "      <td>1.000000</td>\n",
       "      <td>1.000000</td>\n",
       "      <td>1.000000</td>\n",
       "      <td>1.000000</td>\n",
       "      <td>0.000000</td>\n",
       "      <td>0.000000</td>\n",
       "      <td>0.000000</td>\n",
       "      <td>0.000000e+00</td>\n",
       "      <td>1.000000</td>\n",
       "      <td>1.000000</td>\n",
       "    </tr>\n",
       "    <tr>\n",
       "      <th>25%</th>\n",
       "      <td>6.893202e+05</td>\n",
       "      <td>5.000000</td>\n",
       "      <td>2006.000000</td>\n",
       "      <td>3.298764e+01</td>\n",
       "      <td>-98.469780</td>\n",
       "      <td>3.000000</td>\n",
       "      <td>2.000000</td>\n",
       "      <td>1.000000</td>\n",
       "      <td>1.000000</td>\n",
       "      <td>1.000000</td>\n",
       "      <td>1.000000</td>\n",
       "      <td>0.000000</td>\n",
       "      <td>120.000000</td>\n",
       "      <td>0.000000</td>\n",
       "      <td>0.000000e+00</td>\n",
       "      <td>1.000000</td>\n",
       "      <td>1.000000</td>\n",
       "    </tr>\n",
       "    <tr>\n",
       "      <th>50%</th>\n",
       "      <td>7.646935e+05</td>\n",
       "      <td>7.000000</td>\n",
       "      <td>2014.000000</td>\n",
       "      <td>3.880581e+01</td>\n",
       "      <td>-87.904460</td>\n",
       "      <td>4.000000</td>\n",
       "      <td>2.000000</td>\n",
       "      <td>1.000000</td>\n",
       "      <td>1.000000</td>\n",
       "      <td>1.000000</td>\n",
       "      <td>1.000000</td>\n",
       "      <td>50.000000</td>\n",
       "      <td>140.000000</td>\n",
       "      <td>0.000000</td>\n",
       "      <td>0.000000e+00</td>\n",
       "      <td>1.000000</td>\n",
       "      <td>1.500000</td>\n",
       "    </tr>\n",
       "    <tr>\n",
       "      <th>75%</th>\n",
       "      <td>1.064714e+06</td>\n",
       "      <td>9.000000</td>\n",
       "      <td>2019.000000</td>\n",
       "      <td>4.085010e+01</td>\n",
       "      <td>-80.417940</td>\n",
       "      <td>4.000000</td>\n",
       "      <td>2.000000</td>\n",
       "      <td>5.000000</td>\n",
       "      <td>5.000000</td>\n",
       "      <td>5.000000</td>\n",
       "      <td>4.000000</td>\n",
       "      <td>900.000000</td>\n",
       "      <td>160.000000</td>\n",
       "      <td>0.000000</td>\n",
       "      <td>0.000000e+00</td>\n",
       "      <td>1.000000</td>\n",
       "      <td>2.000000</td>\n",
       "    </tr>\n",
       "    <tr>\n",
       "      <th>max</th>\n",
       "      <td>1.472259e+06</td>\n",
       "      <td>12.000000</td>\n",
       "      <td>2023.000000</td>\n",
       "      <td>4.115443e+07</td>\n",
       "      <td>164140.000000</td>\n",
       "      <td>5.000000</td>\n",
       "      <td>4.000000</td>\n",
       "      <td>7.000000</td>\n",
       "      <td>7.000000</td>\n",
       "      <td>6.000000</td>\n",
       "      <td>5.000000</td>\n",
       "      <td>31300.000000</td>\n",
       "      <td>1250.000000</td>\n",
       "      <td>99.000000</td>\n",
       "      <td>3.600000e+07</td>\n",
       "      <td>7.000000</td>\n",
       "      <td>8.000000</td>\n",
       "    </tr>\n",
       "  </tbody>\n",
       "</table>\n",
       "</div>"
      ],
      "text/plain": [
       "           INDEX_NR  INCIDENT_MONTH  INCIDENT_YEAR      LATITUDE  \\\n",
       "count  2.888100e+05   288810.000000  288810.000000  2.533090e+05   \n",
       "mean   8.736693e+05        7.175974    2011.697798  2.012754e+02   \n",
       "std    2.526448e+05        2.765082       8.432311  8.177522e+04   \n",
       "min    6.082420e+05        1.000000    1990.000000 -3.767333e+01   \n",
       "25%    6.893202e+05        5.000000    2006.000000  3.298764e+01   \n",
       "50%    7.646935e+05        7.000000    2014.000000  3.880581e+01   \n",
       "75%    1.064714e+06        9.000000    2019.000000  4.085010e+01   \n",
       "max    1.472259e+06       12.000000    2023.000000  4.115443e+07   \n",
       "\n",
       "           LONGITUDE        AC_MASS       NUM_ENGS      ENG_1_POS  \\\n",
       "count  253308.000000  206490.000000  206259.000000  205481.000000   \n",
       "mean      -90.880247       3.538312       2.013929       2.814956   \n",
       "std       327.243918       0.867312       0.420133       2.113806   \n",
       "min      -177.381000       1.000000       1.000000       1.000000   \n",
       "25%       -98.469780       3.000000       2.000000       1.000000   \n",
       "50%       -87.904460       4.000000       2.000000       1.000000   \n",
       "75%       -80.417940       4.000000       2.000000       5.000000   \n",
       "max    164140.000000       5.000000       4.000000       7.000000   \n",
       "\n",
       "           ENG_2_POS     ENG_3_POS    ENG_4_POS         HEIGHT         SPEED  \\\n",
       "count  191612.000000  13080.000000  3290.000000  148807.000000  94237.000000   \n",
       "mean        2.667536      2.900306     2.043161     865.960358    142.585057   \n",
       "std         1.981032      1.950649     1.435114    1843.098801     46.650050   \n",
       "min         1.000000      1.000000     1.000000       0.000000      0.000000   \n",
       "25%         1.000000      1.000000     1.000000       0.000000    120.000000   \n",
       "50%         1.000000      1.000000     1.000000      50.000000    140.000000   \n",
       "75%         5.000000      5.000000     4.000000     900.000000    160.000000   \n",
       "max         7.000000      6.000000     5.000000   31300.000000   1250.000000   \n",
       "\n",
       "            DISTANCE  COST_REPAIRS  NR_INJURIES  NR_FATALITIES  \n",
       "count  188234.000000  2.888100e+05   276.000000      24.000000  \n",
       "mean        0.814466  2.375638e+03     1.293478       2.041667  \n",
       "std         3.547950  1.099087e+05     0.756134       1.654484  \n",
       "min         0.000000  0.000000e+00     1.000000       1.000000  \n",
       "25%         0.000000  0.000000e+00     1.000000       1.000000  \n",
       "50%         0.000000  0.000000e+00     1.000000       1.500000  \n",
       "75%         0.000000  0.000000e+00     1.000000       2.000000  \n",
       "max        99.000000  3.600000e+07     7.000000       8.000000  "
      ]
     },
     "execution_count": 343,
     "metadata": {},
     "output_type": "execute_result"
    }
   ],
   "source": [
    "# Review descriptive analytics of the dataset\n",
    "df.describe()"
   ]
  },
  {
   "cell_type": "code",
   "execution_count": 344,
   "metadata": {},
   "outputs": [
    {
     "name": "stderr",
     "output_type": "stream",
     "text": [
      "Summarize dataset: 100%|██████████| 210/210 [00:08<00:00, 23.79it/s, Completed]                            \n",
      "Generate report structure: 100%|██████████| 1/1 [00:06<00:00,  6.47s/it]\n",
      "Render HTML: 100%|██████████| 1/1 [00:01<00:00,  1.27s/it]\n",
      "Export report to file: 100%|██████████| 1/1 [00:00<00:00, 133.14it/s]\n"
     ]
    }
   ],
   "source": [
    "# Capture a sample of the data\n",
    "df_sample = df.sample(10000)\n",
    "\n",
    "# Explore the sampled dataset by using ydata_profiling tool\n",
    "profile = ProfileReport(df_sample, title=\" Aircraft Collision Profiling Report\")\n",
    "\n",
    "# View ydata_profile results \n",
    "profile.to_file(\"aircraft_collision_profiling_report.html\")\n"
   ]
  },
  {
   "cell_type": "code",
   "execution_count": 345,
   "metadata": {},
   "outputs": [
    {
     "data": {
      "image/png": "[encoded data removed]",
      "text/plain": [
       "<Figure size 1600x500 with 4 Axes>"
      ]
     },
     "metadata": {},
     "output_type": "display_data"
    },
    {
     "data": {
      "text/plain": [
       "<Figure size 640x480 with 0 Axes>"
      ]
     },
     "metadata": {},
     "output_type": "display_data"
    }
   ],
   "source": [
    "# Plot figure\n",
    "fig, axs = plt.subplots(1, 4, figsize=(16, 5))\n",
    "\n",
    "# Plot incident year \n",
    "df['INCIDENT_YEAR'].value_counts().sort_index().plot(kind='bar', ax=axs[0], color='blue')\n",
    "axs[0].set_title('Incidents by Year')\n",
    "axs[0].set_ylabel('Frequency')\n",
    "axs[0].set_xlabel('Year')\n",
    "\n",
    "# Plot incident month\n",
    "df['INCIDENT_MONTH'].value_counts().sort_index().plot(kind='bar', ax=axs[1], color='skyblue')\n",
    "axs[1].set_title('Incident Month')\n",
    "axs[1].set_xlabel('Month')\n",
    "\n",
    "# Plot incident time of day\n",
    "df['TIME_OF_DAY'].value_counts().sort_index().plot(kind='bar', ax=axs[2], color='teal')\n",
    "axs[2].set_title('Time of Day')\n",
    "axs[2].set_xlabel('Time of day')\n",
    "\n",
    "# Plot the phase of the flight\n",
    "df['PHASE_OF_FLIGHT'].value_counts().plot(kind='bar', ax=axs[3], color='turquoise')\n",
    "axs[3].set_title('Phase of Flight')\n",
    "axs[3].set_xlabel('Phase of Flight')\n",
    "\n",
    "plt.tight_layout()\n",
    "plt.show()\n",
    "plt.clf()"
   ]
  },
  {
   "cell_type": "code",
   "execution_count": 346,
   "metadata": {},
   "outputs": [
    {
     "data": {
      "text/html": [
       "<div>\n",
       "<style scoped>\n",
       "    .dataframe tbody tr th:only-of-type {\n",
       "        vertical-align: middle;\n",
       "    }\n",
       "\n",
       "    .dataframe tbody tr th {\n",
       "        vertical-align: top;\n",
       "    }\n",
       "\n",
       "    .dataframe thead th {\n",
       "        text-align: right;\n",
       "    }\n",
       "</style>\n",
       "<table border=\"1\" class=\"dataframe\">\n",
       "  <thead>\n",
       "    <tr style=\"text-align: right;\">\n",
       "      <th></th>\n",
       "      <th>INDEX_NR</th>\n",
       "      <th>INCIDENT_DATE</th>\n",
       "      <th>INCIDENT_MONTH</th>\n",
       "      <th>INCIDENT_YEAR</th>\n",
       "      <th>TIME</th>\n",
       "      <th>TIME_OF_DAY</th>\n",
       "      <th>AIRPORT_ID</th>\n",
       "      <th>AIRPORT</th>\n",
       "      <th>LATITUDE</th>\n",
       "      <th>LONGITUDE</th>\n",
       "      <th>STATE</th>\n",
       "      <th>FAAREGION</th>\n",
       "      <th>OPID</th>\n",
       "      <th>OPERATOR</th>\n",
       "      <th>AIRCRAFT</th>\n",
       "      <th>AMO</th>\n",
       "      <th>EMA</th>\n",
       "      <th>EMO</th>\n",
       "      <th>AC_CLASS</th>\n",
       "      <th>AC_MASS</th>\n",
       "      <th>TYPE_ENG</th>\n",
       "      <th>NUM_ENGS</th>\n",
       "      <th>ENG_1_POS</th>\n",
       "      <th>ENG_2_POS</th>\n",
       "      <th>ENG_3_POS</th>\n",
       "      <th>ENG_4_POS</th>\n",
       "      <th>PHASE_OF_FLIGHT</th>\n",
       "      <th>HEIGHT</th>\n",
       "      <th>SPEED</th>\n",
       "      <th>DISTANCE</th>\n",
       "      <th>SKY</th>\n",
       "      <th>PRECIPITATION</th>\n",
       "      <th>COST_REPAIRS</th>\n",
       "      <th>INDICATED_DAMAGE</th>\n",
       "      <th>DAMAGE_LEVEL</th>\n",
       "      <th>STR_RAD</th>\n",
       "      <th>DAM_RAD</th>\n",
       "      <th>STR_WINDSHLD</th>\n",
       "      <th>DAM_WINDSHLD</th>\n",
       "      <th>STR_NOSE</th>\n",
       "      <th>DAM_NOSE</th>\n",
       "      <th>STR_ENG1</th>\n",
       "      <th>DAM_ENG1</th>\n",
       "      <th>ING_ENG1</th>\n",
       "      <th>STR_ENG2</th>\n",
       "      <th>DAM_ENG2</th>\n",
       "      <th>ING_ENG2</th>\n",
       "      <th>STR_ENG3</th>\n",
       "      <th>DAM_ENG3</th>\n",
       "      <th>ING_ENG3</th>\n",
       "      <th>STR_ENG4</th>\n",
       "      <th>DAM_ENG4</th>\n",
       "      <th>ING_ENG4</th>\n",
       "      <th>STR_PROP</th>\n",
       "      <th>DAM_PROP</th>\n",
       "      <th>STR_WING_ROT</th>\n",
       "      <th>DAM_WING_ROT</th>\n",
       "      <th>STR_FUSE</th>\n",
       "      <th>DAM_FUSE</th>\n",
       "      <th>STR_LG</th>\n",
       "      <th>DAM_LG</th>\n",
       "      <th>STR_TAIL</th>\n",
       "      <th>DAM_TAIL</th>\n",
       "      <th>STR_LGHTS</th>\n",
       "      <th>DAM_LGHTS</th>\n",
       "      <th>STR_OTHER</th>\n",
       "      <th>DAM_OTHER</th>\n",
       "      <th>EFFECT</th>\n",
       "      <th>SPECIES_ID</th>\n",
       "      <th>SPECIES</th>\n",
       "      <th>REMAINS_COLLECTED</th>\n",
       "      <th>REMAINS_SENT</th>\n",
       "      <th>WARNED</th>\n",
       "      <th>NUM_SEEN</th>\n",
       "      <th>NUM_STRUCK</th>\n",
       "      <th>SIZE</th>\n",
       "      <th>NR_INJURIES</th>\n",
       "      <th>NR_FATALITIES</th>\n",
       "      <th>INDICATED_STRUCK</th>\n",
       "    </tr>\n",
       "  </thead>\n",
       "  <tbody>\n",
       "    <tr>\n",
       "      <th>0</th>\n",
       "      <td>608242</td>\n",
       "      <td>6/22/1996</td>\n",
       "      <td>6</td>\n",
       "      <td>1996</td>\n",
       "      <td>NaN</td>\n",
       "      <td>NaN</td>\n",
       "      <td>KSMF</td>\n",
       "      <td>SACRAMENTO INTL</td>\n",
       "      <td>38.69542</td>\n",
       "      <td>-121.59077</td>\n",
       "      <td>CA</td>\n",
       "      <td>AWP</td>\n",
       "      <td>UAL</td>\n",
       "      <td>UNITED AIRLINES</td>\n",
       "      <td>B-737-300</td>\n",
       "      <td>24</td>\n",
       "      <td>10.0</td>\n",
       "      <td>1.0</td>\n",
       "      <td>A</td>\n",
       "      <td>4.0</td>\n",
       "      <td>D</td>\n",
       "      <td>2.0</td>\n",
       "      <td>1.0</td>\n",
       "      <td>1.0</td>\n",
       "      <td>NaN</td>\n",
       "      <td>NaN</td>\n",
       "      <td>Take-off Run</td>\n",
       "      <td>0.0</td>\n",
       "      <td>NaN</td>\n",
       "      <td>0.0</td>\n",
       "      <td>NaN</td>\n",
       "      <td>NaN</td>\n",
       "      <td>0</td>\n",
       "      <td>False</td>\n",
       "      <td>NaN</td>\n",
       "      <td>False</td>\n",
       "      <td>False</td>\n",
       "      <td>False</td>\n",
       "      <td>False</td>\n",
       "      <td>True</td>\n",
       "      <td>False</td>\n",
       "      <td>False</td>\n",
       "      <td>False</td>\n",
       "      <td>False</td>\n",
       "      <td>False</td>\n",
       "      <td>False</td>\n",
       "      <td>False</td>\n",
       "      <td>NaN</td>\n",
       "      <td>NaN</td>\n",
       "      <td>NaN</td>\n",
       "      <td>NaN</td>\n",
       "      <td>NaN</td>\n",
       "      <td>NaN</td>\n",
       "      <td>False</td>\n",
       "      <td>False</td>\n",
       "      <td>False</td>\n",
       "      <td>False</td>\n",
       "      <td>False</td>\n",
       "      <td>False</td>\n",
       "      <td>False</td>\n",
       "      <td>False</td>\n",
       "      <td>False</td>\n",
       "      <td>False</td>\n",
       "      <td>False</td>\n",
       "      <td>False</td>\n",
       "      <td>False</td>\n",
       "      <td>False</td>\n",
       "      <td>NaN</td>\n",
       "      <td>UNKBM</td>\n",
       "      <td>Unknown bird - medium</td>\n",
       "      <td>False</td>\n",
       "      <td>False</td>\n",
       "      <td>Unknown</td>\n",
       "      <td>NaN</td>\n",
       "      <td>1</td>\n",
       "      <td>Medium</td>\n",
       "      <td>NaN</td>\n",
       "      <td>NaN</td>\n",
       "      <td>True</td>\n",
       "    </tr>\n",
       "    <tr>\n",
       "      <th>1</th>\n",
       "      <td>608243</td>\n",
       "      <td>6/26/1996</td>\n",
       "      <td>6</td>\n",
       "      <td>1996</td>\n",
       "      <td>NaN</td>\n",
       "      <td>NaN</td>\n",
       "      <td>KDEN</td>\n",
       "      <td>DENVER INTL AIRPORT</td>\n",
       "      <td>39.85841</td>\n",
       "      <td>-104.66700</td>\n",
       "      <td>CO</td>\n",
       "      <td>ANM</td>\n",
       "      <td>UAL</td>\n",
       "      <td>UNITED AIRLINES</td>\n",
       "      <td>B-737-300</td>\n",
       "      <td>24</td>\n",
       "      <td>10.0</td>\n",
       "      <td>1.0</td>\n",
       "      <td>A</td>\n",
       "      <td>4.0</td>\n",
       "      <td>D</td>\n",
       "      <td>2.0</td>\n",
       "      <td>1.0</td>\n",
       "      <td>1.0</td>\n",
       "      <td>NaN</td>\n",
       "      <td>NaN</td>\n",
       "      <td>Take-off Run</td>\n",
       "      <td>0.0</td>\n",
       "      <td>NaN</td>\n",
       "      <td>0.0</td>\n",
       "      <td>NaN</td>\n",
       "      <td>NaN</td>\n",
       "      <td>0</td>\n",
       "      <td>False</td>\n",
       "      <td>NaN</td>\n",
       "      <td>False</td>\n",
       "      <td>False</td>\n",
       "      <td>False</td>\n",
       "      <td>False</td>\n",
       "      <td>False</td>\n",
       "      <td>False</td>\n",
       "      <td>True</td>\n",
       "      <td>False</td>\n",
       "      <td>False</td>\n",
       "      <td>False</td>\n",
       "      <td>False</td>\n",
       "      <td>False</td>\n",
       "      <td>NaN</td>\n",
       "      <td>NaN</td>\n",
       "      <td>NaN</td>\n",
       "      <td>NaN</td>\n",
       "      <td>NaN</td>\n",
       "      <td>NaN</td>\n",
       "      <td>False</td>\n",
       "      <td>False</td>\n",
       "      <td>False</td>\n",
       "      <td>False</td>\n",
       "      <td>False</td>\n",
       "      <td>False</td>\n",
       "      <td>False</td>\n",
       "      <td>False</td>\n",
       "      <td>False</td>\n",
       "      <td>False</td>\n",
       "      <td>False</td>\n",
       "      <td>False</td>\n",
       "      <td>False</td>\n",
       "      <td>False</td>\n",
       "      <td>NaN</td>\n",
       "      <td>UNKBM</td>\n",
       "      <td>Unknown bird - medium</td>\n",
       "      <td>False</td>\n",
       "      <td>False</td>\n",
       "      <td>Unknown</td>\n",
       "      <td>NaN</td>\n",
       "      <td>1</td>\n",
       "      <td>Medium</td>\n",
       "      <td>NaN</td>\n",
       "      <td>NaN</td>\n",
       "      <td>True</td>\n",
       "    </tr>\n",
       "    <tr>\n",
       "      <th>2</th>\n",
       "      <td>608244</td>\n",
       "      <td>7/1/1996</td>\n",
       "      <td>7</td>\n",
       "      <td>1996</td>\n",
       "      <td>NaN</td>\n",
       "      <td>NaN</td>\n",
       "      <td>KOMA</td>\n",
       "      <td>EPPLEY AIRFIELD</td>\n",
       "      <td>41.30252</td>\n",
       "      <td>-95.89417</td>\n",
       "      <td>NE</td>\n",
       "      <td>ACE</td>\n",
       "      <td>UAL</td>\n",
       "      <td>UNITED AIRLINES</td>\n",
       "      <td>B-757-200</td>\n",
       "      <td>26</td>\n",
       "      <td>34.0</td>\n",
       "      <td>40.0</td>\n",
       "      <td>A</td>\n",
       "      <td>4.0</td>\n",
       "      <td>D</td>\n",
       "      <td>2.0</td>\n",
       "      <td>1.0</td>\n",
       "      <td>1.0</td>\n",
       "      <td>NaN</td>\n",
       "      <td>NaN</td>\n",
       "      <td>Take-off Run</td>\n",
       "      <td>0.0</td>\n",
       "      <td>NaN</td>\n",
       "      <td>0.0</td>\n",
       "      <td>NaN</td>\n",
       "      <td>NaN</td>\n",
       "      <td>0</td>\n",
       "      <td>False</td>\n",
       "      <td>N</td>\n",
       "      <td>False</td>\n",
       "      <td>False</td>\n",
       "      <td>False</td>\n",
       "      <td>False</td>\n",
       "      <td>False</td>\n",
       "      <td>False</td>\n",
       "      <td>False</td>\n",
       "      <td>False</td>\n",
       "      <td>False</td>\n",
       "      <td>True</td>\n",
       "      <td>False</td>\n",
       "      <td>False</td>\n",
       "      <td>NaN</td>\n",
       "      <td>NaN</td>\n",
       "      <td>NaN</td>\n",
       "      <td>NaN</td>\n",
       "      <td>NaN</td>\n",
       "      <td>NaN</td>\n",
       "      <td>False</td>\n",
       "      <td>False</td>\n",
       "      <td>False</td>\n",
       "      <td>False</td>\n",
       "      <td>False</td>\n",
       "      <td>False</td>\n",
       "      <td>False</td>\n",
       "      <td>False</td>\n",
       "      <td>False</td>\n",
       "      <td>False</td>\n",
       "      <td>False</td>\n",
       "      <td>False</td>\n",
       "      <td>False</td>\n",
       "      <td>False</td>\n",
       "      <td>NaN</td>\n",
       "      <td>UNKBM</td>\n",
       "      <td>Unknown bird - medium</td>\n",
       "      <td>False</td>\n",
       "      <td>False</td>\n",
       "      <td>Unknown</td>\n",
       "      <td>NaN</td>\n",
       "      <td>1</td>\n",
       "      <td>Medium</td>\n",
       "      <td>NaN</td>\n",
       "      <td>NaN</td>\n",
       "      <td>True</td>\n",
       "    </tr>\n",
       "    <tr>\n",
       "      <th>3</th>\n",
       "      <td>608245</td>\n",
       "      <td>7/1/1996</td>\n",
       "      <td>7</td>\n",
       "      <td>1996</td>\n",
       "      <td>NaN</td>\n",
       "      <td>NaN</td>\n",
       "      <td>KIAD</td>\n",
       "      <td>WASHINGTON DULLES INTL ARPT</td>\n",
       "      <td>38.94453</td>\n",
       "      <td>-77.45581</td>\n",
       "      <td>DC</td>\n",
       "      <td>AEA</td>\n",
       "      <td>UAL</td>\n",
       "      <td>UNITED AIRLINES</td>\n",
       "      <td>A-320</td>\n",
       "      <td>03</td>\n",
       "      <td>23.0</td>\n",
       "      <td>1.0</td>\n",
       "      <td>A</td>\n",
       "      <td>4.0</td>\n",
       "      <td>D</td>\n",
       "      <td>2.0</td>\n",
       "      <td>1.0</td>\n",
       "      <td>1.0</td>\n",
       "      <td>NaN</td>\n",
       "      <td>NaN</td>\n",
       "      <td>Approach</td>\n",
       "      <td>1000.0</td>\n",
       "      <td>NaN</td>\n",
       "      <td>NaN</td>\n",
       "      <td>NaN</td>\n",
       "      <td>NaN</td>\n",
       "      <td>0</td>\n",
       "      <td>False</td>\n",
       "      <td>N</td>\n",
       "      <td>False</td>\n",
       "      <td>False</td>\n",
       "      <td>False</td>\n",
       "      <td>False</td>\n",
       "      <td>False</td>\n",
       "      <td>False</td>\n",
       "      <td>False</td>\n",
       "      <td>False</td>\n",
       "      <td>False</td>\n",
       "      <td>False</td>\n",
       "      <td>False</td>\n",
       "      <td>False</td>\n",
       "      <td>NaN</td>\n",
       "      <td>NaN</td>\n",
       "      <td>NaN</td>\n",
       "      <td>NaN</td>\n",
       "      <td>NaN</td>\n",
       "      <td>NaN</td>\n",
       "      <td>False</td>\n",
       "      <td>False</td>\n",
       "      <td>False</td>\n",
       "      <td>False</td>\n",
       "      <td>True</td>\n",
       "      <td>False</td>\n",
       "      <td>False</td>\n",
       "      <td>False</td>\n",
       "      <td>False</td>\n",
       "      <td>False</td>\n",
       "      <td>False</td>\n",
       "      <td>False</td>\n",
       "      <td>False</td>\n",
       "      <td>False</td>\n",
       "      <td>NaN</td>\n",
       "      <td>UNKBM</td>\n",
       "      <td>Unknown bird - medium</td>\n",
       "      <td>False</td>\n",
       "      <td>False</td>\n",
       "      <td>Unknown</td>\n",
       "      <td>NaN</td>\n",
       "      <td>1</td>\n",
       "      <td>Medium</td>\n",
       "      <td>NaN</td>\n",
       "      <td>NaN</td>\n",
       "      <td>True</td>\n",
       "    </tr>\n",
       "    <tr>\n",
       "      <th>4</th>\n",
       "      <td>608246</td>\n",
       "      <td>7/1/1996</td>\n",
       "      <td>7</td>\n",
       "      <td>1996</td>\n",
       "      <td>NaN</td>\n",
       "      <td>NaN</td>\n",
       "      <td>KLGA</td>\n",
       "      <td>LA GUARDIA ARPT</td>\n",
       "      <td>40.77724</td>\n",
       "      <td>-73.87261</td>\n",
       "      <td>NY</td>\n",
       "      <td>AEA</td>\n",
       "      <td>UAL</td>\n",
       "      <td>UNITED AIRLINES</td>\n",
       "      <td>A-320</td>\n",
       "      <td>03</td>\n",
       "      <td>23.0</td>\n",
       "      <td>1.0</td>\n",
       "      <td>A</td>\n",
       "      <td>4.0</td>\n",
       "      <td>D</td>\n",
       "      <td>2.0</td>\n",
       "      <td>1.0</td>\n",
       "      <td>1.0</td>\n",
       "      <td>NaN</td>\n",
       "      <td>NaN</td>\n",
       "      <td>Climb</td>\n",
       "      <td>5000.0</td>\n",
       "      <td>NaN</td>\n",
       "      <td>NaN</td>\n",
       "      <td>NaN</td>\n",
       "      <td>NaN</td>\n",
       "      <td>0</td>\n",
       "      <td>True</td>\n",
       "      <td>M</td>\n",
       "      <td>False</td>\n",
       "      <td>False</td>\n",
       "      <td>False</td>\n",
       "      <td>False</td>\n",
       "      <td>False</td>\n",
       "      <td>False</td>\n",
       "      <td>True</td>\n",
       "      <td>False</td>\n",
       "      <td>False</td>\n",
       "      <td>False</td>\n",
       "      <td>False</td>\n",
       "      <td>False</td>\n",
       "      <td>NaN</td>\n",
       "      <td>NaN</td>\n",
       "      <td>NaN</td>\n",
       "      <td>NaN</td>\n",
       "      <td>NaN</td>\n",
       "      <td>NaN</td>\n",
       "      <td>False</td>\n",
       "      <td>False</td>\n",
       "      <td>False</td>\n",
       "      <td>False</td>\n",
       "      <td>True</td>\n",
       "      <td>True</td>\n",
       "      <td>False</td>\n",
       "      <td>False</td>\n",
       "      <td>False</td>\n",
       "      <td>False</td>\n",
       "      <td>False</td>\n",
       "      <td>False</td>\n",
       "      <td>False</td>\n",
       "      <td>False</td>\n",
       "      <td>NaN</td>\n",
       "      <td>UNKBM</td>\n",
       "      <td>Unknown bird - medium</td>\n",
       "      <td>False</td>\n",
       "      <td>False</td>\n",
       "      <td>Unknown</td>\n",
       "      <td>NaN</td>\n",
       "      <td>1</td>\n",
       "      <td>Medium</td>\n",
       "      <td>NaN</td>\n",
       "      <td>NaN</td>\n",
       "      <td>True</td>\n",
       "    </tr>\n",
       "  </tbody>\n",
       "</table>\n",
       "</div>"
      ],
      "text/plain": [
       "   INDEX_NR INCIDENT_DATE  INCIDENT_MONTH  INCIDENT_YEAR TIME TIME_OF_DAY  \\\n",
       "0    608242     6/22/1996               6           1996  NaN         NaN   \n",
       "1    608243     6/26/1996               6           1996  NaN         NaN   \n",
       "2    608244      7/1/1996               7           1996  NaN         NaN   \n",
       "3    608245      7/1/1996               7           1996  NaN         NaN   \n",
       "4    608246      7/1/1996               7           1996  NaN         NaN   \n",
       "\n",
       "  AIRPORT_ID                      AIRPORT  LATITUDE  LONGITUDE STATE  \\\n",
       "0       KSMF              SACRAMENTO INTL  38.69542 -121.59077    CA   \n",
       "1       KDEN          DENVER INTL AIRPORT  39.85841 -104.66700    CO   \n",
       "2       KOMA              EPPLEY AIRFIELD  41.30252  -95.89417    NE   \n",
       "3       KIAD  WASHINGTON DULLES INTL ARPT  38.94453  -77.45581    DC   \n",
       "4       KLGA              LA GUARDIA ARPT  40.77724  -73.87261    NY   \n",
       "\n",
       "  FAAREGION OPID         OPERATOR   AIRCRAFT AMO   EMA   EMO AC_CLASS  \\\n",
       "0       AWP  UAL  UNITED AIRLINES  B-737-300  24  10.0   1.0        A   \n",
       "1       ANM  UAL  UNITED AIRLINES  B-737-300  24  10.0   1.0        A   \n",
       "2       ACE  UAL  UNITED AIRLINES  B-757-200  26  34.0  40.0        A   \n",
       "3       AEA  UAL  UNITED AIRLINES      A-320  03  23.0   1.0        A   \n",
       "4       AEA  UAL  UNITED AIRLINES      A-320  03  23.0   1.0        A   \n",
       "\n",
       "   AC_MASS TYPE_ENG  NUM_ENGS  ENG_1_POS  ENG_2_POS  ENG_3_POS  ENG_4_POS  \\\n",
       "0      4.0        D       2.0        1.0        1.0        NaN        NaN   \n",
       "1      4.0        D       2.0        1.0        1.0        NaN        NaN   \n",
       "2      4.0        D       2.0        1.0        1.0        NaN        NaN   \n",
       "3      4.0        D       2.0        1.0        1.0        NaN        NaN   \n",
       "4      4.0        D       2.0        1.0        1.0        NaN        NaN   \n",
       "\n",
       "  PHASE_OF_FLIGHT  HEIGHT  SPEED  DISTANCE  SKY PRECIPITATION  COST_REPAIRS  \\\n",
       "0    Take-off Run     0.0    NaN       0.0  NaN           NaN             0   \n",
       "1    Take-off Run     0.0    NaN       0.0  NaN           NaN             0   \n",
       "2    Take-off Run     0.0    NaN       0.0  NaN           NaN             0   \n",
       "3        Approach  1000.0    NaN       NaN  NaN           NaN             0   \n",
       "4           Climb  5000.0    NaN       NaN  NaN           NaN             0   \n",
       "\n",
       "   INDICATED_DAMAGE DAMAGE_LEVEL  STR_RAD  DAM_RAD  STR_WINDSHLD  \\\n",
       "0             False          NaN    False    False         False   \n",
       "1             False          NaN    False    False         False   \n",
       "2             False            N    False    False         False   \n",
       "3             False            N    False    False         False   \n",
       "4              True            M    False    False         False   \n",
       "\n",
       "   DAM_WINDSHLD  STR_NOSE  DAM_NOSE STR_ENG1 DAM_ENG1 ING_ENG1 STR_ENG2  \\\n",
       "0         False      True     False    False    False    False    False   \n",
       "1         False     False     False     True    False    False    False   \n",
       "2         False     False     False    False    False    False     True   \n",
       "3         False     False     False    False    False    False    False   \n",
       "4         False     False     False     True    False    False    False   \n",
       "\n",
       "  DAM_ENG2 ING_ENG2 STR_ENG3 DAM_ENG3 ING_ENG3 STR_ENG4 DAM_ENG4 ING_ENG4  \\\n",
       "0    False    False      NaN      NaN      NaN      NaN      NaN      NaN   \n",
       "1    False    False      NaN      NaN      NaN      NaN      NaN      NaN   \n",
       "2    False    False      NaN      NaN      NaN      NaN      NaN      NaN   \n",
       "3    False    False      NaN      NaN      NaN      NaN      NaN      NaN   \n",
       "4    False    False      NaN      NaN      NaN      NaN      NaN      NaN   \n",
       "\n",
       "   STR_PROP  DAM_PROP  STR_WING_ROT  DAM_WING_ROT  STR_FUSE  DAM_FUSE  STR_LG  \\\n",
       "0     False     False         False         False     False     False   False   \n",
       "1     False     False         False         False     False     False   False   \n",
       "2     False     False         False         False     False     False   False   \n",
       "3     False     False         False         False      True     False   False   \n",
       "4     False     False         False         False      True      True   False   \n",
       "\n",
       "   DAM_LG  STR_TAIL  DAM_TAIL  STR_LGHTS  DAM_LGHTS  STR_OTHER  DAM_OTHER  \\\n",
       "0   False     False     False      False      False      False      False   \n",
       "1   False     False     False      False      False      False      False   \n",
       "2   False     False     False      False      False      False      False   \n",
       "3   False     False     False      False      False      False      False   \n",
       "4   False     False     False      False      False      False      False   \n",
       "\n",
       "  EFFECT SPECIES_ID                SPECIES  REMAINS_COLLECTED  REMAINS_SENT  \\\n",
       "0    NaN      UNKBM  Unknown bird - medium              False         False   \n",
       "1    NaN      UNKBM  Unknown bird - medium              False         False   \n",
       "2    NaN      UNKBM  Unknown bird - medium              False         False   \n",
       "3    NaN      UNKBM  Unknown bird - medium              False         False   \n",
       "4    NaN      UNKBM  Unknown bird - medium              False         False   \n",
       "\n",
       "    WARNED NUM_SEEN NUM_STRUCK    SIZE  NR_INJURIES  NR_FATALITIES  \\\n",
       "0  Unknown      NaN          1  Medium          NaN            NaN   \n",
       "1  Unknown      NaN          1  Medium          NaN            NaN   \n",
       "2  Unknown      NaN          1  Medium          NaN            NaN   \n",
       "3  Unknown      NaN          1  Medium          NaN            NaN   \n",
       "4  Unknown      NaN          1  Medium          NaN            NaN   \n",
       "\n",
       "   INDICATED_STRUCK  \n",
       "0              True  \n",
       "1              True  \n",
       "2              True  \n",
       "3              True  \n",
       "4              True  "
      ]
     },
     "execution_count": 346,
     "metadata": {},
     "output_type": "execute_result"
    }
   ],
   "source": [
    "pd.set_option('display.max_columns', None)\n",
    "df.head()"
   ]
  },
  {
   "cell_type": "code",
   "execution_count": 156,
   "metadata": {},
   "outputs": [
    {
     "data": {
      "application/vnd.plotly.v1+json": {
       "config": {
        "plotlyServerURL": "https://plot.ly"
       },
       "data": [
        {
         "branchvalues": "total",
         "customdata": [
          [
           2749
          ],
          [
           2482
          ],
          [
           3144
          ],
          [
           6239
          ],
          [
           2723
          ],
          [
           7759
          ],
          [
           9620
          ],
          [
           3600
          ],
          [
           2488
          ],
          [
           2427
          ],
          [
           3529
          ],
          [
           5984
          ],
          [
           3073
          ],
          [
           3319
          ],
          [
           2695
          ],
          [
           4813
          ],
          [
           3135
          ],
          [
           2930
          ],
          [
           3589
          ],
          [
           2911
          ],
          [
           2501
          ],
          [
           3608
          ],
          [
           3722
          ],
          [
           35418
          ],
          [
           2449
          ]
         ],
         "domain": {
          "x": [
           0,
           1
          ],
          "y": [
           0,
           1
          ]
         },
         "hovertemplate": "labels=%{label}<br>COUNT_sum=%{value}<br>parent=%{parent}<br>id=%{id}<br>COUNT=%{color}<extra></extra>",
         "ids": [
          "AUSTIN-BERGSTROM INTL",
          "BALTIMORE/WASH INTL THURGOOD MARSHAL ARPT",
          "CHARLOTTE/DOUGLAS INTL ARPT",
          "CHICAGO O'HARE INTL ARPT",
          "CINCINNATI/NORTHERN KENTUCKY INTL ARPT",
          "DALLAS/FORT WORTH INTL ARPT",
          "DENVER INTL AIRPORT",
          "DETROIT METRO WAYNE COUNTY ARPT",
          "GENERAL EDWARD LAWRENCE LOGAN INTL ARPT",
          "GEORGE BUSH INTERCONTINENTAL/ HOUSTON ARPT",
          "HARTSFIELD - JACKSON ATLANTA INTL ARPT",
          "JOHN F KENNEDY INTL",
          "KANSAS CITY INTL",
          "LA GUARDIA ARPT",
          "LOS ANGELES INTL",
          "MEMPHIS INTL",
          "MUHAMMAD ALI INTERNATIONAL",
          "NEWARK LIBERTY INTL ARPT",
          "ORLANDO INTL",
          "PHILADELPHIA INTL",
          "PORTLAND INTL (OR)",
          "SACRAMENTO INTL",
          "SALT LAKE CITY INTL",
          "UNKNOWN",
          "WASHINGTON DULLES INTL ARPT"
         ],
         "labels": [
          "AUSTIN-BERGSTROM INTL",
          "BALTIMORE/WASH INTL THURGOOD MARSHAL ARPT",
          "CHARLOTTE/DOUGLAS INTL ARPT",
          "CHICAGO O'HARE INTL ARPT",
          "CINCINNATI/NORTHERN KENTUCKY INTL ARPT",
          "DALLAS/FORT WORTH INTL ARPT",
          "DENVER INTL AIRPORT",
          "DETROIT METRO WAYNE COUNTY ARPT",
          "GENERAL EDWARD LAWRENCE LOGAN INTL ARPT",
          "GEORGE BUSH INTERCONTINENTAL/ HOUSTON ARPT",
          "HARTSFIELD - JACKSON ATLANTA INTL ARPT",
          "JOHN F KENNEDY INTL",
          "KANSAS CITY INTL",
          "LA GUARDIA ARPT",
          "LOS ANGELES INTL",
          "MEMPHIS INTL",
          "MUHAMMAD ALI INTERNATIONAL",
          "NEWARK LIBERTY INTL ARPT",
          "ORLANDO INTL",
          "PHILADELPHIA INTL",
          "PORTLAND INTL (OR)",
          "SACRAMENTO INTL",
          "SALT LAKE CITY INTL",
          "UNKNOWN",
          "WASHINGTON DULLES INTL ARPT"
         ],
         "marker": {
          "coloraxis": "coloraxis",
          "colors": [
           2749,
           2482,
           3144,
           6239,
           2723,
           7759,
           9620,
           3600,
           2488,
           2427,
           3529,
           5984,
           3073,
           3319,
           2695,
           4813,
           3135,
           2930,
           3589,
           2911,
           2501,
           3608,
           3722,
           35418,
           2449
          ]
         },
         "name": "",
         "parents": [
          "",
          "",
          "",
          "",
          "",
          "",
          "",
          "",
          "",
          "",
          "",
          "",
          "",
          "",
          "",
          "",
          "",
          "",
          "",
          "",
          "",
          "",
          "",
          "",
          ""
         ],
         "type": "treemap",
         "values": [
          2749,
          2482,
          3144,
          6239,
          2723,
          7759,
          9620,
          3600,
          2488,
          2427,
          3529,
          5984,
          3073,
          3319,
          2695,
          4813,
          3135,
          2930,
          3589,
          2911,
          2501,
          3608,
          3722,
          35418,
          2449
         ]
        }
       ],
       "layout": {
        "coloraxis": {
         "colorbar": {
          "title": {
           "text": "Volume"
          }
         },
         "colorscale": [
          [
           0,
           "rgb(0,0,0)"
          ],
          [
           0.2,
           "rgb(30,0,100)"
          ],
          [
           0.4,
           "rgb(120,0,100)"
          ],
          [
           0.6,
           "rgb(160,90,0)"
          ],
          [
           0.8,
           "rgb(230,200,0)"
          ],
          [
           1,
           "rgb(255,250,220)"
          ]
         ]
        },
        "height": 500,
        "legend": {
         "tracegroupgap": 0
        },
        "template": {
         "data": {
          "bar": [
           {
            "error_x": {
             "color": "rgb(51,51,51)"
            },
            "error_y": {
             "color": "rgb(51,51,51)"
            },
            "marker": {
             "line": {
              "color": "rgb(237,237,237)",
              "width": 0.5
             },
             "pattern": {
              "fillmode": "overlay",
              "size": 10,
              "solidity": 0.2
             }
            },
            "type": "bar"
           }
          ],
          "barpolar": [
           {
            "marker": {
             "line": {
              "color": "rgb(237,237,237)",
              "width": 0.5
             },
             "pattern": {
              "fillmode": "overlay",
              "size": 10,
              "solidity": 0.2
             }
            },
            "type": "barpolar"
           }
          ],
          "carpet": [
           {
            "aaxis": {
             "endlinecolor": "rgb(51,51,51)",
             "gridcolor": "white",
             "linecolor": "white",
             "minorgridcolor": "white",
             "startlinecolor": "rgb(51,51,51)"
            },
            "baxis": {
             "endlinecolor": "rgb(51,51,51)",
             "gridcolor": "white",
             "linecolor": "white",
             "minorgridcolor": "white",
             "startlinecolor": "rgb(51,51,51)"
            },
            "type": "carpet"
           }
          ],
          "choropleth": [
           {
            "colorbar": {
             "outlinewidth": 0,
             "tickcolor": "rgb(237,237,237)",
             "ticklen": 6,
             "ticks": "inside"
            },
            "type": "choropleth"
           }
          ],
          "contour": [
           {
            "colorbar": {
             "outlinewidth": 0,
             "tickcolor": "rgb(237,237,237)",
             "ticklen": 6,
             "ticks": "inside"
            },
            "colorscale": [
             [
              0,
              "rgb(20,44,66)"
             ],
             [
              1,
              "rgb(90,179,244)"
             ]
            ],
            "type": "contour"
           }
          ],
          "contourcarpet": [
           {
            "colorbar": {
             "outlinewidth": 0,
             "tickcolor": "rgb(237,237,237)",
             "ticklen": 6,
             "ticks": "inside"
            },
            "type": "contourcarpet"
           }
          ],
          "heatmap": [
           {
            "colorbar": {
             "outlinewidth": 0,
             "tickcolor": "rgb(237,237,237)",
             "ticklen": 6,
             "ticks": "inside"
            },
            "colorscale": [
             [
              0,
              "rgb(20,44,66)"
             ],
             [
              1,
              "rgb(90,179,244)"
             ]
            ],
            "type": "heatmap"
           }
          ],
          "heatmapgl": [
           {
            "colorbar": {
             "outlinewidth": 0,
             "tickcolor": "rgb(237,237,237)",
             "ticklen": 6,
             "ticks": "inside"
            },
            "colorscale": [
             [
              0,
              "rgb(20,44,66)"
             ],
             [
              1,
              "rgb(90,179,244)"
             ]
            ],
            "type": "heatmapgl"
           }
          ],
          "histogram": [
           {
            "marker": {
             "pattern": {
              "fillmode": "overlay",
              "size": 10,
              "solidity": 0.2
             }
            },
            "type": "histogram"
           }
          ],
          "histogram2d": [
           {
            "colorbar": {
             "outlinewidth": 0,
             "tickcolor": "rgb(237,237,237)",
             "ticklen": 6,
             "ticks": "inside"
            },
            "colorscale": [
             [
              0,
              "rgb(20,44,66)"
             ],
             [
              1,
              "rgb(90,179,244)"
             ]
            ],
            "type": "histogram2d"
           }
          ],
          "histogram2dcontour": [
           {
            "colorbar": {
             "outlinewidth": 0,
             "tickcolor": "rgb(237,237,237)",
             "ticklen": 6,
             "ticks": "inside"
            },
            "colorscale": [
             [
              0,
              "rgb(20,44,66)"
             ],
             [
              1,
              "rgb(90,179,244)"
             ]
            ],
            "type": "histogram2dcontour"
           }
          ],
          "mesh3d": [
           {
            "colorbar": {
             "outlinewidth": 0,
             "tickcolor": "rgb(237,237,237)",
             "ticklen": 6,
             "ticks": "inside"
            },
            "type": "mesh3d"
           }
          ],
          "parcoords": [
           {
            "line": {
             "colorbar": {
              "outlinewidth": 0,
              "tickcolor": "rgb(237,237,237)",
              "ticklen": 6,
              "ticks": "inside"
             }
            },
            "type": "parcoords"
           }
          ],
          "pie": [
           {
            "automargin": true,
            "type": "pie"
           }
          ],
          "scatter": [
           {
            "fillpattern": {
             "fillmode": "overlay",
             "size": 10,
             "solidity": 0.2
            },
            "type": "scatter"
           }
          ],
          "scatter3d": [
           {
            "line": {
             "colorbar": {
              "outlinewidth": 0,
              "tickcolor": "rgb(237,237,237)",
              "ticklen": 6,
              "ticks": "inside"
             }
            },
            "marker": {
             "colorbar": {
              "outlinewidth": 0,
              "tickcolor": "rgb(237,237,237)",
              "ticklen": 6,
              "ticks": "inside"
             }
            },
            "type": "scatter3d"
           }
          ],
          "scattercarpet": [
           {
            "marker": {
             "colorbar": {
              "outlinewidth": 0,
              "tickcolor": "rgb(237,237,237)",
              "ticklen": 6,
              "ticks": "inside"
             }
            },
            "type": "scattercarpet"
           }
          ],
          "scattergeo": [
           {
            "marker": {
             "colorbar": {
              "outlinewidth": 0,
              "tickcolor": "rgb(237,237,237)",
              "ticklen": 6,
              "ticks": "inside"
             }
            },
            "type": "scattergeo"
           }
          ],
          "scattergl": [
           {
            "marker": {
             "colorbar": {
              "outlinewidth": 0,
              "tickcolor": "rgb(237,237,237)",
              "ticklen": 6,
              "ticks": "inside"
             }
            },
            "type": "scattergl"
           }
          ],
          "scattermapbox": [
           {
            "marker": {
             "colorbar": {
              "outlinewidth": 0,
              "tickcolor": "rgb(237,237,237)",
              "ticklen": 6,
              "ticks": "inside"
             }
            },
            "type": "scattermapbox"
           }
          ],
          "scatterpolar": [
           {
            "marker": {
             "colorbar": {
              "outlinewidth": 0,
              "tickcolor": "rgb(237,237,237)",
              "ticklen": 6,
              "ticks": "inside"
             }
            },
            "type": "scatterpolar"
           }
          ],
          "scatterpolargl": [
           {
            "marker": {
             "colorbar": {
              "outlinewidth": 0,
              "tickcolor": "rgb(237,237,237)",
              "ticklen": 6,
              "ticks": "inside"
             }
            },
            "type": "scatterpolargl"
           }
          ],
          "scatterternary": [
           {
            "marker": {
             "colorbar": {
              "outlinewidth": 0,
              "tickcolor": "rgb(237,237,237)",
              "ticklen": 6,
              "ticks": "inside"
             }
            },
            "type": "scatterternary"
           }
          ],
          "surface": [
           {
            "colorbar": {
             "outlinewidth": 0,
             "tickcolor": "rgb(237,237,237)",
             "ticklen": 6,
             "ticks": "inside"
            },
            "colorscale": [
             [
              0,
              "rgb(20,44,66)"
             ],
             [
              1,
              "rgb(90,179,244)"
             ]
            ],
            "type": "surface"
           }
          ],
          "table": [
           {
            "cells": {
             "fill": {
              "color": "rgb(237,237,237)"
             },
             "line": {
              "color": "white"
             }
            },
            "header": {
             "fill": {
              "color": "rgb(217,217,217)"
             },
             "line": {
              "color": "white"
             }
            },
            "type": "table"
           }
          ]
         },
         "layout": {
          "annotationdefaults": {
           "arrowhead": 0,
           "arrowwidth": 1
          },
          "autotypenumbers": "strict",
          "coloraxis": {
           "colorbar": {
            "outlinewidth": 0,
            "tickcolor": "rgb(237,237,237)",
            "ticklen": 6,
            "ticks": "inside"
           }
          },
          "colorscale": {
           "sequential": [
            [
             0,
             "rgb(20,44,66)"
            ],
            [
             1,
             "rgb(90,179,244)"
            ]
           ],
           "sequentialminus": [
            [
             0,
             "rgb(20,44,66)"
            ],
            [
             1,
             "rgb(90,179,244)"
            ]
           ]
          },
          "colorway": [
           "#F8766D",
           "#A3A500",
           "#00BF7D",
           "#00B0F6",
           "#E76BF3"
          ],
          "font": {
           "color": "rgb(51,51,51)"
          },
          "geo": {
           "bgcolor": "white",
           "lakecolor": "white",
           "landcolor": "rgb(237,237,237)",
           "showlakes": true,
           "showland": true,
           "subunitcolor": "white"
          },
          "hoverlabel": {
           "align": "left"
          },
          "hovermode": "closest",
          "paper_bgcolor": "white",
          "plot_bgcolor": "rgb(237,237,237)",
          "polar": {
           "angularaxis": {
            "gridcolor": "white",
            "linecolor": "white",
            "showgrid": true,
            "tickcolor": "rgb(51,51,51)",
            "ticks": "outside"
           },
           "bgcolor": "rgb(237,237,237)",
           "radialaxis": {
            "gridcolor": "white",
            "linecolor": "white",
            "showgrid": true,
            "tickcolor": "rgb(51,51,51)",
            "ticks": "outside"
           }
          },
          "scene": {
           "xaxis": {
            "backgroundcolor": "rgb(237,237,237)",
            "gridcolor": "white",
            "gridwidth": 2,
            "linecolor": "white",
            "showbackground": true,
            "showgrid": true,
            "tickcolor": "rgb(51,51,51)",
            "ticks": "outside",
            "zerolinecolor": "white"
           },
           "yaxis": {
            "backgroundcolor": "rgb(237,237,237)",
            "gridcolor": "white",
            "gridwidth": 2,
            "linecolor": "white",
            "showbackground": true,
            "showgrid": true,
            "tickcolor": "rgb(51,51,51)",
            "ticks": "outside",
            "zerolinecolor": "white"
           },
           "zaxis": {
            "backgroundcolor": "rgb(237,237,237)",
            "gridcolor": "white",
            "gridwidth": 2,
            "linecolor": "white",
            "showbackground": true,
            "showgrid": true,
            "tickcolor": "rgb(51,51,51)",
            "ticks": "outside",
            "zerolinecolor": "white"
           }
          },
          "shapedefaults": {
           "fillcolor": "black",
           "line": {
            "width": 0
           },
           "opacity": 0.3
          },
          "ternary": {
           "aaxis": {
            "gridcolor": "white",
            "linecolor": "white",
            "showgrid": true,
            "tickcolor": "rgb(51,51,51)",
            "ticks": "outside"
           },
           "baxis": {
            "gridcolor": "white",
            "linecolor": "white",
            "showgrid": true,
            "tickcolor": "rgb(51,51,51)",
            "ticks": "outside"
           },
           "bgcolor": "rgb(237,237,237)",
           "caxis": {
            "gridcolor": "white",
            "linecolor": "white",
            "showgrid": true,
            "tickcolor": "rgb(51,51,51)",
            "ticks": "outside"
           }
          },
          "xaxis": {
           "automargin": true,
           "gridcolor": "white",
           "linecolor": "white",
           "showgrid": true,
           "tickcolor": "rgb(51,51,51)",
           "ticks": "outside",
           "title": {
            "standoff": 15
           },
           "zerolinecolor": "white"
          },
          "yaxis": {
           "automargin": true,
           "gridcolor": "white",
           "linecolor": "white",
           "showgrid": true,
           "tickcolor": "rgb(51,51,51)",
           "ticks": "outside",
           "title": {
            "standoff": 15
           },
           "zerolinecolor": "white"
          }
         }
        },
        "title": {
         "text": "Top 25 Airports with wildlife collisions"
        }
       }
      }
     },
     "metadata": {},
     "output_type": "display_data"
    }
   ],
   "source": [
    "# Return the top 25 airports \n",
    "top_airports = df['AIRPORT'].value_counts().nlargest(25).reset_index()\n",
    "top_airports.columns = ['AIRPORT', 'COUNT']\n",
    "\n",
    "# Build the airport treemap\n",
    "fig = px.treemap(\n",
    "    data_frame=top_airports,\n",
    "    path= ['AIRPORT'],\n",
    "    values='COUNT',\n",
    "    title='Top 25 Airports with wildlife collisions',\n",
    "    color='COUNT',\n",
    "    color_continuous_scale='electric')\n",
    "fig.update_layout(\n",
    "    coloraxis_colorbar=dict(title='Volume'),\n",
    "    height=500,\n",
    "    template='ggplot2',\n",
    ")\n",
    "\n",
    "# Show figure\n",
    "fig.show()"
   ]
  },
  {
   "cell_type": "code",
   "execution_count": 155,
   "metadata": {},
   "outputs": [
    {
     "data": {
      "application/vnd.plotly.v1+json": {
       "config": {
        "plotlyServerURL": "https://plot.ly"
       },
       "data": [
        {
         "branchvalues": "total",
         "customdata": [
          [
           3675
          ],
          [
           20431
          ],
          [
           12420
          ],
          [
           4307
          ],
          [
           20616
          ],
          [
           4509
          ],
          [
           5574
          ],
          [
           5078
          ],
          [
           11942
          ],
          [
           4242
          ],
          [
           6743
          ],
          [
           4113
          ],
          [
           3740
          ],
          [
           7213
          ],
          [
           6444
          ],
          [
           6057
          ],
          [
           7282
          ],
          [
           14371
          ],
          [
           8133
          ],
          [
           3838
          ],
          [
           8190
          ],
          [
           8503
          ],
          [
           24794
          ],
          [
           3948
          ],
          [
           4233
          ]
         ],
         "domain": {
          "x": [
           0,
           1
          ],
          "y": [
           0,
           1
          ]
         },
         "hovertemplate": "labels=%{label}<br>COUNT_sum=%{value}<br>parent=%{parent}<br>id=%{id}<br>COUNT=%{color}<extra></extra>",
         "ids": [
          "AZ",
          "CA",
          "CO",
          "DC",
          "FL",
          "FN",
          "GA",
          "HI",
          "IL",
          "IN",
          "KY",
          "LA",
          "MA",
          "MI",
          "MO",
          "NC",
          "NJ",
          "NY",
          "OH",
          "OR",
          "PA",
          "TN",
          "TX",
          "UT",
          "WA"
         ],
         "labels": [
          "AZ",
          "CA",
          "CO",
          "DC",
          "FL",
          "FN",
          "GA",
          "HI",
          "IL",
          "IN",
          "KY",
          "LA",
          "MA",
          "MI",
          "MO",
          "NC",
          "NJ",
          "NY",
          "OH",
          "OR",
          "PA",
          "TN",
          "TX",
          "UT",
          "WA"
         ],
         "marker": {
          "coloraxis": "coloraxis",
          "colors": [
           3675,
           20431,
           12420,
           4307,
           20616,
           4509,
           5574,
           5078,
           11942,
           4242,
           6743,
           4113,
           3740,
           7213,
           6444,
           6057,
           7282,
           14371,
           8133,
           3838,
           8190,
           8503,
           24794,
           3948,
           4233
          ]
         },
         "name": "",
         "parents": [
          "",
          "",
          "",
          "",
          "",
          "",
          "",
          "",
          "",
          "",
          "",
          "",
          "",
          "",
          "",
          "",
          "",
          "",
          "",
          "",
          "",
          "",
          "",
          "",
          ""
         ],
         "type": "treemap",
         "values": [
          3675,
          20431,
          12420,
          4307,
          20616,
          4509,
          5574,
          5078,
          11942,
          4242,
          6743,
          4113,
          3740,
          7213,
          6444,
          6057,
          7282,
          14371,
          8133,
          3838,
          8190,
          8503,
          24794,
          3948,
          4233
         ]
        }
       ],
       "layout": {
        "coloraxis": {
         "colorbar": {
          "title": {
           "text": "Volume"
          }
         },
         "colorscale": [
          [
           0,
           "rgb(0,0,0)"
          ],
          [
           0.2,
           "rgb(30,0,100)"
          ],
          [
           0.4,
           "rgb(120,0,100)"
          ],
          [
           0.6,
           "rgb(160,90,0)"
          ],
          [
           0.8,
           "rgb(230,200,0)"
          ],
          [
           1,
           "rgb(255,250,220)"
          ]
         ]
        },
        "height": 500,
        "legend": {
         "tracegroupgap": 0
        },
        "template": {
         "data": {
          "bar": [
           {
            "error_x": {
             "color": "rgb(51,51,51)"
            },
            "error_y": {
             "color": "rgb(51,51,51)"
            },
            "marker": {
             "line": {
              "color": "rgb(237,237,237)",
              "width": 0.5
             },
             "pattern": {
              "fillmode": "overlay",
              "size": 10,
              "solidity": 0.2
             }
            },
            "type": "bar"
           }
          ],
          "barpolar": [
           {
            "marker": {
             "line": {
              "color": "rgb(237,237,237)",
              "width": 0.5
             },
             "pattern": {
              "fillmode": "overlay",
              "size": 10,
              "solidity": 0.2
             }
            },
            "type": "barpolar"
           }
          ],
          "carpet": [
           {
            "aaxis": {
             "endlinecolor": "rgb(51,51,51)",
             "gridcolor": "white",
             "linecolor": "white",
             "minorgridcolor": "white",
             "startlinecolor": "rgb(51,51,51)"
            },
            "baxis": {
             "endlinecolor": "rgb(51,51,51)",
             "gridcolor": "white",
             "linecolor": "white",
             "minorgridcolor": "white",
             "startlinecolor": "rgb(51,51,51)"
            },
            "type": "carpet"
           }
          ],
          "choropleth": [
           {
            "colorbar": {
             "outlinewidth": 0,
             "tickcolor": "rgb(237,237,237)",
             "ticklen": 6,
             "ticks": "inside"
            },
            "type": "choropleth"
           }
          ],
          "contour": [
           {
            "colorbar": {
             "outlinewidth": 0,
             "tickcolor": "rgb(237,237,237)",
             "ticklen": 6,
             "ticks": "inside"
            },
            "colorscale": [
             [
              0,
              "rgb(20,44,66)"
             ],
             [
              1,
              "rgb(90,179,244)"
             ]
            ],
            "type": "contour"
           }
          ],
          "contourcarpet": [
           {
            "colorbar": {
             "outlinewidth": 0,
             "tickcolor": "rgb(237,237,237)",
             "ticklen": 6,
             "ticks": "inside"
            },
            "type": "contourcarpet"
           }
          ],
          "heatmap": [
           {
            "colorbar": {
             "outlinewidth": 0,
             "tickcolor": "rgb(237,237,237)",
             "ticklen": 6,
             "ticks": "inside"
            },
            "colorscale": [
             [
              0,
              "rgb(20,44,66)"
             ],
             [
              1,
              "rgb(90,179,244)"
             ]
            ],
            "type": "heatmap"
           }
          ],
          "heatmapgl": [
           {
            "colorbar": {
             "outlinewidth": 0,
             "tickcolor": "rgb(237,237,237)",
             "ticklen": 6,
             "ticks": "inside"
            },
            "colorscale": [
             [
              0,
              "rgb(20,44,66)"
             ],
             [
              1,
              "rgb(90,179,244)"
             ]
            ],
            "type": "heatmapgl"
           }
          ],
          "histogram": [
           {
            "marker": {
             "pattern": {
              "fillmode": "overlay",
              "size": 10,
              "solidity": 0.2
             }
            },
            "type": "histogram"
           }
          ],
          "histogram2d": [
           {
            "colorbar": {
             "outlinewidth": 0,
             "tickcolor": "rgb(237,237,237)",
             "ticklen": 6,
             "ticks": "inside"
            },
            "colorscale": [
             [
              0,
              "rgb(20,44,66)"
             ],
             [
              1,
              "rgb(90,179,244)"
             ]
            ],
            "type": "histogram2d"
           }
          ],
          "histogram2dcontour": [
           {
            "colorbar": {
             "outlinewidth": 0,
             "tickcolor": "rgb(237,237,237)",
             "ticklen": 6,
             "ticks": "inside"
            },
            "colorscale": [
             [
              0,
              "rgb(20,44,66)"
             ],
             [
              1,
              "rgb(90,179,244)"
             ]
            ],
            "type": "histogram2dcontour"
           }
          ],
          "mesh3d": [
           {
            "colorbar": {
             "outlinewidth": 0,
             "tickcolor": "rgb(237,237,237)",
             "ticklen": 6,
             "ticks": "inside"
            },
            "type": "mesh3d"
           }
          ],
          "parcoords": [
           {
            "line": {
             "colorbar": {
              "outlinewidth": 0,
              "tickcolor": "rgb(237,237,237)",
              "ticklen": 6,
              "ticks": "inside"
             }
            },
            "type": "parcoords"
           }
          ],
          "pie": [
           {
            "automargin": true,
            "type": "pie"
           }
          ],
          "scatter": [
           {
            "fillpattern": {
             "fillmode": "overlay",
             "size": 10,
             "solidity": 0.2
            },
            "type": "scatter"
           }
          ],
          "scatter3d": [
           {
            "line": {
             "colorbar": {
              "outlinewidth": 0,
              "tickcolor": "rgb(237,237,237)",
              "ticklen": 6,
              "ticks": "inside"
             }
            },
            "marker": {
             "colorbar": {
              "outlinewidth": 0,
              "tickcolor": "rgb(237,237,237)",
              "ticklen": 6,
              "ticks": "inside"
             }
            },
            "type": "scatter3d"
           }
          ],
          "scattercarpet": [
           {
            "marker": {
             "colorbar": {
              "outlinewidth": 0,
              "tickcolor": "rgb(237,237,237)",
              "ticklen": 6,
              "ticks": "inside"
             }
            },
            "type": "scattercarpet"
           }
          ],
          "scattergeo": [
           {
            "marker": {
             "colorbar": {
              "outlinewidth": 0,
              "tickcolor": "rgb(237,237,237)",
              "ticklen": 6,
              "ticks": "inside"
             }
            },
            "type": "scattergeo"
           }
          ],
          "scattergl": [
           {
            "marker": {
             "colorbar": {
              "outlinewidth": 0,
              "tickcolor": "rgb(237,237,237)",
              "ticklen": 6,
              "ticks": "inside"
             }
            },
            "type": "scattergl"
           }
          ],
          "scattermapbox": [
           {
            "marker": {
             "colorbar": {
              "outlinewidth": 0,
              "tickcolor": "rgb(237,237,237)",
              "ticklen": 6,
              "ticks": "inside"
             }
            },
            "type": "scattermapbox"
           }
          ],
          "scatterpolar": [
           {
            "marker": {
             "colorbar": {
              "outlinewidth": 0,
              "tickcolor": "rgb(237,237,237)",
              "ticklen": 6,
              "ticks": "inside"
             }
            },
            "type": "scatterpolar"
           }
          ],
          "scatterpolargl": [
           {
            "marker": {
             "colorbar": {
              "outlinewidth": 0,
              "tickcolor": "rgb(237,237,237)",
              "ticklen": 6,
              "ticks": "inside"
             }
            },
            "type": "scatterpolargl"
           }
          ],
          "scatterternary": [
           {
            "marker": {
             "colorbar": {
              "outlinewidth": 0,
              "tickcolor": "rgb(237,237,237)",
              "ticklen": 6,
              "ticks": "inside"
             }
            },
            "type": "scatterternary"
           }
          ],
          "surface": [
           {
            "colorbar": {
             "outlinewidth": 0,
             "tickcolor": "rgb(237,237,237)",
             "ticklen": 6,
             "ticks": "inside"
            },
            "colorscale": [
             [
              0,
              "rgb(20,44,66)"
             ],
             [
              1,
              "rgb(90,179,244)"
             ]
            ],
            "type": "surface"
           }
          ],
          "table": [
           {
            "cells": {
             "fill": {
              "color": "rgb(237,237,237)"
             },
             "line": {
              "color": "white"
             }
            },
            "header": {
             "fill": {
              "color": "rgb(217,217,217)"
             },
             "line": {
              "color": "white"
             }
            },
            "type": "table"
           }
          ]
         },
         "layout": {
          "annotationdefaults": {
           "arrowhead": 0,
           "arrowwidth": 1
          },
          "autotypenumbers": "strict",
          "coloraxis": {
           "colorbar": {
            "outlinewidth": 0,
            "tickcolor": "rgb(237,237,237)",
            "ticklen": 6,
            "ticks": "inside"
           }
          },
          "colorscale": {
           "sequential": [
            [
             0,
             "rgb(20,44,66)"
            ],
            [
             1,
             "rgb(90,179,244)"
            ]
           ],
           "sequentialminus": [
            [
             0,
             "rgb(20,44,66)"
            ],
            [
             1,
             "rgb(90,179,244)"
            ]
           ]
          },
          "colorway": [
           "#F8766D",
           "#A3A500",
           "#00BF7D",
           "#00B0F6",
           "#E76BF3"
          ],
          "font": {
           "color": "rgb(51,51,51)"
          },
          "geo": {
           "bgcolor": "white",
           "lakecolor": "white",
           "landcolor": "rgb(237,237,237)",
           "showlakes": true,
           "showland": true,
           "subunitcolor": "white"
          },
          "hoverlabel": {
           "align": "left"
          },
          "hovermode": "closest",
          "paper_bgcolor": "white",
          "plot_bgcolor": "rgb(237,237,237)",
          "polar": {
           "angularaxis": {
            "gridcolor": "white",
            "linecolor": "white",
            "showgrid": true,
            "tickcolor": "rgb(51,51,51)",
            "ticks": "outside"
           },
           "bgcolor": "rgb(237,237,237)",
           "radialaxis": {
            "gridcolor": "white",
            "linecolor": "white",
            "showgrid": true,
            "tickcolor": "rgb(51,51,51)",
            "ticks": "outside"
           }
          },
          "scene": {
           "xaxis": {
            "backgroundcolor": "rgb(237,237,237)",
            "gridcolor": "white",
            "gridwidth": 2,
            "linecolor": "white",
            "showbackground": true,
            "showgrid": true,
            "tickcolor": "rgb(51,51,51)",
            "ticks": "outside",
            "zerolinecolor": "white"
           },
           "yaxis": {
            "backgroundcolor": "rgb(237,237,237)",
            "gridcolor": "white",
            "gridwidth": 2,
            "linecolor": "white",
            "showbackground": true,
            "showgrid": true,
            "tickcolor": "rgb(51,51,51)",
            "ticks": "outside",
            "zerolinecolor": "white"
           },
           "zaxis": {
            "backgroundcolor": "rgb(237,237,237)",
            "gridcolor": "white",
            "gridwidth": 2,
            "linecolor": "white",
            "showbackground": true,
            "showgrid": true,
            "tickcolor": "rgb(51,51,51)",
            "ticks": "outside",
            "zerolinecolor": "white"
           }
          },
          "shapedefaults": {
           "fillcolor": "black",
           "line": {
            "width": 0
           },
           "opacity": 0.3
          },
          "ternary": {
           "aaxis": {
            "gridcolor": "white",
            "linecolor": "white",
            "showgrid": true,
            "tickcolor": "rgb(51,51,51)",
            "ticks": "outside"
           },
           "baxis": {
            "gridcolor": "white",
            "linecolor": "white",
            "showgrid": true,
            "tickcolor": "rgb(51,51,51)",
            "ticks": "outside"
           },
           "bgcolor": "rgb(237,237,237)",
           "caxis": {
            "gridcolor": "white",
            "linecolor": "white",
            "showgrid": true,
            "tickcolor": "rgb(51,51,51)",
            "ticks": "outside"
           }
          },
          "xaxis": {
           "automargin": true,
           "gridcolor": "white",
           "linecolor": "white",
           "showgrid": true,
           "tickcolor": "rgb(51,51,51)",
           "ticks": "outside",
           "title": {
            "standoff": 15
           },
           "zerolinecolor": "white"
          },
          "yaxis": {
           "automargin": true,
           "gridcolor": "white",
           "linecolor": "white",
           "showgrid": true,
           "tickcolor": "rgb(51,51,51)",
           "ticks": "outside",
           "title": {
            "standoff": 15
           },
           "zerolinecolor": "white"
          }
         }
        },
        "title": {
         "text": "Top 25 State with wildlife collisions"
        }
       }
      }
     },
     "metadata": {},
     "output_type": "display_data"
    }
   ],
   "source": [
    "# Return the top 25 airports \n",
    "top_airports = df['STATE'].value_counts().nlargest(25).reset_index()\n",
    "top_airports.columns = ['STATE', 'COUNT']\n",
    "\n",
    "# Build the airport treemap\n",
    "fig = px.treemap(\n",
    "    data_frame=top_airports,\n",
    "    path= ['STATE'],\n",
    "    values='COUNT',\n",
    "    title='Top 25 State with wildlife collisions',\n",
    "    color='COUNT',\n",
    "    color_continuous_scale='electric')\n",
    "fig.update_layout(\n",
    "    coloraxis_colorbar=dict(title='Volume'),\n",
    "    height=500,\n",
    "    template='ggplot2')\n",
    "# Show figure\n",
    "fig.show()"
   ]
  },
  {
   "cell_type": "code",
   "execution_count": 157,
   "metadata": {},
   "outputs": [
    {
     "data": {
      "application/vnd.plotly.v1+json": {
       "config": {
        "plotlyServerURL": "https://plot.ly"
       },
       "data": [
        {
         "branchvalues": "total",
         "customdata": [
          [
           3961
          ],
          [
           1896
          ],
          [
           3390
          ],
          [
           2633
          ],
          [
           20481
          ],
          [
           3118
          ],
          [
           24493
          ],
          [
           13110
          ],
          [
           1763
          ],
          [
           3675
          ],
          [
           1806
          ],
          [
           9602
          ],
          [
           2101
          ],
          [
           4983
          ],
          [
           2527
          ],
          [
           2484
          ],
          [
           3786
          ],
          [
           2483
          ],
          [
           2667
          ],
          [
           6778
          ],
          [
           24201
          ],
          [
           17603
          ],
          [
           81307
          ],
          [
           6377
          ],
          [
           2162
          ]
         ],
         "domain": {
          "x": [
           0,
           1
          ],
          "y": [
           0,
           1
          ]
         },
         "hovertemplate": "labels=%{label}<br>COUNT_sum=%{value}<br>parent=%{parent}<br>id=%{id}<br>COUNT=%{color}<extra></extra>",
         "ids": [
          "1US AIRWAYS",
          "ABX AIR",
          "ALASKA AIRLINES",
          "ALLEGIANT AIR",
          "AMERICAN AIRLINES",
          "AMERICAN EAGLE AIRLINES",
          "BUSINESS",
          "DELTA AIR LINES",
          "ENDEAVOR AIR",
          "ENVOY AIR",
          "EXPRESSJET AIRLINES",
          "FEDEX EXPRESS",
          "FRONTIER AIRLINES",
          "JETBLUE AIRWAYS",
          "MESA AIRLINES",
          "NORTHWEST AIRLINES",
          "PRIVATELY OWNED",
          "PSA AIRLINES",
          "REPUBLIC AIRLINES",
          "SKYWEST AIRLINES",
          "SOUTHWEST AIRLINES",
          "UNITED AIRLINES",
          "UNKNOWN",
          "UPS AIRLINES",
          "US AIRWAYS"
         ],
         "labels": [
          "1US AIRWAYS",
          "ABX AIR",
          "ALASKA AIRLINES",
          "ALLEGIANT AIR",
          "AMERICAN AIRLINES",
          "AMERICAN EAGLE AIRLINES",
          "BUSINESS",
          "DELTA AIR LINES",
          "ENDEAVOR AIR",
          "ENVOY AIR",
          "EXPRESSJET AIRLINES",
          "FEDEX EXPRESS",
          "FRONTIER AIRLINES",
          "JETBLUE AIRWAYS",
          "MESA AIRLINES",
          "NORTHWEST AIRLINES",
          "PRIVATELY OWNED",
          "PSA AIRLINES",
          "REPUBLIC AIRLINES",
          "SKYWEST AIRLINES",
          "SOUTHWEST AIRLINES",
          "UNITED AIRLINES",
          "UNKNOWN",
          "UPS AIRLINES",
          "US AIRWAYS"
         ],
         "marker": {
          "coloraxis": "coloraxis",
          "colors": [
           3961,
           1896,
           3390,
           2633,
           20481,
           3118,
           24493,
           13110,
           1763,
           3675,
           1806,
           9602,
           2101,
           4983,
           2527,
           2484,
           3786,
           2483,
           2667,
           6778,
           24201,
           17603,
           81307,
           6377,
           2162
          ]
         },
         "name": "",
         "parents": [
          "",
          "",
          "",
          "",
          "",
          "",
          "",
          "",
          "",
          "",
          "",
          "",
          "",
          "",
          "",
          "",
          "",
          "",
          "",
          "",
          "",
          "",
          "",
          "",
          ""
         ],
         "type": "treemap",
         "values": [
          3961,
          1896,
          3390,
          2633,
          20481,
          3118,
          24493,
          13110,
          1763,
          3675,
          1806,
          9602,
          2101,
          4983,
          2527,
          2484,
          3786,
          2483,
          2667,
          6778,
          24201,
          17603,
          81307,
          6377,
          2162
         ]
        }
       ],
       "layout": {
        "coloraxis": {
         "colorbar": {
          "title": {
           "text": "Volume"
          }
         },
         "colorscale": [
          [
           0,
           "rgb(0,0,0)"
          ],
          [
           0.2,
           "rgb(30,0,100)"
          ],
          [
           0.4,
           "rgb(120,0,100)"
          ],
          [
           0.6,
           "rgb(160,90,0)"
          ],
          [
           0.8,
           "rgb(230,200,0)"
          ],
          [
           1,
           "rgb(255,250,220)"
          ]
         ]
        },
        "height": 500,
        "legend": {
         "tracegroupgap": 0
        },
        "template": {
         "data": {
          "bar": [
           {
            "error_x": {
             "color": "rgb(51,51,51)"
            },
            "error_y": {
             "color": "rgb(51,51,51)"
            },
            "marker": {
             "line": {
              "color": "rgb(237,237,237)",
              "width": 0.5
             },
             "pattern": {
              "fillmode": "overlay",
              "size": 10,
              "solidity": 0.2
             }
            },
            "type": "bar"
           }
          ],
          "barpolar": [
           {
            "marker": {
             "line": {
              "color": "rgb(237,237,237)",
              "width": 0.5
             },
             "pattern": {
              "fillmode": "overlay",
              "size": 10,
              "solidity": 0.2
             }
            },
            "type": "barpolar"
           }
          ],
          "carpet": [
           {
            "aaxis": {
             "endlinecolor": "rgb(51,51,51)",
             "gridcolor": "white",
             "linecolor": "white",
             "minorgridcolor": "white",
             "startlinecolor": "rgb(51,51,51)"
            },
            "baxis": {
             "endlinecolor": "rgb(51,51,51)",
             "gridcolor": "white",
             "linecolor": "white",
             "minorgridcolor": "white",
             "startlinecolor": "rgb(51,51,51)"
            },
            "type": "carpet"
           }
          ],
          "choropleth": [
           {
            "colorbar": {
             "outlinewidth": 0,
             "tickcolor": "rgb(237,237,237)",
             "ticklen": 6,
             "ticks": "inside"
            },
            "type": "choropleth"
           }
          ],
          "contour": [
           {
            "colorbar": {
             "outlinewidth": 0,
             "tickcolor": "rgb(237,237,237)",
             "ticklen": 6,
             "ticks": "inside"
            },
            "colorscale": [
             [
              0,
              "rgb(20,44,66)"
             ],
             [
              1,
              "rgb(90,179,244)"
             ]
            ],
            "type": "contour"
           }
          ],
          "contourcarpet": [
           {
            "colorbar": {
             "outlinewidth": 0,
             "tickcolor": "rgb(237,237,237)",
             "ticklen": 6,
             "ticks": "inside"
            },
            "type": "contourcarpet"
           }
          ],
          "heatmap": [
           {
            "colorbar": {
             "outlinewidth": 0,
             "tickcolor": "rgb(237,237,237)",
             "ticklen": 6,
             "ticks": "inside"
            },
            "colorscale": [
             [
              0,
              "rgb(20,44,66)"
             ],
             [
              1,
              "rgb(90,179,244)"
             ]
            ],
            "type": "heatmap"
           }
          ],
          "heatmapgl": [
           {
            "colorbar": {
             "outlinewidth": 0,
             "tickcolor": "rgb(237,237,237)",
             "ticklen": 6,
             "ticks": "inside"
            },
            "colorscale": [
             [
              0,
              "rgb(20,44,66)"
             ],
             [
              1,
              "rgb(90,179,244)"
             ]
            ],
            "type": "heatmapgl"
           }
          ],
          "histogram": [
           {
            "marker": {
             "pattern": {
              "fillmode": "overlay",
              "size": 10,
              "solidity": 0.2
             }
            },
            "type": "histogram"
           }
          ],
          "histogram2d": [
           {
            "colorbar": {
             "outlinewidth": 0,
             "tickcolor": "rgb(237,237,237)",
             "ticklen": 6,
             "ticks": "inside"
            },
            "colorscale": [
             [
              0,
              "rgb(20,44,66)"
             ],
             [
              1,
              "rgb(90,179,244)"
             ]
            ],
            "type": "histogram2d"
           }
          ],
          "histogram2dcontour": [
           {
            "colorbar": {
             "outlinewidth": 0,
             "tickcolor": "rgb(237,237,237)",
             "ticklen": 6,
             "ticks": "inside"
            },
            "colorscale": [
             [
              0,
              "rgb(20,44,66)"
             ],
             [
              1,
              "rgb(90,179,244)"
             ]
            ],
            "type": "histogram2dcontour"
           }
          ],
          "mesh3d": [
           {
            "colorbar": {
             "outlinewidth": 0,
             "tickcolor": "rgb(237,237,237)",
             "ticklen": 6,
             "ticks": "inside"
            },
            "type": "mesh3d"
           }
          ],
          "parcoords": [
           {
            "line": {
             "colorbar": {
              "outlinewidth": 0,
              "tickcolor": "rgb(237,237,237)",
              "ticklen": 6,
              "ticks": "inside"
             }
            },
            "type": "parcoords"
           }
          ],
          "pie": [
           {
            "automargin": true,
            "type": "pie"
           }
          ],
          "scatter": [
           {
            "fillpattern": {
             "fillmode": "overlay",
             "size": 10,
             "solidity": 0.2
            },
            "type": "scatter"
           }
          ],
          "scatter3d": [
           {
            "line": {
             "colorbar": {
              "outlinewidth": 0,
              "tickcolor": "rgb(237,237,237)",
              "ticklen": 6,
              "ticks": "inside"
             }
            },
            "marker": {
             "colorbar": {
              "outlinewidth": 0,
              "tickcolor": "rgb(237,237,237)",
              "ticklen": 6,
              "ticks": "inside"
             }
            },
            "type": "scatter3d"
           }
          ],
          "scattercarpet": [
           {
            "marker": {
             "colorbar": {
              "outlinewidth": 0,
              "tickcolor": "rgb(237,237,237)",
              "ticklen": 6,
              "ticks": "inside"
             }
            },
            "type": "scattercarpet"
           }
          ],
          "scattergeo": [
           {
            "marker": {
             "colorbar": {
              "outlinewidth": 0,
              "tickcolor": "rgb(237,237,237)",
              "ticklen": 6,
              "ticks": "inside"
             }
            },
            "type": "scattergeo"
           }
          ],
          "scattergl": [
           {
            "marker": {
             "colorbar": {
              "outlinewidth": 0,
              "tickcolor": "rgb(237,237,237)",
              "ticklen": 6,
              "ticks": "inside"
             }
            },
            "type": "scattergl"
           }
          ],
          "scattermapbox": [
           {
            "marker": {
             "colorbar": {
              "outlinewidth": 0,
              "tickcolor": "rgb(237,237,237)",
              "ticklen": 6,
              "ticks": "inside"
             }
            },
            "type": "scattermapbox"
           }
          ],
          "scatterpolar": [
           {
            "marker": {
             "colorbar": {
              "outlinewidth": 0,
              "tickcolor": "rgb(237,237,237)",
              "ticklen": 6,
              "ticks": "inside"
             }
            },
            "type": "scatterpolar"
           }
          ],
          "scatterpolargl": [
           {
            "marker": {
             "colorbar": {
              "outlinewidth": 0,
              "tickcolor": "rgb(237,237,237)",
              "ticklen": 6,
              "ticks": "inside"
             }
            },
            "type": "scatterpolargl"
           }
          ],
          "scatterternary": [
           {
            "marker": {
             "colorbar": {
              "outlinewidth": 0,
              "tickcolor": "rgb(237,237,237)",
              "ticklen": 6,
              "ticks": "inside"
             }
            },
            "type": "scatterternary"
           }
          ],
          "surface": [
           {
            "colorbar": {
             "outlinewidth": 0,
             "tickcolor": "rgb(237,237,237)",
             "ticklen": 6,
             "ticks": "inside"
            },
            "colorscale": [
             [
              0,
              "rgb(20,44,66)"
             ],
             [
              1,
              "rgb(90,179,244)"
             ]
            ],
            "type": "surface"
           }
          ],
          "table": [
           {
            "cells": {
             "fill": {
              "color": "rgb(237,237,237)"
             },
             "line": {
              "color": "white"
             }
            },
            "header": {
             "fill": {
              "color": "rgb(217,217,217)"
             },
             "line": {
              "color": "white"
             }
            },
            "type": "table"
           }
          ]
         },
         "layout": {
          "annotationdefaults": {
           "arrowhead": 0,
           "arrowwidth": 1
          },
          "autotypenumbers": "strict",
          "coloraxis": {
           "colorbar": {
            "outlinewidth": 0,
            "tickcolor": "rgb(237,237,237)",
            "ticklen": 6,
            "ticks": "inside"
           }
          },
          "colorscale": {
           "sequential": [
            [
             0,
             "rgb(20,44,66)"
            ],
            [
             1,
             "rgb(90,179,244)"
            ]
           ],
           "sequentialminus": [
            [
             0,
             "rgb(20,44,66)"
            ],
            [
             1,
             "rgb(90,179,244)"
            ]
           ]
          },
          "colorway": [
           "#F8766D",
           "#A3A500",
           "#00BF7D",
           "#00B0F6",
           "#E76BF3"
          ],
          "font": {
           "color": "rgb(51,51,51)"
          },
          "geo": {
           "bgcolor": "white",
           "lakecolor": "white",
           "landcolor": "rgb(237,237,237)",
           "showlakes": true,
           "showland": true,
           "subunitcolor": "white"
          },
          "hoverlabel": {
           "align": "left"
          },
          "hovermode": "closest",
          "paper_bgcolor": "white",
          "plot_bgcolor": "rgb(237,237,237)",
          "polar": {
           "angularaxis": {
            "gridcolor": "white",
            "linecolor": "white",
            "showgrid": true,
            "tickcolor": "rgb(51,51,51)",
            "ticks": "outside"
           },
           "bgcolor": "rgb(237,237,237)",
           "radialaxis": {
            "gridcolor": "white",
            "linecolor": "white",
            "showgrid": true,
            "tickcolor": "rgb(51,51,51)",
            "ticks": "outside"
           }
          },
          "scene": {
           "xaxis": {
            "backgroundcolor": "rgb(237,237,237)",
            "gridcolor": "white",
            "gridwidth": 2,
            "linecolor": "white",
            "showbackground": true,
            "showgrid": true,
            "tickcolor": "rgb(51,51,51)",
            "ticks": "outside",
            "zerolinecolor": "white"
           },
           "yaxis": {
            "backgroundcolor": "rgb(237,237,237)",
            "gridcolor": "white",
            "gridwidth": 2,
            "linecolor": "white",
            "showbackground": true,
            "showgrid": true,
            "tickcolor": "rgb(51,51,51)",
            "ticks": "outside",
            "zerolinecolor": "white"
           },
           "zaxis": {
            "backgroundcolor": "rgb(237,237,237)",
            "gridcolor": "white",
            "gridwidth": 2,
            "linecolor": "white",
            "showbackground": true,
            "showgrid": true,
            "tickcolor": "rgb(51,51,51)",
            "ticks": "outside",
            "zerolinecolor": "white"
           }
          },
          "shapedefaults": {
           "fillcolor": "black",
           "line": {
            "width": 0
           },
           "opacity": 0.3
          },
          "ternary": {
           "aaxis": {
            "gridcolor": "white",
            "linecolor": "white",
            "showgrid": true,
            "tickcolor": "rgb(51,51,51)",
            "ticks": "outside"
           },
           "baxis": {
            "gridcolor": "white",
            "linecolor": "white",
            "showgrid": true,
            "tickcolor": "rgb(51,51,51)",
            "ticks": "outside"
           },
           "bgcolor": "rgb(237,237,237)",
           "caxis": {
            "gridcolor": "white",
            "linecolor": "white",
            "showgrid": true,
            "tickcolor": "rgb(51,51,51)",
            "ticks": "outside"
           }
          },
          "xaxis": {
           "automargin": true,
           "gridcolor": "white",
           "linecolor": "white",
           "showgrid": true,
           "tickcolor": "rgb(51,51,51)",
           "ticks": "outside",
           "title": {
            "standoff": 15
           },
           "zerolinecolor": "white"
          },
          "yaxis": {
           "automargin": true,
           "gridcolor": "white",
           "linecolor": "white",
           "showgrid": true,
           "tickcolor": "rgb(51,51,51)",
           "ticks": "outside",
           "title": {
            "standoff": 15
           },
           "zerolinecolor": "white"
          }
         }
        },
        "title": {
         "text": "Top 25 flight operators with wildlife collisions"
        }
       }
      }
     },
     "metadata": {},
     "output_type": "display_data"
    }
   ],
   "source": [
    "# Return the top 25 airports \n",
    "top_airports = df['OPERATOR'].value_counts().nlargest(25).reset_index()\n",
    "top_airports.columns = ['OPERATOR', 'COUNT']\n",
    "\n",
    "# Build the airport treemap\n",
    "fig = px.treemap(\n",
    "    data_frame=top_airports,\n",
    "    path= ['OPERATOR'],\n",
    "    values='COUNT',\n",
    "    title='Top 25 flight operators with wildlife collisions',\n",
    "    color='COUNT',\n",
    "    color_continuous_scale='electric')\n",
    "fig.update_layout(\n",
    "    coloraxis_colorbar=dict(title='Volume'),\n",
    "    height=500,\n",
    "    template='ggplot2')\n",
    "# Show figure\n",
    "fig.show()"
   ]
  },
  {
   "cell_type": "code",
   "execution_count": 214,
   "metadata": {},
   "outputs": [
    {
     "data": {
      "image/png": "[encoded data removed]",
      "text/plain": [
       "<Figure size 1200x1000 with 1 Axes>"
      ]
     },
     "metadata": {},
     "output_type": "display_data"
    },
    {
     "data": {
      "text/plain": [
       "<Figure size 640x480 with 0 Axes>"
      ]
     },
     "metadata": {},
     "output_type": "display_data"
    }
   ],
   "source": [
    "# Build a 3d plot of demonstrating the speed, height and distance collisions occur\n",
    "x_data = df['DISTANCE']\n",
    "y_data = df['SPEED']\n",
    "z_data = df['HEIGHT']\n",
    "\n",
    "fig = plt.figure(figsize=(12, 10))  \n",
    "\n",
    "# Add a 3D subplot\n",
    "ax = fig.add_subplot(111, projection='3d')\n",
    "ax.scatter(x_data, y_data, z_data, s=20, alpha=0.8, edgecolors='w', linewidth=0.5)\n",
    "ax.set_xlabel('Distance')\n",
    "ax.set_ylabel('Speed')\n",
    "ax.set_zlabel('Height')\n",
    "ax.set_title('Collision Speed, Height and Distance Scatterplot')\n",
    "\n",
    "plt.show()\n",
    "plt.clf()"
   ]
  },
  {
   "cell_type": "code",
   "execution_count": 227,
   "metadata": {},
   "outputs": [
    {
     "data": {
      "text/plain": [
       "Text(0.5, 0, 'Size')"
      ]
     },
     "execution_count": 227,
     "metadata": {},
     "output_type": "execute_result"
    },
    {
     "data": {
      "image/png": "[encoded data removed]",
      "text/plain": [
       "<Figure size 1600x500 with 3 Axes>"
      ]
     },
     "metadata": {},
     "output_type": "display_data"
    }
   ],
   "source": [
    "# Plot figure\n",
    "fig, axs = plt.subplots(1, 3, figsize=(16, 5))\n",
    "\n",
    "# Number of wildlife seen \n",
    "df['NUM_SEEN'].value_counts().sort_index().plot(kind='bar', ax=axs[0], color='green')\n",
    "axs[0].set_title('Number of wildlife seen')\n",
    "axs[0].set_xlabel('Seen')\n",
    "\n",
    "# Plot incident month\n",
    "df['NUM_STRUCK'].value_counts().sort_index().plot(kind='bar', ax=axs[1], color='olive')\n",
    "axs[1].set_title('Number Struck')\n",
    "axs[1].set_xlabel('Struck')\n",
    "\n",
    "# Plot incident time of day\n",
    "df['SIZE'].value_counts().plot(kind='bar', ax=axs[2], color='y')\n",
    "axs[2].set_title('Size of the wildlife')\n",
    "axs[2].set_xlabel('Size')"
   ]
  },
  {
   "cell_type": "code",
   "execution_count": 231,
   "metadata": {},
   "outputs": [
    {
     "data": {
      "application/vnd.plotly.v1+json": {
       "config": {
        "plotlyServerURL": "https://plot.ly"
       },
       "data": [
        {
         "branchvalues": "total",
         "customdata": [
          [
           8879
          ],
          [
           2195
          ],
          [
           2003
          ],
          [
           9679
          ],
          [
           2105
          ],
          [
           1605
          ],
          [
           2915
          ],
          [
           4246
          ],
          [
           6148
          ],
          [
           7414
          ],
          [
           1652
          ],
          [
           2035
          ],
          [
           8032
          ],
          [
           9592
          ],
          [
           14578
          ],
          [
           1615
          ],
          [
           3969
          ],
          [
           2217
          ],
          [
           4276
          ],
          [
           4176
          ],
          [
           24839
          ],
          [
           3687
          ],
          [
           38259
          ],
          [
           48901
          ],
          [
           2457
          ]
         ],
         "domain": {
          "x": [
           0,
           1
          ],
          "y": [
           0,
           1
          ]
         },
         "hovertemplate": "labels=%{label}<br>COUNT_sum=%{value}<br>parent=%{parent}<br>id=%{id}<br>COUNT=%{color}<extra></extra>",
         "ids": [
          "American kestrel",
          "American robin",
          "Barn owl",
          "Barn swallow",
          "Canada goose",
          "Chimney swift",
          "Cliff swallow",
          "Eastern meadowlark",
          "European starling",
          "Gulls",
          "Hawks",
          "Herring gull",
          "Horned lark",
          "Killdeer",
          "Mourning dove",
          "Perching birds (y)",
          "Red-tailed hawk",
          "Ring-billed gull",
          "Rock pigeon",
          "Sparrows",
          "Unknown bird",
          "Unknown bird - large",
          "Unknown bird - medium",
          "Unknown bird - small",
          "Western meadowlark"
         ],
         "labels": [
          "American kestrel",
          "American robin",
          "Barn owl",
          "Barn swallow",
          "Canada goose",
          "Chimney swift",
          "Cliff swallow",
          "Eastern meadowlark",
          "European starling",
          "Gulls",
          "Hawks",
          "Herring gull",
          "Horned lark",
          "Killdeer",
          "Mourning dove",
          "Perching birds (y)",
          "Red-tailed hawk",
          "Ring-billed gull",
          "Rock pigeon",
          "Sparrows",
          "Unknown bird",
          "Unknown bird - large",
          "Unknown bird - medium",
          "Unknown bird - small",
          "Western meadowlark"
         ],
         "marker": {
          "coloraxis": "coloraxis",
          "colors": [
           8879,
           2195,
           2003,
           9679,
           2105,
           1605,
           2915,
           4246,
           6148,
           7414,
           1652,
           2035,
           8032,
           9592,
           14578,
           1615,
           3969,
           2217,
           4276,
           4176,
           24839,
           3687,
           38259,
           48901,
           2457
          ]
         },
         "name": "",
         "parents": [
          "",
          "",
          "",
          "",
          "",
          "",
          "",
          "",
          "",
          "",
          "",
          "",
          "",
          "",
          "",
          "",
          "",
          "",
          "",
          "",
          "",
          "",
          "",
          "",
          ""
         ],
         "type": "treemap",
         "values": [
          8879,
          2195,
          2003,
          9679,
          2105,
          1605,
          2915,
          4246,
          6148,
          7414,
          1652,
          2035,
          8032,
          9592,
          14578,
          1615,
          3969,
          2217,
          4276,
          4176,
          24839,
          3687,
          38259,
          48901,
          2457
         ]
        }
       ],
       "layout": {
        "coloraxis": {
         "colorbar": {
          "title": {
           "text": "Volume"
          }
         },
         "colorscale": [
          [
           0,
           "rgb(247,252,245)"
          ],
          [
           0.125,
           "rgb(229,245,224)"
          ],
          [
           0.25,
           "rgb(199,233,192)"
          ],
          [
           0.375,
           "rgb(161,217,155)"
          ],
          [
           0.5,
           "rgb(116,196,118)"
          ],
          [
           0.625,
           "rgb(65,171,93)"
          ],
          [
           0.75,
           "rgb(35,139,69)"
          ],
          [
           0.875,
           "rgb(0,109,44)"
          ],
          [
           1,
           "rgb(0,68,27)"
          ]
         ]
        },
        "height": 500,
        "legend": {
         "tracegroupgap": 0
        },
        "template": {
         "data": {
          "bar": [
           {
            "error_x": {
             "color": "rgb(51,51,51)"
            },
            "error_y": {
             "color": "rgb(51,51,51)"
            },
            "marker": {
             "line": {
              "color": "rgb(237,237,237)",
              "width": 0.5
             },
             "pattern": {
              "fillmode": "overlay",
              "size": 10,
              "solidity": 0.2
             }
            },
            "type": "bar"
           }
          ],
          "barpolar": [
           {
            "marker": {
             "line": {
              "color": "rgb(237,237,237)",
              "width": 0.5
             },
             "pattern": {
              "fillmode": "overlay",
              "size": 10,
              "solidity": 0.2
             }
            },
            "type": "barpolar"
           }
          ],
          "carpet": [
           {
            "aaxis": {
             "endlinecolor": "rgb(51,51,51)",
             "gridcolor": "white",
             "linecolor": "white",
             "minorgridcolor": "white",
             "startlinecolor": "rgb(51,51,51)"
            },
            "baxis": {
             "endlinecolor": "rgb(51,51,51)",
             "gridcolor": "white",
             "linecolor": "white",
             "minorgridcolor": "white",
             "startlinecolor": "rgb(51,51,51)"
            },
            "type": "carpet"
           }
          ],
          "choropleth": [
           {
            "colorbar": {
             "outlinewidth": 0,
             "tickcolor": "rgb(237,237,237)",
             "ticklen": 6,
             "ticks": "inside"
            },
            "type": "choropleth"
           }
          ],
          "contour": [
           {
            "colorbar": {
             "outlinewidth": 0,
             "tickcolor": "rgb(237,237,237)",
             "ticklen": 6,
             "ticks": "inside"
            },
            "colorscale": [
             [
              0,
              "rgb(20,44,66)"
             ],
             [
              1,
              "rgb(90,179,244)"
             ]
            ],
            "type": "contour"
           }
          ],
          "contourcarpet": [
           {
            "colorbar": {
             "outlinewidth": 0,
             "tickcolor": "rgb(237,237,237)",
             "ticklen": 6,
             "ticks": "inside"
            },
            "type": "contourcarpet"
           }
          ],
          "heatmap": [
           {
            "colorbar": {
             "outlinewidth": 0,
             "tickcolor": "rgb(237,237,237)",
             "ticklen": 6,
             "ticks": "inside"
            },
            "colorscale": [
             [
              0,
              "rgb(20,44,66)"
             ],
             [
              1,
              "rgb(90,179,244)"
             ]
            ],
            "type": "heatmap"
           }
          ],
          "heatmapgl": [
           {
            "colorbar": {
             "outlinewidth": 0,
             "tickcolor": "rgb(237,237,237)",
             "ticklen": 6,
             "ticks": "inside"
            },
            "colorscale": [
             [
              0,
              "rgb(20,44,66)"
             ],
             [
              1,
              "rgb(90,179,244)"
             ]
            ],
            "type": "heatmapgl"
           }
          ],
          "histogram": [
           {
            "marker": {
             "pattern": {
              "fillmode": "overlay",
              "size": 10,
              "solidity": 0.2
             }
            },
            "type": "histogram"
           }
          ],
          "histogram2d": [
           {
            "colorbar": {
             "outlinewidth": 0,
             "tickcolor": "rgb(237,237,237)",
             "ticklen": 6,
             "ticks": "inside"
            },
            "colorscale": [
             [
              0,
              "rgb(20,44,66)"
             ],
             [
              1,
              "rgb(90,179,244)"
             ]
            ],
            "type": "histogram2d"
           }
          ],
          "histogram2dcontour": [
           {
            "colorbar": {
             "outlinewidth": 0,
             "tickcolor": "rgb(237,237,237)",
             "ticklen": 6,
             "ticks": "inside"
            },
            "colorscale": [
             [
              0,
              "rgb(20,44,66)"
             ],
             [
              1,
              "rgb(90,179,244)"
             ]
            ],
            "type": "histogram2dcontour"
           }
          ],
          "mesh3d": [
           {
            "colorbar": {
             "outlinewidth": 0,
             "tickcolor": "rgb(237,237,237)",
             "ticklen": 6,
             "ticks": "inside"
            },
            "type": "mesh3d"
           }
          ],
          "parcoords": [
           {
            "line": {
             "colorbar": {
              "outlinewidth": 0,
              "tickcolor": "rgb(237,237,237)",
              "ticklen": 6,
              "ticks": "inside"
             }
            },
            "type": "parcoords"
           }
          ],
          "pie": [
           {
            "automargin": true,
            "type": "pie"
           }
          ],
          "scatter": [
           {
            "fillpattern": {
             "fillmode": "overlay",
             "size": 10,
             "solidity": 0.2
            },
            "type": "scatter"
           }
          ],
          "scatter3d": [
           {
            "line": {
             "colorbar": {
              "outlinewidth": 0,
              "tickcolor": "rgb(237,237,237)",
              "ticklen": 6,
              "ticks": "inside"
             }
            },
            "marker": {
             "colorbar": {
              "outlinewidth": 0,
              "tickcolor": "rgb(237,237,237)",
              "ticklen": 6,
              "ticks": "inside"
             }
            },
            "type": "scatter3d"
           }
          ],
          "scattercarpet": [
           {
            "marker": {
             "colorbar": {
              "outlinewidth": 0,
              "tickcolor": "rgb(237,237,237)",
              "ticklen": 6,
              "ticks": "inside"
             }
            },
            "type": "scattercarpet"
           }
          ],
          "scattergeo": [
           {
            "marker": {
             "colorbar": {
              "outlinewidth": 0,
              "tickcolor": "rgb(237,237,237)",
              "ticklen": 6,
              "ticks": "inside"
             }
            },
            "type": "scattergeo"
           }
          ],
          "scattergl": [
           {
            "marker": {
             "colorbar": {
              "outlinewidth": 0,
              "tickcolor": "rgb(237,237,237)",
              "ticklen": 6,
              "ticks": "inside"
             }
            },
            "type": "scattergl"
           }
          ],
          "scattermapbox": [
           {
            "marker": {
             "colorbar": {
              "outlinewidth": 0,
              "tickcolor": "rgb(237,237,237)",
              "ticklen": 6,
              "ticks": "inside"
             }
            },
            "type": "scattermapbox"
           }
          ],
          "scatterpolar": [
           {
            "marker": {
             "colorbar": {
              "outlinewidth": 0,
              "tickcolor": "rgb(237,237,237)",
              "ticklen": 6,
              "ticks": "inside"
             }
            },
            "type": "scatterpolar"
           }
          ],
          "scatterpolargl": [
           {
            "marker": {
             "colorbar": {
              "outlinewidth": 0,
              "tickcolor": "rgb(237,237,237)",
              "ticklen": 6,
              "ticks": "inside"
             }
            },
            "type": "scatterpolargl"
           }
          ],
          "scatterternary": [
           {
            "marker": {
             "colorbar": {
              "outlinewidth": 0,
              "tickcolor": "rgb(237,237,237)",
              "ticklen": 6,
              "ticks": "inside"
             }
            },
            "type": "scatterternary"
           }
          ],
          "surface": [
           {
            "colorbar": {
             "outlinewidth": 0,
             "tickcolor": "rgb(237,237,237)",
             "ticklen": 6,
             "ticks": "inside"
            },
            "colorscale": [
             [
              0,
              "rgb(20,44,66)"
             ],
             [
              1,
              "rgb(90,179,244)"
             ]
            ],
            "type": "surface"
           }
          ],
          "table": [
           {
            "cells": {
             "fill": {
              "color": "rgb(237,237,237)"
             },
             "line": {
              "color": "white"
             }
            },
            "header": {
             "fill": {
              "color": "rgb(217,217,217)"
             },
             "line": {
              "color": "white"
             }
            },
            "type": "table"
           }
          ]
         },
         "layout": {
          "annotationdefaults": {
           "arrowhead": 0,
           "arrowwidth": 1
          },
          "autotypenumbers": "strict",
          "coloraxis": {
           "colorbar": {
            "outlinewidth": 0,
            "tickcolor": "rgb(237,237,237)",
            "ticklen": 6,
            "ticks": "inside"
           }
          },
          "colorscale": {
           "sequential": [
            [
             0,
             "rgb(20,44,66)"
            ],
            [
             1,
             "rgb(90,179,244)"
            ]
           ],
           "sequentialminus": [
            [
             0,
             "rgb(20,44,66)"
            ],
            [
             1,
             "rgb(90,179,244)"
            ]
           ]
          },
          "colorway": [
           "#F8766D",
           "#A3A500",
           "#00BF7D",
           "#00B0F6",
           "#E76BF3"
          ],
          "font": {
           "color": "rgb(51,51,51)"
          },
          "geo": {
           "bgcolor": "white",
           "lakecolor": "white",
           "landcolor": "rgb(237,237,237)",
           "showlakes": true,
           "showland": true,
           "subunitcolor": "white"
          },
          "hoverlabel": {
           "align": "left"
          },
          "hovermode": "closest",
          "paper_bgcolor": "white",
          "plot_bgcolor": "rgb(237,237,237)",
          "polar": {
           "angularaxis": {
            "gridcolor": "white",
            "linecolor": "white",
            "showgrid": true,
            "tickcolor": "rgb(51,51,51)",
            "ticks": "outside"
           },
           "bgcolor": "rgb(237,237,237)",
           "radialaxis": {
            "gridcolor": "white",
            "linecolor": "white",
            "showgrid": true,
            "tickcolor": "rgb(51,51,51)",
            "ticks": "outside"
           }
          },
          "scene": {
           "xaxis": {
            "backgroundcolor": "rgb(237,237,237)",
            "gridcolor": "white",
            "gridwidth": 2,
            "linecolor": "white",
            "showbackground": true,
            "showgrid": true,
            "tickcolor": "rgb(51,51,51)",
            "ticks": "outside",
            "zerolinecolor": "white"
           },
           "yaxis": {
            "backgroundcolor": "rgb(237,237,237)",
            "gridcolor": "white",
            "gridwidth": 2,
            "linecolor": "white",
            "showbackground": true,
            "showgrid": true,
            "tickcolor": "rgb(51,51,51)",
            "ticks": "outside",
            "zerolinecolor": "white"
           },
           "zaxis": {
            "backgroundcolor": "rgb(237,237,237)",
            "gridcolor": "white",
            "gridwidth": 2,
            "linecolor": "white",
            "showbackground": true,
            "showgrid": true,
            "tickcolor": "rgb(51,51,51)",
            "ticks": "outside",
            "zerolinecolor": "white"
           }
          },
          "shapedefaults": {
           "fillcolor": "black",
           "line": {
            "width": 0
           },
           "opacity": 0.3
          },
          "ternary": {
           "aaxis": {
            "gridcolor": "white",
            "linecolor": "white",
            "showgrid": true,
            "tickcolor": "rgb(51,51,51)",
            "ticks": "outside"
           },
           "baxis": {
            "gridcolor": "white",
            "linecolor": "white",
            "showgrid": true,
            "tickcolor": "rgb(51,51,51)",
            "ticks": "outside"
           },
           "bgcolor": "rgb(237,237,237)",
           "caxis": {
            "gridcolor": "white",
            "linecolor": "white",
            "showgrid": true,
            "tickcolor": "rgb(51,51,51)",
            "ticks": "outside"
           }
          },
          "xaxis": {
           "automargin": true,
           "gridcolor": "white",
           "linecolor": "white",
           "showgrid": true,
           "tickcolor": "rgb(51,51,51)",
           "ticks": "outside",
           "title": {
            "standoff": 15
           },
           "zerolinecolor": "white"
          },
          "yaxis": {
           "automargin": true,
           "gridcolor": "white",
           "linecolor": "white",
           "showgrid": true,
           "tickcolor": "rgb(51,51,51)",
           "ticks": "outside",
           "title": {
            "standoff": 15
           },
           "zerolinecolor": "white"
          }
         }
        },
        "title": {
         "text": "Top 25 species involved in a collisions"
        }
       }
      }
     },
     "metadata": {},
     "output_type": "display_data"
    }
   ],
   "source": [
    "# Return the top 25 specis \n",
    "top_airports = df['SPECIES'].value_counts().nlargest(25).reset_index()\n",
    "top_airports.columns = ['SPECIES', 'COUNT']\n",
    "\n",
    "# Build the species treemap\n",
    "fig = px.treemap(\n",
    "    data_frame=top_airports,\n",
    "    path= ['SPECIES'],\n",
    "    values='COUNT',\n",
    "    title='Top 25 species involved in a collisions',\n",
    "    color='COUNT',\n",
    "    color_continuous_scale='greens')\n",
    "fig.update_layout(\n",
    "    coloraxis_colorbar=dict(title='Volume'),\n",
    "    height=500,\n",
    "    template='ggplot2')\n",
    "# Show figure\n",
    "fig.show()"
   ]
  },
  {
   "cell_type": "code",
   "execution_count": 232,
   "metadata": {},
   "outputs": [
    {
     "data": {
      "text/html": [
       "<div>\n",
       "<style scoped>\n",
       "    .dataframe tbody tr th:only-of-type {\n",
       "        vertical-align: middle;\n",
       "    }\n",
       "\n",
       "    .dataframe tbody tr th {\n",
       "        vertical-align: top;\n",
       "    }\n",
       "\n",
       "    .dataframe thead th {\n",
       "        text-align: right;\n",
       "    }\n",
       "</style>\n",
       "<table border=\"1\" class=\"dataframe\">\n",
       "  <thead>\n",
       "    <tr style=\"text-align: right;\">\n",
       "      <th></th>\n",
       "      <th>NUM_ENGS</th>\n",
       "      <th>ENG_1_POS</th>\n",
       "      <th>ENG_2_POS</th>\n",
       "      <th>ENG_3_POS</th>\n",
       "      <th>ENG_4_POS</th>\n",
       "      <th>STR_ENG1</th>\n",
       "      <th>STR_ENG2</th>\n",
       "      <th>STR_ENG3</th>\n",
       "      <th>STR_ENG4</th>\n",
       "      <th>DAM_ENG1</th>\n",
       "      <th>DAM_ENG2</th>\n",
       "      <th>DAM_ENG3</th>\n",
       "      <th>DAM_ENG4</th>\n",
       "      <th>ING_ENG1</th>\n",
       "      <th>ING_ENG2</th>\n",
       "      <th>ING_ENG3</th>\n",
       "      <th>ING_ENG4</th>\n",
       "    </tr>\n",
       "  </thead>\n",
       "  <tbody>\n",
       "    <tr>\n",
       "      <th>0</th>\n",
       "      <td>2.0</td>\n",
       "      <td>1.0</td>\n",
       "      <td>1.0</td>\n",
       "      <td>NaN</td>\n",
       "      <td>NaN</td>\n",
       "      <td>False</td>\n",
       "      <td>False</td>\n",
       "      <td>NaN</td>\n",
       "      <td>NaN</td>\n",
       "      <td>False</td>\n",
       "      <td>False</td>\n",
       "      <td>NaN</td>\n",
       "      <td>NaN</td>\n",
       "      <td>False</td>\n",
       "      <td>False</td>\n",
       "      <td>NaN</td>\n",
       "      <td>NaN</td>\n",
       "    </tr>\n",
       "    <tr>\n",
       "      <th>1</th>\n",
       "      <td>2.0</td>\n",
       "      <td>1.0</td>\n",
       "      <td>1.0</td>\n",
       "      <td>NaN</td>\n",
       "      <td>NaN</td>\n",
       "      <td>True</td>\n",
       "      <td>False</td>\n",
       "      <td>NaN</td>\n",
       "      <td>NaN</td>\n",
       "      <td>False</td>\n",
       "      <td>False</td>\n",
       "      <td>NaN</td>\n",
       "      <td>NaN</td>\n",
       "      <td>False</td>\n",
       "      <td>False</td>\n",
       "      <td>NaN</td>\n",
       "      <td>NaN</td>\n",
       "    </tr>\n",
       "    <tr>\n",
       "      <th>2</th>\n",
       "      <td>2.0</td>\n",
       "      <td>1.0</td>\n",
       "      <td>1.0</td>\n",
       "      <td>NaN</td>\n",
       "      <td>NaN</td>\n",
       "      <td>False</td>\n",
       "      <td>True</td>\n",
       "      <td>NaN</td>\n",
       "      <td>NaN</td>\n",
       "      <td>False</td>\n",
       "      <td>False</td>\n",
       "      <td>NaN</td>\n",
       "      <td>NaN</td>\n",
       "      <td>False</td>\n",
       "      <td>False</td>\n",
       "      <td>NaN</td>\n",
       "      <td>NaN</td>\n",
       "    </tr>\n",
       "    <tr>\n",
       "      <th>3</th>\n",
       "      <td>2.0</td>\n",
       "      <td>1.0</td>\n",
       "      <td>1.0</td>\n",
       "      <td>NaN</td>\n",
       "      <td>NaN</td>\n",
       "      <td>False</td>\n",
       "      <td>False</td>\n",
       "      <td>NaN</td>\n",
       "      <td>NaN</td>\n",
       "      <td>False</td>\n",
       "      <td>False</td>\n",
       "      <td>NaN</td>\n",
       "      <td>NaN</td>\n",
       "      <td>False</td>\n",
       "      <td>False</td>\n",
       "      <td>NaN</td>\n",
       "      <td>NaN</td>\n",
       "    </tr>\n",
       "    <tr>\n",
       "      <th>4</th>\n",
       "      <td>2.0</td>\n",
       "      <td>1.0</td>\n",
       "      <td>1.0</td>\n",
       "      <td>NaN</td>\n",
       "      <td>NaN</td>\n",
       "      <td>True</td>\n",
       "      <td>False</td>\n",
       "      <td>NaN</td>\n",
       "      <td>NaN</td>\n",
       "      <td>False</td>\n",
       "      <td>False</td>\n",
       "      <td>NaN</td>\n",
       "      <td>NaN</td>\n",
       "      <td>False</td>\n",
       "      <td>False</td>\n",
       "      <td>NaN</td>\n",
       "      <td>NaN</td>\n",
       "    </tr>\n",
       "    <tr>\n",
       "      <th>...</th>\n",
       "      <td>...</td>\n",
       "      <td>...</td>\n",
       "      <td>...</td>\n",
       "      <td>...</td>\n",
       "      <td>...</td>\n",
       "      <td>...</td>\n",
       "      <td>...</td>\n",
       "      <td>...</td>\n",
       "      <td>...</td>\n",
       "      <td>...</td>\n",
       "      <td>...</td>\n",
       "      <td>...</td>\n",
       "      <td>...</td>\n",
       "      <td>...</td>\n",
       "      <td>...</td>\n",
       "      <td>...</td>\n",
       "      <td>...</td>\n",
       "    </tr>\n",
       "    <tr>\n",
       "      <th>288805</th>\n",
       "      <td>2.0</td>\n",
       "      <td>1.0</td>\n",
       "      <td>1.0</td>\n",
       "      <td>NaN</td>\n",
       "      <td>NaN</td>\n",
       "      <td>False</td>\n",
       "      <td>False</td>\n",
       "      <td>NaN</td>\n",
       "      <td>NaN</td>\n",
       "      <td>False</td>\n",
       "      <td>False</td>\n",
       "      <td>NaN</td>\n",
       "      <td>NaN</td>\n",
       "      <td>False</td>\n",
       "      <td>False</td>\n",
       "      <td>NaN</td>\n",
       "      <td>NaN</td>\n",
       "    </tr>\n",
       "    <tr>\n",
       "      <th>288806</th>\n",
       "      <td>2.0</td>\n",
       "      <td>5.0</td>\n",
       "      <td>5.0</td>\n",
       "      <td>NaN</td>\n",
       "      <td>NaN</td>\n",
       "      <td>False</td>\n",
       "      <td>False</td>\n",
       "      <td>NaN</td>\n",
       "      <td>NaN</td>\n",
       "      <td>False</td>\n",
       "      <td>False</td>\n",
       "      <td>NaN</td>\n",
       "      <td>NaN</td>\n",
       "      <td>False</td>\n",
       "      <td>False</td>\n",
       "      <td>NaN</td>\n",
       "      <td>NaN</td>\n",
       "    </tr>\n",
       "    <tr>\n",
       "      <th>288807</th>\n",
       "      <td>2.0</td>\n",
       "      <td>5.0</td>\n",
       "      <td>5.0</td>\n",
       "      <td>NaN</td>\n",
       "      <td>NaN</td>\n",
       "      <td>False</td>\n",
       "      <td>False</td>\n",
       "      <td>NaN</td>\n",
       "      <td>NaN</td>\n",
       "      <td>False</td>\n",
       "      <td>False</td>\n",
       "      <td>NaN</td>\n",
       "      <td>NaN</td>\n",
       "      <td>False</td>\n",
       "      <td>False</td>\n",
       "      <td>NaN</td>\n",
       "      <td>NaN</td>\n",
       "    </tr>\n",
       "    <tr>\n",
       "      <th>288808</th>\n",
       "      <td>2.0</td>\n",
       "      <td>4.0</td>\n",
       "      <td>4.0</td>\n",
       "      <td>NaN</td>\n",
       "      <td>NaN</td>\n",
       "      <td>False</td>\n",
       "      <td>False</td>\n",
       "      <td>NaN</td>\n",
       "      <td>NaN</td>\n",
       "      <td>False</td>\n",
       "      <td>False</td>\n",
       "      <td>NaN</td>\n",
       "      <td>NaN</td>\n",
       "      <td>False</td>\n",
       "      <td>False</td>\n",
       "      <td>NaN</td>\n",
       "      <td>NaN</td>\n",
       "    </tr>\n",
       "    <tr>\n",
       "      <th>288809</th>\n",
       "      <td>NaN</td>\n",
       "      <td>NaN</td>\n",
       "      <td>NaN</td>\n",
       "      <td>NaN</td>\n",
       "      <td>NaN</td>\n",
       "      <td>NaN</td>\n",
       "      <td>NaN</td>\n",
       "      <td>NaN</td>\n",
       "      <td>NaN</td>\n",
       "      <td>NaN</td>\n",
       "      <td>NaN</td>\n",
       "      <td>NaN</td>\n",
       "      <td>NaN</td>\n",
       "      <td>NaN</td>\n",
       "      <td>NaN</td>\n",
       "      <td>NaN</td>\n",
       "      <td>NaN</td>\n",
       "    </tr>\n",
       "  </tbody>\n",
       "</table>\n",
       "<p>288810 rows × 17 columns</p>\n",
       "</div>"
      ],
      "text/plain": [
       "        NUM_ENGS  ENG_1_POS  ENG_2_POS  ENG_3_POS  ENG_4_POS STR_ENG1  \\\n",
       "0            2.0        1.0        1.0        NaN        NaN    False   \n",
       "1            2.0        1.0        1.0        NaN        NaN     True   \n",
       "2            2.0        1.0        1.0        NaN        NaN    False   \n",
       "3            2.0        1.0        1.0        NaN        NaN    False   \n",
       "4            2.0        1.0        1.0        NaN        NaN     True   \n",
       "...          ...        ...        ...        ...        ...      ...   \n",
       "288805       2.0        1.0        1.0        NaN        NaN    False   \n",
       "288806       2.0        5.0        5.0        NaN        NaN    False   \n",
       "288807       2.0        5.0        5.0        NaN        NaN    False   \n",
       "288808       2.0        4.0        4.0        NaN        NaN    False   \n",
       "288809       NaN        NaN        NaN        NaN        NaN      NaN   \n",
       "\n",
       "       STR_ENG2 STR_ENG3 STR_ENG4 DAM_ENG1 DAM_ENG2 DAM_ENG3 DAM_ENG4  \\\n",
       "0         False      NaN      NaN    False    False      NaN      NaN   \n",
       "1         False      NaN      NaN    False    False      NaN      NaN   \n",
       "2          True      NaN      NaN    False    False      NaN      NaN   \n",
       "3         False      NaN      NaN    False    False      NaN      NaN   \n",
       "4         False      NaN      NaN    False    False      NaN      NaN   \n",
       "...         ...      ...      ...      ...      ...      ...      ...   \n",
       "288805    False      NaN      NaN    False    False      NaN      NaN   \n",
       "288806    False      NaN      NaN    False    False      NaN      NaN   \n",
       "288807    False      NaN      NaN    False    False      NaN      NaN   \n",
       "288808    False      NaN      NaN    False    False      NaN      NaN   \n",
       "288809      NaN      NaN      NaN      NaN      NaN      NaN      NaN   \n",
       "\n",
       "       ING_ENG1 ING_ENG2 ING_ENG3 ING_ENG4  \n",
       "0         False    False      NaN      NaN  \n",
       "1         False    False      NaN      NaN  \n",
       "2         False    False      NaN      NaN  \n",
       "3         False    False      NaN      NaN  \n",
       "4         False    False      NaN      NaN  \n",
       "...         ...      ...      ...      ...  \n",
       "288805    False    False      NaN      NaN  \n",
       "288806    False    False      NaN      NaN  \n",
       "288807    False    False      NaN      NaN  \n",
       "288808    False    False      NaN      NaN  \n",
       "288809      NaN      NaN      NaN      NaN  \n",
       "\n",
       "[288810 rows x 17 columns]"
      ]
     },
     "execution_count": 232,
     "metadata": {},
     "output_type": "execute_result"
    }
   ],
   "source": [
    "df_engine = df[['NUM_ENGS', 'ENG_1_POS', 'ENG_2_POS', 'ENG_3_POS', 'ENG_4_POS', 'STR_ENG1', 'STR_ENG2','STR_ENG3', 'STR_ENG4', 'DAM_ENG1',\n",
    "                   'DAM_ENG2', 'DAM_ENG3', 'DAM_ENG4', 'ING_ENG1', 'ING_ENG2', 'ING_ENG3', 'ING_ENG4']]\n",
    "df_engine"
   ]
  },
  {
   "cell_type": "code",
   "execution_count": 320,
   "metadata": {},
   "outputs": [
    {
     "name": "stderr",
     "output_type": "stream",
     "text": [
      "/var/folders/gf/dq2q27v16rxg12671zrdw3nm0000gn/T/ipykernel_22253/594635513.py:17: UserWarning:\n",
      "\n",
      "set_ticklabels() should only be used with a fixed number of ticks, i.e. after set_ticks() or using a FixedLocator.\n",
      "\n",
      "/var/folders/gf/dq2q27v16rxg12671zrdw3nm0000gn/T/ipykernel_22253/594635513.py:23: UserWarning:\n",
      "\n",
      "set_ticklabels() should only be used with a fixed number of ticks, i.e. after set_ticks() or using a FixedLocator.\n",
      "\n",
      "/var/folders/gf/dq2q27v16rxg12671zrdw3nm0000gn/T/ipykernel_22253/594635513.py:29: UserWarning:\n",
      "\n",
      "set_ticklabels() should only be used with a fixed number of ticks, i.e. after set_ticks() or using a FixedLocator.\n",
      "\n",
      "/var/folders/gf/dq2q27v16rxg12671zrdw3nm0000gn/T/ipykernel_22253/594635513.py:34: UserWarning:\n",
      "\n",
      "set_ticklabels() should only be used with a fixed number of ticks, i.e. after set_ticks() or using a FixedLocator.\n",
      "\n"
     ]
    },
    {
     "data": {
      "image/png": "[encoded data removed]",
      "text/plain": [
       "<Figure size 1800x800 with 4 Axes>"
      ]
     },
     "metadata": {},
     "output_type": "display_data"
    }
   ],
   "source": [
    "# Parts struck & damaged dataframes\n",
    "df_part_struck = df[['STR_ENG1','STR_ENG2','STR_ENG3','STR_ENG4','STR_RAD','STR_FUSE','STR_LG','STR_LGHTS','STR_NOSE','STR_OTHER','STR_PROP','STR_RAD','STR_TAIL','STR_WINDSHLD','STR_WING_ROT']]\n",
    "df_part_dam = df[['DAM_ENG1', 'DAM_ENG2','DAM_ENG3','DAM_ENG4','DAM_RAD','DAM_FUSE','DAM_LG','DAM_LGHTS','DAM_NOSE','DAM_OTHER','DAM_PROP','DAM_RAD','DAM_TAIL','DAM_WINDSHLD','DAM_WING_ROT']]\n",
    "\n",
    "# Mean and count of each column\n",
    "df_parts_struck_mean = df_part_struck.mean() * 100\n",
    "df_parts_dam_mean = df_part_dam.mean() * 100\n",
    "df_parts_struck_count = df_part_struck.sum()\n",
    "df_parts_dam_count = df_part_struck.sum()\n",
    "\n",
    "#Plot figure\n",
    "fig, axs = plt.subplots(2, 2, figsize=(18, 8))\n",
    "\n",
    "#  Plot strike percentage\n",
    "axs[0, 0].bar(df_parts_struck_mean.index , df_parts_struck_mean, color='skyblue')\n",
    "axs[0, 0].set_title('Average strike rate by part')\n",
    "axs[0, 0].set_xticklabels(df_parts_struck_mean.index, rotation=90)\n",
    "axs[0, 0].set_ylabel('Percentage')\n",
    "\n",
    "# Plot strike volume\n",
    "axs[1, 0].bar(df_parts_struck_count.index , df_parts_struck_count, color='skyblue')\n",
    "axs[1, 0].set_title('Strike volume by part')\n",
    "axs[1, 0].set_xticklabels(df_parts_struck_count.index, rotation=90)\n",
    "axs[1, 0].set_ylabel('Frequency')\n",
    "\n",
    "# Plot damage percentage\n",
    "axs[0, 1].bar(df_parts_dam_mean.index , df_parts_dam_mean, color='lightcoral')\n",
    "axs[0, 1].set_title('Average damage rate by part')\n",
    "axs[0, 1].set_xticklabels(df_parts_dam_mean.index, rotation=90)\n",
    "\n",
    "# Plot damage volume\n",
    "axs[1, 1].bar(df_parts_dam_mean.index , df_parts_dam_mean, color='lightcoral')\n",
    "axs[1, 1].set_title('Damage volume by part')\n",
    "axs[1, 1].set_xticklabels(df_parts_dam_mean.index, rotation=90)\n",
    "\n",
    "plt.tight_layout()\n",
    "plt.show()"
   ]
  },
  {
   "cell_type": "markdown",
   "metadata": {},
   "source": [
    "## Correlations"
   ]
  },
  {
   "cell_type": "code",
   "execution_count": 376,
   "metadata": {},
   "outputs": [
    {
     "name": "stdout",
     "output_type": "stream",
     "text": [
      "Cross Tabulation warned & indicated damage\n",
      "INDICATED_DAMAGE   False  True \n",
      "WARNED                         \n",
      "No                 54331   7314\n",
      "Unknown           167694   8533\n",
      "Yes                47043   3895\n",
      "\n",
      "Expected Frequencies for Perfect Independence:\n",
      "INDICATED_DAMAGE          False         True \n",
      "WARNED                                       \n",
      "No                 57431.172259   4213.827741\n",
      "Unknown           164180.763949  12046.236051\n",
      "Yes                47456.063793   3481.936207\n",
      "\n",
      "Chi-Square Statistic: 3600.5862988383888\n",
      "p-value: 0.0\n"
     ]
    }
   ],
   "source": [
    "# Crosstab between warning and struck indicator\n",
    "c_table_warned_damage = pd.crosstab(df['WARNED'], df['INDICATED_DAMAGE'])\n",
    "\n",
    "# Chi-square test \n",
    "chi2, p, dof, expected = stats.chi2_contingency(c_table_warned_damage)\n",
    "\n",
    "# Print results\n",
    "print('Cross Tabulation warned & indicated damage')\n",
    "print(c_table_warned_damage)\n",
    "\n",
    "# Expected frequency\n",
    "expected_result = pd.DataFrame(expected, index=c_table_warned_damage.index, columns=c_table_warned_damage.columns)\n",
    "print(\"\\nExpected Frequencies for Perfect Independence:\")\n",
    "print(expected_result)\n",
    "\n",
    "# print chi-quare and p-value\n",
    "print(\"\\nChi-Square Statistic:\", chi2)\n",
    "print(\"p-value:\", p)"
   ]
  },
  {
   "cell_type": "markdown",
   "metadata": {},
   "source": [
    "Takeaway\n",
    "- Based on the chi-square test, the discrepency between the observed and expectations frequency is very low\n",
    "- The significant association between warnings and indicated damage means that the 'WARNED' variable provides valuable information about the likelihood of INDICATED_DAMAGE. This insight could be useful for improving warning systems and mitigating damage effectively."
   ]
  },
  {
   "cell_type": "code",
   "execution_count": 378,
   "metadata": {},
   "outputs": [
    {
     "name": "stdout",
     "output_type": "stream",
     "text": [
      "Cross Tabulation warned & indicated damage\n",
      "SIZE                                           Large  Medium  Small\n",
      "EFFECT                                                             \n",
      "Aborted Take-off                                 615    1087   1132\n",
      "Aborted Take-off, Engine Shutdown                  6      15      6\n",
      "Aborted Take-off, Other                            2       1      1\n",
      "Engine Shutdown                                   98      80     61\n",
      "Engine Shutdown, Other                             1       4      4\n",
      "Engine Shutdown, Other, Precautionary Landing     14      24      3\n",
      "Engine Shutdown, Precautionary Landing            74     109     28\n",
      "None, Precautionary Landing                        0       0      1\n",
      "Other                                            825     541    343\n",
      "Other, Precautionary Landing                      77     114     99\n",
      "Precautionary Landing                           1665    2881   2589\n",
      "\n",
      "Expected Frequencies for Perfect Independence:\n",
      "SIZE                                                Large      Medium  \\\n",
      "EFFECT                                                                  \n",
      "Aborted Take-off                                765.63344  1100.95232   \n",
      "Aborted Take-off, Engine Shutdown                 7.29432    10.48896   \n",
      "Aborted Take-off, Other                           1.08064     1.55392   \n",
      "Engine Shutdown                                  64.56824    92.84672   \n",
      "Engine Shutdown, Other                            2.43144     3.49632   \n",
      "Engine Shutdown, Other, Precautionary Landing    11.07656    15.92768   \n",
      "Engine Shutdown, Precautionary Landing           57.00376    81.96928   \n",
      "None, Precautionary Landing                       0.27016     0.38848   \n",
      "Other                                           461.70344   663.91232   \n",
      "Other, Precautionary Landing                     78.34640   112.65920   \n",
      "Precautionary Landing                          1927.59160  2771.80480   \n",
      "\n",
      "SIZE                                                Small  \n",
      "EFFECT                                                     \n",
      "Aborted Take-off                                967.41424  \n",
      "Aborted Take-off, Engine Shutdown                 9.21672  \n",
      "Aborted Take-off, Other                           1.36544  \n",
      "Engine Shutdown                                  81.58504  \n",
      "Engine Shutdown, Other                            3.07224  \n",
      "Engine Shutdown, Other, Precautionary Landing    13.99576  \n",
      "Engine Shutdown, Precautionary Landing           72.02696  \n",
      "None, Precautionary Landing                       0.34136  \n",
      "Other                                           583.38424  \n",
      "Other, Precautionary Landing                     98.99440  \n",
      "Precautionary Landing                          2435.60360  \n",
      "\n",
      "Chi-Square Statistic: 601.4288290518148\n",
      "p-value: 1.4393455656115788e-114\n"
     ]
    }
   ],
   "source": [
    "# Crosstab between effect column and wildlife size column\n",
    "c_table_effect_size = pd.crosstab(df['EFFECT'], df['SIZE'])\n",
    "\n",
    "# Chi-square test \n",
    "chi2, p, dof, expected = stats.chi2_contingency(c_table_effect_size)\n",
    "\n",
    "# Print results\n",
    "print('Cross Tabulation warned & indicated damage')\n",
    "print(c_table_effect_size)\n",
    "\n",
    "# Expected frequency\n",
    "expected_result = pd.DataFrame(expected, index=c_table_effect_size.index, columns=c_table_effect_size.columns)\n",
    "print(\"\\nExpected Frequencies for Perfect Independence:\")\n",
    "print(expected_result)\n",
    "\n",
    "# print chi-quare and p-value\n",
    "print(\"\\nChi-Square Statistic:\", chi2)\n",
    "print(\"p-value:\", p)"
   ]
  },
  {
   "cell_type": "markdown",
   "metadata": {},
   "source": [
    "Takeaway\n",
    "- There is a statistically significant association between the 'SIZE' of the wildlife and the 'EFFECT' of the incident\n",
    "- Aborted Take-off: Observed counts are lower for encounters with Large wildlife (615) compared to the expected count (765.63), but higher for Medium (1087) and Small wildlife (1132) compared to their respective expected counts (1100.95 for Medium and 967.41 for Small)\n",
    "- Implementing specific safety measures and protocols based on wildlife size can enhance incident management and mitigation efforts\n",
    "- Focused strategies for dealing with Medium and Small wildlife, which show higher-than-expected instances of certain incident types, can improve overall safety and reduce the risk of severe outcomes\n"
   ]
  }
 ],
 "metadata": {
  "kernelspec": {
   "display_name": "Python 3",
   "language": "python",
   "name": "python3"
  },
  "language_info": {
   "codemirror_mode": {
    "name": "ipython",
    "version": 3
   },
   "file_extension": ".py",
   "mimetype": "text/x-python",
   "name": "python",
   "nbconvert_exporter": "python",
   "pygments_lexer": "ipython3",
   "version": "3.12.4"
  }
 },
 "nbformat": 4,
 "nbformat_minor": 2
}
